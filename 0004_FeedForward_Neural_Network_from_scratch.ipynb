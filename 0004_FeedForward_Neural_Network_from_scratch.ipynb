{
  "nbformat": 4,
  "nbformat_minor": 0,
  "metadata": {
    "colab": {
      "provenance": [],
      "gpuType": "T4",
      "include_colab_link": true
    },
    "kernelspec": {
      "name": "python3",
      "display_name": "Python 3"
    },
    "language_info": {
      "name": "python"
    },
    "accelerator": "GPU"
  },
  "cells": [
    {
      "cell_type": "markdown",
      "metadata": {
        "id": "view-in-github",
        "colab_type": "text"
      },
      "source": [
        "<a href=\"https://colab.research.google.com/github/sakunisgithub/machine_learning/blob/master/0004_FeedForward_Neural_Network_from_scratch.ipynb\" target=\"_parent\"><img src=\"https://colab.research.google.com/assets/colab-badge.svg\" alt=\"Open In Colab\"/></a>"
      ]
    },
    {
      "cell_type": "markdown",
      "source": [
        "# Objective"
      ],
      "metadata": {
        "id": "0zcq0sCwnsFK"
      }
    },
    {
      "cell_type": "markdown",
      "source": [
        "Here I take on $\\textbf{MNIST Handwritten Digits}$ dataset and build a fully connected $\\textbf{FeedForward Neural Network from scratch}$ with self implementation of\n",
        "\n",
        "$\\bullet$ Forward Propagation,\n",
        "\n",
        "$\\bullet$ Backward Propagation,\n",
        "\n",
        "$\\bullet$ Gradient Descent."
      ],
      "metadata": {
        "id": "9V4xrOwynucT"
      }
    },
    {
      "cell_type": "markdown",
      "source": [
        "# The Math"
      ],
      "metadata": {
        "id": "TItGx3tpuPgN"
      }
    },
    {
      "cell_type": "markdown",
      "source": [
        "<img src = \"https://raw.githubusercontent.com/sakunisgithub/data_sets/refs/heads/master/backpropagation.jpg\">"
      ],
      "metadata": {
        "id": "p4L-exxGuRPd"
      }
    },
    {
      "cell_type": "markdown",
      "source": [
        "# Necessary Imports"
      ],
      "metadata": {
        "id": "eJxKh6w2lgIj"
      }
    },
    {
      "cell_type": "code",
      "execution_count": null,
      "metadata": {
        "id": "w29TOj1wgNos"
      },
      "outputs": [],
      "source": [
        "import numpy as np\n",
        "import cupy as cp\n",
        "\n",
        "from matplotlib import pyplot as plt\n",
        "\n",
        "import tensorflow as tf # for loading data"
      ]
    },
    {
      "cell_type": "markdown",
      "source": [
        "# Loading the data"
      ],
      "metadata": {
        "id": "2gAlIDiWlqDm"
      }
    },
    {
      "cell_type": "code",
      "source": [
        "(x_train, y_train), (x_test, y_test) = tf.keras.datasets.mnist.load_data()"
      ],
      "metadata": {
        "id": "mURe2XJ1hX8J",
        "colab": {
          "base_uri": "https://localhost:8080/"
        },
        "outputId": "8a4997f3-598c-48cf-c871-e9e7982d4cbb"
      },
      "execution_count": null,
      "outputs": [
        {
          "output_type": "stream",
          "name": "stdout",
          "text": [
            "Downloading data from https://storage.googleapis.com/tensorflow/tf-keras-datasets/mnist.npz\n",
            "\u001b[1m11490434/11490434\u001b[0m \u001b[32m━━━━━━━━━━━━━━━━━━━━\u001b[0m\u001b[37m\u001b[0m \u001b[1m2s\u001b[0m 0us/step\n"
          ]
        }
      ]
    },
    {
      "cell_type": "code",
      "source": [
        "print(f\"Train images : {x_train.shape}\")\n",
        "print(f\"Train labels : {y_train.shape}\")\n",
        "\n",
        "print(f\"Test images : {x_test.shape}\")\n",
        "print(f\"Test labels : {y_test.shape}\")"
      ],
      "metadata": {
        "colab": {
          "base_uri": "https://localhost:8080/"
        },
        "id": "UWw0yoPBpbqs",
        "outputId": "2b2abd1a-3978-4e03-a020-816d4353399c"
      },
      "execution_count": null,
      "outputs": [
        {
          "output_type": "stream",
          "name": "stdout",
          "text": [
            "Train images : (60000, 28, 28)\n",
            "Train labels : (60000,)\n",
            "Test images : (10000, 28, 28)\n",
            "Test labels : (10000,)\n"
          ]
        }
      ]
    },
    {
      "cell_type": "markdown",
      "source": [
        "# Hovering over the data"
      ],
      "metadata": {
        "id": "4mTtb_28l75-"
      }
    },
    {
      "cell_type": "code",
      "source": [
        "index = np.random.randint(low = 0, high = 60000, size = 10)\n",
        "\n",
        "fig, axes = plt.subplots(2, 5)\n",
        "\n",
        "for i, ax in enumerate(axes.flat) :\n",
        "  ax.imshow(x_train[index[i]], cmap = \"gray\")\n",
        "  ax.axis('off')\n",
        "  ax.set_title(f\"label = {y_train[index[i]]}\")\n",
        "\n",
        "fig.suptitle(\"Sample Handwritten Digits with Labels\")\n",
        "\n",
        "plt.show()"
      ],
      "metadata": {
        "colab": {
          "base_uri": "https://localhost:8080/",
          "height": 413
        },
        "id": "hyibh4S3rEXq",
        "outputId": "666be2cb-7068-4d11-f35f-ba0cefc576c2"
      },
      "execution_count": null,
      "outputs": [
        {
          "output_type": "display_data",
          "data": {
            "text/plain": [
              "<Figure size 640x480 with 10 Axes>"
            ],
            "image/png": "[encoded data removed]"
          },
          "metadata": {}
        }
      ]
    },
    {
      "cell_type": "code",
      "source": [
        "X = x_train.reshape(60000, 784).T / np.max(x_train)\n",
        "X = cp.array(X)\n",
        "print(X.shape)"
      ],
      "metadata": {
        "colab": {
          "base_uri": "https://localhost:8080/"
        },
        "id": "eSie5SyDBOpG",
        "outputId": "3997537d-8c64-494e-9ed9-d409703b5603"
      },
      "execution_count": null,
      "outputs": [
        {
          "output_type": "stream",
          "name": "stdout",
          "text": [
            "(784, 60000)\n"
          ]
        }
      ]
    },
    {
      "cell_type": "code",
      "source": [
        "n, m = X.shape"
      ],
      "metadata": {
        "id": "LLztIDlhlHO9"
      },
      "execution_count": null,
      "outputs": []
    },
    {
      "cell_type": "markdown",
      "source": [
        "# Some Preliminaries"
      ],
      "metadata": {
        "id": "GDP9lApMmfOl"
      }
    },
    {
      "cell_type": "markdown",
      "source": [
        "## Activation Function and its derivative"
      ],
      "metadata": {
        "id": "noOhcdgjmk4K"
      }
    },
    {
      "cell_type": "code",
      "source": [
        "def ReLU(x) :\n",
        "  return cp.maximum(0, x)"
      ],
      "metadata": {
        "id": "PJHJk2lVChsc"
      },
      "execution_count": null,
      "outputs": []
    },
    {
      "cell_type": "code",
      "source": [
        "def ReLU_dash(x) :\n",
        "  return cp.array(x > 0, dtype = cp.int8)"
      ],
      "metadata": {
        "id": "lyGYJBGWSJzO"
      },
      "execution_count": null,
      "outputs": []
    },
    {
      "cell_type": "markdown",
      "source": [
        "## Output Function"
      ],
      "metadata": {
        "id": "1y9DKixHm0bH"
      }
    },
    {
      "cell_type": "code",
      "source": [
        "def Softmax(x):\n",
        "    exp_shifted = cp.exp(x - cp.max(x, axis=0, keepdims=True))\n",
        "    return exp_shifted / cp.sum(exp_shifted, axis=0, keepdims=True)"
      ],
      "metadata": {
        "id": "y4DF8OPGscg3"
      },
      "execution_count": null,
      "outputs": []
    },
    {
      "cell_type": "markdown",
      "source": [
        "## One-hot encoding"
      ],
      "metadata": {
        "id": "0u5Pq-fVm788"
      }
    },
    {
      "cell_type": "code",
      "source": [
        "def one_hot(x) :\n",
        "  return cp.array(cp.arange(10) == x, dtype = cp.int8)"
      ],
      "metadata": {
        "id": "usDhd-hmN2g-"
      },
      "execution_count": null,
      "outputs": []
    },
    {
      "cell_type": "code",
      "source": [
        "train_labels = cp.empty((10, 60000))\n",
        "\n",
        "for i in range(60000) :\n",
        "  train_labels[:, i] = one_hot(y_train[i])"
      ],
      "metadata": {
        "id": "SFMgVntUL765"
      },
      "execution_count": null,
      "outputs": []
    },
    {
      "cell_type": "markdown",
      "source": [
        "# Parameter Initialization"
      ],
      "metadata": {
        "id": "eV2sI5f1m-eb"
      }
    },
    {
      "cell_type": "markdown",
      "source": [
        "$\\spadesuit$ We construct a neural network with\n",
        "\n",
        "$\\bullet$ an $\\textbf{input layer}$ with 784 neurones,\n",
        "\n",
        "$\\bullet$ $\\textbf{two hidden layers}$ with 500 and 150 neurones respectively,\n",
        "\n",
        "$\\bullet$ an $\\textbf{output layer}$ with 10 neurones.\n",
        "\n"
      ],
      "metadata": {
        "id": "HKuamrK01W4K"
      }
    },
    {
      "cell_type": "markdown",
      "source": [
        "$\\bullet$ At the hidden layers, $\\textbf{ReLU}$ is used as an activation function,\n",
        "\n",
        "$\\bullet$ At the output layer, $\\textbf{Softmax}$ is used as activation function.\n",
        "\n",
        "$\\bullet$ $\\textbf{Average Sparse Categorical Cross-Entropy}$ is the loss function here."
      ],
      "metadata": {
        "id": "mJiWdKCLp07r"
      }
    },
    {
      "cell_type": "code",
      "source": [
        "def init_params() :\n",
        "  W1 = cp.random.randn(500, 784) * 0.01\n",
        "  b1 = cp.zeros((500, 1))\n",
        "\n",
        "  W2 = cp.random.randn(150, 500) * 0.01\n",
        "  b2 = cp.zeros((150, 1))\n",
        "\n",
        "  W3 = cp.random.randn(10, 150) * 0.01\n",
        "  b3 = cp.zeros((10, 1))\n",
        "\n",
        "  return W1, b1, W2, b2, W3, b3"
      ],
      "metadata": {
        "id": "SxNzwFV_Bzdp"
      },
      "execution_count": null,
      "outputs": []
    },
    {
      "cell_type": "markdown",
      "source": [
        "# Forward Propagation"
      ],
      "metadata": {
        "id": "rzSCx8qRnCIS"
      }
    },
    {
      "cell_type": "code",
      "source": [
        "def forward_propagation(W1, b1, W2, b2, W3, b3, X) :\n",
        "  A1 = cp.dot(W1, X) + b1\n",
        "  H1 = ReLU(A1)\n",
        "\n",
        "  A2 = cp.dot(W2, H1) + b2\n",
        "  H2 = ReLU(A2)\n",
        "\n",
        "  A3 = cp.dot(W3, H2) + b3\n",
        "  H3 = Softmax(A3)\n",
        "\n",
        "  return A1, H1, A2, H2, A3, H3"
      ],
      "metadata": {
        "id": "m6n8nBC3Cq8y"
      },
      "execution_count": null,
      "outputs": []
    },
    {
      "cell_type": "markdown",
      "source": [
        "# Backward Propagation"
      ],
      "metadata": {
        "id": "QeAqxs2WnHbf"
      }
    },
    {
      "cell_type": "code",
      "source": [
        "def backward_propagation(W1, b1, W2, b2, W3, b3, Y_hat, A1, A2, H1, H2, A3, H3, X, train_labels) :\n",
        "  # output layer\n",
        "  d_A3 = (Y_hat - train_labels) / m\n",
        "\n",
        "  d_W3 = cp.dot(d_A3, H2.T)\n",
        "  d_b3 = cp.sum(d_A3, axis=1, keepdims=True)\n",
        "\n",
        "  # hidden layer 2\n",
        "  d_H2 = cp.dot(W3.T, d_A3)\n",
        "\n",
        "  d_A2 = d_H2 * ReLU_dash(A2)\n",
        "\n",
        "  d_W2 = cp.dot(d_A2, H1.T)\n",
        "  d_b2 = cp.sum(d_A2, axis=1, keepdims=True)\n",
        "\n",
        "  # hidden layer 1\n",
        "  d_H1 = cp.dot(W2.T, d_A2)\n",
        "\n",
        "  d_A1 = d_H1 * ReLU_dash(A1)\n",
        "\n",
        "  d_W1 = cp.dot(d_A1, X.T)\n",
        "  d_b1 = cp.sum(d_A1, axis=1, keepdims=True)\n",
        "\n",
        "  return d_W1, d_b1, d_W2, d_b2, d_W3, d_b3"
      ],
      "metadata": {
        "id": "SK0YWz6cLaKv"
      },
      "execution_count": null,
      "outputs": []
    },
    {
      "cell_type": "markdown",
      "source": [
        "# Gradient Descent"
      ],
      "metadata": {
        "id": "xlgNew3SnJxM"
      }
    },
    {
      "cell_type": "code",
      "source": [
        "def gradient_descent(iterations, eta) :\n",
        "\n",
        "  t = iterations\n",
        "\n",
        "  W1, b1, W2, b2, W3, b3 = init_params()\n",
        "\n",
        "  i = 1\n",
        "\n",
        "  while(i <= t) :\n",
        "    # forward propagation\n",
        "    A1, H1, A2, H2, A3, H3 = forward_propagation(W1, b1, W2, b2, W3, b3, X)\n",
        "\n",
        "    Y_hat = H3\n",
        "\n",
        "    # backward propagation\n",
        "    d_W1, d_b1, d_W2, d_b2, d_W3, d_b3 = backward_propagation(W1, b1, W2, b2, W3, b3, Y_hat, A1, A2, H1, H2, A3, H3, X, train_labels)\n",
        "\n",
        "    # update parameters\n",
        "    W1 = W1 - eta * d_W1\n",
        "    W2 = W2 - eta * d_W2\n",
        "    W3 = W3 - eta * d_W3\n",
        "\n",
        "    b1 = b1 - eta * d_b1\n",
        "    b2 = b2 - eta * d_b2\n",
        "    b3 = b3 - eta * d_b3\n",
        "\n",
        "    i = i + 1\n",
        "\n",
        "    if(i % 10 == 0) :\n",
        "      loss = -cp.mean(cp.sum(train_labels * cp.log(Y_hat + 1e-8), axis=0))\n",
        "      print(f\"Iteration {i}, Loss: {loss:.4f}\")\n",
        "\n",
        "  return W1, b1, W2, b2, W3, b3"
      ],
      "metadata": {
        "id": "EDvakjQ5VpsR"
      },
      "execution_count": null,
      "outputs": []
    },
    {
      "cell_type": "markdown",
      "source": [
        "# Model Training"
      ],
      "metadata": {
        "id": "12tgKTTcnQ4z"
      }
    },
    {
      "cell_type": "code",
      "source": [
        "W1, b1, W2, b2, W3, b3 = gradient_descent(iterations=1000, eta=0.1)"
      ],
      "metadata": {
        "colab": {
          "base_uri": "https://localhost:8080/"
        },
        "id": "xno7_LntYAdk",
        "outputId": "05f46f63-8e90-40f9-f3ba-8be755f28e85"
      },
      "execution_count": null,
      "outputs": [
        {
          "output_type": "stream",
          "name": "stdout",
          "text": [
            "Iteration 10, Loss: 2.3020\n",
            "Iteration 20, Loss: 2.3013\n",
            "Iteration 30, Loss: 2.3007\n",
            "Iteration 40, Loss: 2.3000\n",
            "Iteration 50, Loss: 2.2993\n",
            "Iteration 60, Loss: 2.2984\n",
            "Iteration 70, Loss: 2.2974\n",
            "Iteration 80, Loss: 2.2961\n",
            "Iteration 90, Loss: 2.2944\n",
            "Iteration 100, Loss: 2.2921\n",
            "Iteration 110, Loss: 2.2889\n",
            "Iteration 120, Loss: 2.2843\n",
            "Iteration 130, Loss: 2.2772\n",
            "Iteration 140, Loss: 2.2660\n",
            "Iteration 150, Loss: 2.2470\n",
            "Iteration 160, Loss: 2.2146\n",
            "Iteration 170, Loss: 2.1622\n",
            "Iteration 180, Loss: 2.0902\n",
            "Iteration 190, Loss: 1.9987\n",
            "Iteration 200, Loss: 1.8743\n",
            "Iteration 210, Loss: 1.7151\n",
            "Iteration 220, Loss: 1.5459\n",
            "Iteration 230, Loss: 1.3899\n",
            "Iteration 240, Loss: 1.2518\n",
            "Iteration 250, Loss: 1.1238\n",
            "Iteration 260, Loss: 1.0097\n",
            "Iteration 270, Loss: 0.9187\n",
            "Iteration 280, Loss: 0.8507\n",
            "Iteration 290, Loss: 0.7999\n",
            "Iteration 300, Loss: 0.7605\n",
            "Iteration 310, Loss: 0.7287\n",
            "Iteration 320, Loss: 0.7019\n",
            "Iteration 330, Loss: 0.6785\n",
            "Iteration 340, Loss: 0.6575\n",
            "Iteration 350, Loss: 0.6381\n",
            "Iteration 360, Loss: 0.6200\n",
            "Iteration 370, Loss: 0.6028\n",
            "Iteration 380, Loss: 0.5864\n",
            "Iteration 390, Loss: 0.5708\n",
            "Iteration 400, Loss: 0.5560\n",
            "Iteration 410, Loss: 0.5422\n",
            "Iteration 420, Loss: 0.5294\n",
            "Iteration 430, Loss: 0.5175\n",
            "Iteration 440, Loss: 0.5067\n",
            "Iteration 450, Loss: 0.4967\n",
            "Iteration 460, Loss: 0.4875\n",
            "Iteration 470, Loss: 0.4790\n",
            "Iteration 480, Loss: 0.4710\n",
            "Iteration 490, Loss: 0.4637\n",
            "Iteration 500, Loss: 0.4567\n",
            "Iteration 510, Loss: 0.4502\n",
            "Iteration 520, Loss: 0.4439\n",
            "Iteration 530, Loss: 0.4380\n",
            "Iteration 540, Loss: 0.4324\n",
            "Iteration 550, Loss: 0.4270\n",
            "Iteration 560, Loss: 0.4218\n",
            "Iteration 570, Loss: 0.4169\n",
            "Iteration 580, Loss: 0.4121\n",
            "Iteration 590, Loss: 0.4075\n",
            "Iteration 600, Loss: 0.4030\n",
            "Iteration 610, Loss: 0.3987\n",
            "Iteration 620, Loss: 0.3945\n",
            "Iteration 630, Loss: 0.3905\n",
            "Iteration 640, Loss: 0.3866\n",
            "Iteration 650, Loss: 0.3828\n",
            "Iteration 660, Loss: 0.3791\n",
            "Iteration 670, Loss: 0.3755\n",
            "Iteration 680, Loss: 0.3720\n",
            "Iteration 690, Loss: 0.3686\n",
            "Iteration 700, Loss: 0.3653\n",
            "Iteration 710, Loss: 0.3620\n",
            "Iteration 720, Loss: 0.3589\n",
            "Iteration 730, Loss: 0.3558\n",
            "Iteration 740, Loss: 0.3529\n",
            "Iteration 750, Loss: 0.3499\n",
            "Iteration 760, Loss: 0.3471\n",
            "Iteration 770, Loss: 0.3443\n",
            "Iteration 780, Loss: 0.3416\n",
            "Iteration 790, Loss: 0.3389\n",
            "Iteration 800, Loss: 0.3363\n",
            "Iteration 810, Loss: 0.3338\n",
            "Iteration 820, Loss: 0.3313\n",
            "Iteration 830, Loss: 0.3288\n",
            "Iteration 840, Loss: 0.3264\n",
            "Iteration 850, Loss: 0.3240\n",
            "Iteration 860, Loss: 0.3217\n",
            "Iteration 870, Loss: 0.3194\n",
            "Iteration 880, Loss: 0.3171\n",
            "Iteration 890, Loss: 0.3148\n",
            "Iteration 900, Loss: 0.3126\n",
            "Iteration 910, Loss: 0.3104\n",
            "Iteration 920, Loss: 0.3082\n",
            "Iteration 930, Loss: 0.3061\n",
            "Iteration 940, Loss: 0.3039\n",
            "Iteration 950, Loss: 0.3018\n",
            "Iteration 960, Loss: 0.2998\n",
            "Iteration 970, Loss: 0.2977\n",
            "Iteration 980, Loss: 0.2957\n",
            "Iteration 990, Loss: 0.2937\n",
            "Iteration 1000, Loss: 0.2916\n"
          ]
        }
      ]
    },
    {
      "cell_type": "markdown",
      "source": [
        "# Accuracy"
      ],
      "metadata": {
        "id": "RW381gfYnYKL"
      }
    },
    {
      "cell_type": "code",
      "source": [
        "def get_predictions(x):\n",
        "    return cp.argmax(x, axis=0)\n",
        "\n",
        "def get_accuracy(predictions, Y):\n",
        "    return cp.mean(predictions == Y) * 100"
      ],
      "metadata": {
        "id": "hbEYTrZpzRZK"
      },
      "execution_count": null,
      "outputs": []
    },
    {
      "cell_type": "code",
      "source": [
        "A1_test, H1_test, A2_test, H2_test, A3_test, H3_test = forward_propagation(W1, b1, W2, b2, W3, b3, cp.array(x_test.reshape(10000, 784)).T)\n",
        "\n",
        "# H3_test to get predictions\n",
        "predictions = get_predictions(H3_test)\n",
        "\n",
        "accuracy = get_accuracy(predictions, cp.array(y_test))\n",
        "print(\"Test set accuracy: {:.2f}%\".format(accuracy))"
      ],
      "metadata": {
        "colab": {
          "base_uri": "https://localhost:8080/"
        },
        "id": "R_GjvIFH13so",
        "outputId": "8d7d45c3-9e93-4d0b-b492-2734ff94e46f"
      },
      "execution_count": null,
      "outputs": [
        {
          "output_type": "stream",
          "name": "stdout",
          "text": [
            "Test set accuracy: 90.95%\n"
          ]
        }
      ]
    }
  ]
}