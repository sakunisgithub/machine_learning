{
  "nbformat": 4,
  "nbformat_minor": 0,
  "metadata": {
    "colab": {
      "provenance": [],
      "authorship_tag": "ABX9TyOEWItI9EdmdDCVMwuYtxtC",
      "include_colab_link": true
    },
    "kernelspec": {
      "name": "python3",
      "display_name": "Python 3"
    },
    "language_info": {
      "name": "python"
    }
  },
  "cells": [
    {
      "cell_type": "markdown",
      "metadata": {
        "id": "view-in-github",
        "colab_type": "text"
      },
      "source": [
        "<a href=\"https://colab.research.google.com/github/sakunisgithub/machine_learning/blob/master/0007_word2vec_GoogleNews_300.ipynb\" target=\"_parent\"><img src=\"https://colab.research.google.com/assets/colab-badge.svg\" alt=\"Open In Colab\"/></a>"
      ]
    },
    {
      "cell_type": "code",
      "source": [
        "!pip install gensim"
      ],
      "metadata": {
        "colab": {
          "base_uri": "https://localhost:8080/"
        },
        "id": "DURbFK9Sg_kK",
        "outputId": "5a899317-9289-4629-9407-84960f9ad2bb"
      },
      "execution_count": null,
      "outputs": [
        {
          "output_type": "stream",
          "name": "stdout",
          "text": [
            "Requirement already satisfied: gensim in /usr/local/lib/python3.11/dist-packages (4.3.3)\n",
            "Requirement already satisfied: numpy<2.0,>=1.18.5 in /usr/local/lib/python3.11/dist-packages (from gensim) (1.26.4)\n",
            "Requirement already satisfied: scipy<1.14.0,>=1.7.0 in /usr/local/lib/python3.11/dist-packages (from gensim) (1.13.1)\n",
            "Requirement already satisfied: smart-open>=1.8.1 in /usr/local/lib/python3.11/dist-packages (from gensim) (7.1.0)\n",
            "Requirement already satisfied: wrapt in /usr/local/lib/python3.11/dist-packages (from smart-open>=1.8.1->gensim) (1.17.2)\n"
          ]
        }
      ]
    },
    {
      "cell_type": "code",
      "execution_count": null,
      "metadata": {
        "id": "mO4lrAe6bMA-"
      },
      "outputs": [],
      "source": [
        "from gensim.models import Word2Vec, KeyedVectors"
      ]
    },
    {
      "cell_type": "code",
      "source": [
        "import gensim.downloader as api"
      ],
      "metadata": {
        "id": "xEbh0f0Qbc4p"
      },
      "execution_count": null,
      "outputs": []
    },
    {
      "cell_type": "code",
      "source": [
        "wv = api.load('word2vec-google-news-300')"
      ],
      "metadata": {
        "colab": {
          "base_uri": "https://localhost:8080/"
        },
        "id": "gOV7el8KsXVf",
        "outputId": "4eb9e3fd-dabb-4ea4-903a-46c9798d59ad"
      },
      "execution_count": null,
      "outputs": [
        {
          "output_type": "stream",
          "name": "stdout",
          "text": [
            "[==================================================] 100.0% 1662.8/1662.8MB downloaded\n"
          ]
        }
      ]
    },
    {
      "cell_type": "code",
      "source": [
        "model_save_path = 'word2vec-google-news-300.model'\n",
        "wv.save(model_save_path)"
      ],
      "metadata": {
        "id": "MDTPkXfswzsR"
      },
      "execution_count": null,
      "outputs": []
    },
    {
      "cell_type": "code",
      "source": [
        "!ls"
      ],
      "metadata": {
        "colab": {
          "base_uri": "https://localhost:8080/"
        },
        "id": "w-5QDIC8ySYT",
        "outputId": "e9c41a0e-00f1-45e4-db00-45b07c0a890b"
      },
      "execution_count": 16,
      "outputs": [
        {
          "output_type": "stream",
          "name": "stdout",
          "text": [
            "sample_data\t\t\tword2vec-google-news-300.model.vectors.npy\n",
            "word2vec-google-news-300.model\n"
          ]
        }
      ]
    },
    {
      "cell_type": "code",
      "source": [
        "model = KeyedVectors.load(model_save_path)"
      ],
      "metadata": {
        "id": "AAhe4RjYhSqY"
      },
      "execution_count": null,
      "outputs": []
    },
    {
      "cell_type": "code",
      "source": [
        "dir(model)"
      ],
      "metadata": {
        "colab": {
          "base_uri": "https://localhost:8080/"
        },
        "id": "RMgMfWkd0aw6",
        "outputId": "222d5c88-d4aa-4bb8-96a3-10aa2afc0a5a"
      },
      "execution_count": 17,
      "outputs": [
        {
          "output_type": "execute_result",
          "data": {
            "text/plain": [
              "['__class__',\n",
              " '__contains__',\n",
              " '__delattr__',\n",
              " '__dict__',\n",
              " '__dir__',\n",
              " '__doc__',\n",
              " '__eq__',\n",
              " '__format__',\n",
              " '__ge__',\n",
              " '__getattribute__',\n",
              " '__getitem__',\n",
              " '__getstate__',\n",
              " '__gt__',\n",
              " '__hash__',\n",
              " '__ignoreds',\n",
              " '__init__',\n",
              " '__init_subclass__',\n",
              " '__le__',\n",
              " '__len__',\n",
              " '__lt__',\n",
              " '__module__',\n",
              " '__ne__',\n",
              " '__new__',\n",
              " '__numpys',\n",
              " '__recursive_saveloads',\n",
              " '__reduce__',\n",
              " '__reduce_ex__',\n",
              " '__repr__',\n",
              " '__scipys',\n",
              " '__setattr__',\n",
              " '__setitem__',\n",
              " '__sizeof__',\n",
              " '__slotnames__',\n",
              " '__str__',\n",
              " '__subclasshook__',\n",
              " '__weakref__',\n",
              " '_adapt_by_suffix',\n",
              " '_load_specials',\n",
              " '_log_evaluate_word_analogies',\n",
              " '_save_specials',\n",
              " '_smart_save',\n",
              " '_upconvert_old_d2vkv',\n",
              " '_upconvert_old_vocab',\n",
              " 'add_lifecycle_event',\n",
              " 'add_vector',\n",
              " 'add_vectors',\n",
              " 'allocate_vecattrs',\n",
              " 'closer_than',\n",
              " 'cosine_similarities',\n",
              " 'distance',\n",
              " 'distances',\n",
              " 'doesnt_match',\n",
              " 'evaluate_word_analogies',\n",
              " 'evaluate_word_pairs',\n",
              " 'expandos',\n",
              " 'fill_norms',\n",
              " 'get_index',\n",
              " 'get_mean_vector',\n",
              " 'get_normed_vectors',\n",
              " 'get_vecattr',\n",
              " 'get_vector',\n",
              " 'has_index_for',\n",
              " 'index2entity',\n",
              " 'index2word',\n",
              " 'index_to_key',\n",
              " 'init_sims',\n",
              " 'intersect_word2vec_format',\n",
              " 'key_to_index',\n",
              " 'lifecycle_events',\n",
              " 'load',\n",
              " 'load_word2vec_format',\n",
              " 'log_accuracy',\n",
              " 'log_evaluate_word_pairs',\n",
              " 'mapfile_path',\n",
              " 'most_similar',\n",
              " 'most_similar_cosmul',\n",
              " 'most_similar_to_given',\n",
              " 'n_similarity',\n",
              " 'next_index',\n",
              " 'norms',\n",
              " 'rank',\n",
              " 'rank_by_centrality',\n",
              " 'relative_cosine_similarity',\n",
              " 'resize_vectors',\n",
              " 'save',\n",
              " 'save_word2vec_format',\n",
              " 'set_vecattr',\n",
              " 'similar_by_key',\n",
              " 'similar_by_vector',\n",
              " 'similar_by_word',\n",
              " 'similarity',\n",
              " 'similarity_unseen_docs',\n",
              " 'sort_by_descending_frequency',\n",
              " 'unit_normalize_all',\n",
              " 'vector_size',\n",
              " 'vectors',\n",
              " 'vectors_for_all',\n",
              " 'vectors_norm',\n",
              " 'vocab',\n",
              " 'wmdistance',\n",
              " 'word_vec',\n",
              " 'words_closer_than']"
            ]
          },
          "metadata": {},
          "execution_count": 17
        }
      ]
    },
    {
      "cell_type": "code",
      "source": [
        "model['king'].shape"
      ],
      "metadata": {
        "colab": {
          "base_uri": "https://localhost:8080/"
        },
        "id": "B5NOizsqxdP0",
        "outputId": "8a9b181c-3b65-4137-bc18-acc55d3c623f"
      },
      "execution_count": null,
      "outputs": [
        {
          "output_type": "execute_result",
          "data": {
            "text/plain": [
              "(300,)"
            ]
          },
          "metadata": {},
          "execution_count": 12
        }
      ]
    },
    {
      "cell_type": "code",
      "source": [
        "model.similarity('man', 'woman')"
      ],
      "metadata": {
        "colab": {
          "base_uri": "https://localhost:8080/"
        },
        "id": "iLes7uET0lqo",
        "outputId": "578ce54d-5f98-4313-f872-9127298478e8"
      },
      "execution_count": 18,
      "outputs": [
        {
          "output_type": "execute_result",
          "data": {
            "text/plain": [
              "0.76640123"
            ]
          },
          "metadata": {},
          "execution_count": 18
        }
      ]
    },
    {
      "cell_type": "code",
      "source": [
        "model.similarity('king', 'queen')"
      ],
      "metadata": {
        "colab": {
          "base_uri": "https://localhost:8080/"
        },
        "id": "Usi1iOL20qA2",
        "outputId": "f9671a7a-7c0b-4d3f-dac7-e7c8d6da2606"
      },
      "execution_count": 20,
      "outputs": [
        {
          "output_type": "execute_result",
          "data": {
            "text/plain": [
              "0.6510957"
            ]
          },
          "metadata": {},
          "execution_count": 20
        }
      ]
    },
    {
      "cell_type": "code",
      "source": [
        "model.similarity('woman', 'kitchen')"
      ],
      "metadata": {
        "colab": {
          "base_uri": "https://localhost:8080/"
        },
        "id": "9fI2n56Z017v",
        "outputId": "11cbd297-8eec-4de5-cd44-9ab6c8ba90ef"
      },
      "execution_count": 21,
      "outputs": [
        {
          "output_type": "execute_result",
          "data": {
            "text/plain": [
              "0.13754271"
            ]
          },
          "metadata": {},
          "execution_count": 21
        }
      ]
    },
    {
      "cell_type": "code",
      "source": [
        "model.similarity('good', 'bad')"
      ],
      "metadata": {
        "colab": {
          "base_uri": "https://localhost:8080/"
        },
        "id": "admb0xWT06ZG",
        "outputId": "26af1965-5818-4c12-df8b-2ba7ab48a94d"
      },
      "execution_count": 29,
      "outputs": [
        {
          "output_type": "execute_result",
          "data": {
            "text/plain": [
              "0.7190051"
            ]
          },
          "metadata": {},
          "execution_count": 29
        }
      ]
    },
    {
      "cell_type": "code",
      "source": [
        "model.most_similar('king')"
      ],
      "metadata": {
        "colab": {
          "base_uri": "https://localhost:8080/"
        },
        "id": "jo8gTmMz1j55",
        "outputId": "36177f33-8b5b-4cb3-f514-22054a61800d"
      },
      "execution_count": 30,
      "outputs": [
        {
          "output_type": "execute_result",
          "data": {
            "text/plain": [
              "[('kings', 0.7138045430183411),\n",
              " ('queen', 0.6510956883430481),\n",
              " ('monarch', 0.6413194537162781),\n",
              " ('crown_prince', 0.6204220056533813),\n",
              " ('prince', 0.6159993410110474),\n",
              " ('sultan', 0.5864824056625366),\n",
              " ('ruler', 0.5797567367553711),\n",
              " ('princes', 0.5646552443504333),\n",
              " ('Prince_Paras', 0.5432944297790527),\n",
              " ('throne', 0.5422105193138123)]"
            ]
          },
          "metadata": {},
          "execution_count": 30
        }
      ]
    },
    {
      "cell_type": "code",
      "source": [
        "model.most_similar('man')"
      ],
      "metadata": {
        "colab": {
          "base_uri": "https://localhost:8080/"
        },
        "id": "CkBXvL9p1_l5",
        "outputId": "1bfdb06b-cf3a-43d4-a454-c944cb5c27aa"
      },
      "execution_count": 31,
      "outputs": [
        {
          "output_type": "execute_result",
          "data": {
            "text/plain": [
              "[('woman', 0.7664012908935547),\n",
              " ('boy', 0.6824871301651001),\n",
              " ('teenager', 0.6586930155754089),\n",
              " ('teenage_girl', 0.6147903203964233),\n",
              " ('girl', 0.5921714305877686),\n",
              " ('suspected_purse_snatcher', 0.571636438369751),\n",
              " ('robber', 0.5585119128227234),\n",
              " ('Robbery_suspect', 0.5584409832954407),\n",
              " ('teen_ager', 0.5549196600914001),\n",
              " ('men', 0.5489763021469116)]"
            ]
          },
          "metadata": {},
          "execution_count": 31
        }
      ]
    },
    {
      "cell_type": "code",
      "source": [
        "model.most_similar('woman')"
      ],
      "metadata": {
        "colab": {
          "base_uri": "https://localhost:8080/"
        },
        "id": "WR86kNab2EYu",
        "outputId": "0a37ebc4-2abb-4d04-abc1-0467f771dc21"
      },
      "execution_count": 32,
      "outputs": [
        {
          "output_type": "execute_result",
          "data": {
            "text/plain": [
              "[('man', 0.7664012908935547),\n",
              " ('girl', 0.7494640946388245),\n",
              " ('teenage_girl', 0.7336829304695129),\n",
              " ('teenager', 0.6317085027694702),\n",
              " ('lady', 0.6288785934448242),\n",
              " ('teenaged_girl', 0.6141784191131592),\n",
              " ('mother', 0.6076306104660034),\n",
              " ('policewoman', 0.6069462299346924),\n",
              " ('boy', 0.5975907444953918),\n",
              " ('Woman', 0.5770983099937439)]"
            ]
          },
          "metadata": {},
          "execution_count": 32
        }
      ]
    },
    {
      "cell_type": "code",
      "source": [
        "model.most_similar('cricket')"
      ],
      "metadata": {
        "colab": {
          "base_uri": "https://localhost:8080/"
        },
        "id": "Pg9ST0ub2OkB",
        "outputId": "7a3fa2b6-936e-4957-fdda-21d0d98ea719"
      },
      "execution_count": 33,
      "outputs": [
        {
          "output_type": "execute_result",
          "data": {
            "text/plain": [
              "[('cricketing', 0.8372225761413574),\n",
              " ('cricketers', 0.8165745735168457),\n",
              " ('Test_cricket', 0.8094819188117981),\n",
              " ('Twenty##_cricket', 0.8068488240242004),\n",
              " ('Twenty##', 0.7624265551567078),\n",
              " ('Cricket', 0.75413978099823),\n",
              " ('cricketer', 0.7372578382492065),\n",
              " ('twenty##', 0.7316356897354126),\n",
              " ('T##_cricket', 0.7304614186286926),\n",
              " ('West_Indies_cricket', 0.6987985968589783)]"
            ]
          },
          "metadata": {},
          "execution_count": 33
        }
      ]
    },
    {
      "cell_type": "code",
      "source": [
        "model.most_similar('love')"
      ],
      "metadata": {
        "colab": {
          "base_uri": "https://localhost:8080/"
        },
        "id": "v4nLnpss2RVk",
        "outputId": "c86af75b-cbe5-4e83-c35b-ae75bc8d2ff9"
      },
      "execution_count": 36,
      "outputs": [
        {
          "output_type": "execute_result",
          "data": {
            "text/plain": [
              "[('loved', 0.6907791495323181),\n",
              " ('adore', 0.6816873550415039),\n",
              " ('loves', 0.661863386631012),\n",
              " ('passion', 0.6100708842277527),\n",
              " ('hate', 0.600395679473877),\n",
              " ('loving', 0.5886635780334473),\n",
              " ('Ilove', 0.5702950954437256),\n",
              " ('affection', 0.5664337873458862),\n",
              " ('undying_love', 0.5547304749488831),\n",
              " ('absolutely_adore', 0.5536840558052063)]"
            ]
          },
          "metadata": {},
          "execution_count": 36
        }
      ]
    },
    {
      "cell_type": "code",
      "source": [
        "model.doesnt_match(['bed', 'chair', 'mountain'])"
      ],
      "metadata": {
        "colab": {
          "base_uri": "https://localhost:8080/",
          "height": 35
        },
        "id": "v2obWm7H44Kb",
        "outputId": "9eb991b7-97e7-4ad5-acb7-56401768cb0d"
      },
      "execution_count": 37,
      "outputs": [
        {
          "output_type": "execute_result",
          "data": {
            "text/plain": [
              "'mountain'"
            ],
            "application/vnd.google.colaboratory.intrinsic+json": {
              "type": "string"
            }
          },
          "metadata": {},
          "execution_count": 37
        }
      ]
    },
    {
      "cell_type": "code",
      "source": [
        "new_vec = model['INR'] - model['India'] + model['Israel']\n",
        "model.most_similar(new_vec)"
      ],
      "metadata": {
        "colab": {
          "base_uri": "https://localhost:8080/"
        },
        "id": "VmMwFIv05jEm",
        "outputId": "473dbacc-5063-4e25-a8eb-142d8ef6c73a"
      },
      "execution_count": 40,
      "outputs": [
        {
          "output_type": "execute_result",
          "data": {
            "text/plain": [
              "[('INR', 0.6650180816650391),\n",
              " ('Israel', 0.5762072801589966),\n",
              " ('NIS', 0.5683816075325012),\n",
              " ('shekel', 0.5185449123382568),\n",
              " ('shekels', 0.5113019347190857),\n",
              " ('Hizbullah', 0.5040183067321777),\n",
              " ('Israeli', 0.5012561082839966),\n",
              " ('Palestinians', 0.4982830584049225),\n",
              " ('Sheraton_Moriah', 0.48863527178764343),\n",
              " ('Israelis', 0.4853755831718445)]"
            ]
          },
          "metadata": {},
          "execution_count": 40
        }
      ]
    },
    {
      "cell_type": "code",
      "source": [
        "new_vec = model['INR'] - model['India'] + model['Russia']\n",
        "model.most_similar(new_vec)"
      ],
      "metadata": {
        "colab": {
          "base_uri": "https://localhost:8080/"
        },
        "id": "nZJ6ttCA57dD",
        "outputId": "51636372-83ea-4c1c-db02-05f7c99f4dd2"
      },
      "execution_count": 41,
      "outputs": [
        {
          "output_type": "execute_result",
          "data": {
            "text/plain": [
              "[('INR', 0.6893095374107361),\n",
              " ('RUB', 0.6316752433776855),\n",
              " ('rubles', 0.6065842509269714),\n",
              " ('levs', 0.5707600116729736),\n",
              " ('RUR###', 0.5689339637756348),\n",
              " ('RUR##', 0.565115749835968),\n",
              " ('totaled_RUB', 0.550152599811554),\n",
              " ('mln_rbl', 0.5500525236129761),\n",
              " ('RUB##', 0.5489458441734314),\n",
              " ('RUR', 0.5450241565704346)]"
            ]
          },
          "metadata": {},
          "execution_count": 41
        }
      ]
    }
  ]
}