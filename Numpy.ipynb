{
  "cells": [
    {
      "cell_type": "markdown",
      "metadata": {
        "id": "view-in-github",
        "colab_type": "text"
      },
      "source": [
        "<a href=\"https://colab.research.google.com/github/sakunisgithub/machine_learning/blob/master/Numpy.ipynb\" target=\"_parent\"><img src=\"https://colab.research.google.com/assets/colab-badge.svg\" alt=\"Open In Colab\"/></a>"
      ]
    },
    {
      "cell_type": "markdown",
      "metadata": {
        "id": "-Jk3KsqTfjns"
      },
      "source": [
        "$$\\textbf{NumPy - Numerical Python}$$"
      ]
    },
    {
      "cell_type": "markdown",
      "metadata": {
        "id": "vldjx6AaLWJt"
      },
      "source": [
        "### Creating NumPy arrays"
      ]
    },
    {
      "cell_type": "code",
      "execution_count": 5,
      "metadata": {
        "id": "gIpcTsnEfUn8"
      },
      "outputs": [],
      "source": [
        "import numpy as np"
      ]
    },
    {
      "cell_type": "code",
      "execution_count": 6,
      "metadata": {
        "colab": {
          "base_uri": "https://localhost:8080/"
        },
        "id": "L5iocsAqLakG",
        "outputId": "28d1063c-ed80-4d06-8336-6e0082b9aa91"
      },
      "outputs": [
        {
          "output_type": "stream",
          "name": "stdout",
          "text": [
            "[1 2 3 4]\n"
          ]
        }
      ],
      "source": [
        "# 1D (a vector)\n",
        "a = np.array([1, 2, 3, 4])\n",
        "print(a)"
      ]
    },
    {
      "cell_type": "code",
      "execution_count": 7,
      "metadata": {
        "colab": {
          "base_uri": "https://localhost:8080/"
        },
        "id": "-0ZRyvo5LsNX",
        "outputId": "2971f8fc-6b20-47a4-8218-e5bfc4a80c0b"
      },
      "outputs": [
        {
          "output_type": "stream",
          "name": "stdout",
          "text": [
            "<class 'numpy.ndarray'>\n"
          ]
        }
      ],
      "source": [
        "print(type(a))"
      ]
    },
    {
      "cell_type": "code",
      "execution_count": 8,
      "metadata": {
        "colab": {
          "base_uri": "https://localhost:8080/"
        },
        "id": "d3DO6vb_L4Sl",
        "outputId": "fa803f73-252b-42ee-cf27-a934b15b7ee6"
      },
      "outputs": [
        {
          "output_type": "stream",
          "name": "stdout",
          "text": [
            "[[1 2 3]\n",
            " [4 5 6]]\n"
          ]
        }
      ],
      "source": [
        "# 2D (a matrix)\n",
        "b = np.array([[1, 2, 3], [4, 5, 6]])\n",
        "print(b)"
      ]
    },
    {
      "cell_type": "code",
      "execution_count": 9,
      "metadata": {
        "colab": {
          "base_uri": "https://localhost:8080/"
        },
        "id": "trNfnVIjMMTi",
        "outputId": "29631b89-c807-4fe3-c6d4-f70fee4e077d"
      },
      "outputs": [
        {
          "output_type": "stream",
          "name": "stdout",
          "text": [
            "[[[ 5  6]\n",
            "  [15 16]]\n",
            "\n",
            " [[ 1  2]\n",
            "  [11 12]]]\n"
          ]
        }
      ],
      "source": [
        "# 3D (a tensor)\n",
        "c = np.array([[[5, 6], [15, 16]], [[1, 2], [11, 12]]])\n",
        "print(c)"
      ]
    },
    {
      "cell_type": "code",
      "execution_count": 10,
      "metadata": {
        "colab": {
          "base_uri": "https://localhost:8080/"
        },
        "id": "-QI2NmbzMwh8",
        "outputId": "949267d1-3707-4b3f-ef2f-fe9f091c4dc9"
      },
      "outputs": [
        {
          "output_type": "stream",
          "name": "stdout",
          "text": [
            "[1. 2. 3.]\n",
            "[False  True  True  True]\n",
            "[ 5.+0.j  7.+0.j 10.+0.j]\n"
          ]
        }
      ],
      "source": [
        "## creating a numpy array of a particular data type\n",
        "\n",
        "# float\n",
        "a1 = np.array([1, 2, 3], dtype = float)\n",
        "print(a1)\n",
        "\n",
        "# boolean\n",
        "a2 = np.array([0, 1, 2, 3], dtype = bool)\n",
        "print(a2)\n",
        "\n",
        "# complex\n",
        "a3 = np.array([5, 7, 10], dtype = complex)\n",
        "print(a3)"
      ]
    },
    {
      "cell_type": "code",
      "execution_count": 11,
      "metadata": {
        "colab": {
          "base_uri": "https://localhost:8080/"
        },
        "id": "f5sRIhMDNvmW",
        "outputId": "5c808fce-4096-480b-cbc2-a91e849c156d"
      },
      "outputs": [
        {
          "output_type": "stream",
          "name": "stdout",
          "text": [
            "[ 1  2  3  4  5  6  7  8  9 10]\n",
            "[ 1  4  7 10]\n",
            "[0 1 2 3 4]\n"
          ]
        }
      ],
      "source": [
        "# by using arange() function - arange() is similar to range()\n",
        "a4 = np.arange(1, 11)\n",
        "print(a4) # np.arange(a, b) yields integers from a to b-1\n",
        "\n",
        "a5 = np.arange(1, 11, 3)\n",
        "print(a5)\n",
        "\n",
        "arr = np.arange(5)\n",
        "print(arr)"
      ]
    },
    {
      "cell_type": "code",
      "execution_count": 12,
      "metadata": {
        "colab": {
          "base_uri": "https://localhost:8080/"
        },
        "id": "TxY6dY_IOjBd",
        "outputId": "cc977ffd-4fe9-4eac-87f2-16e984f0ce68"
      },
      "outputs": [
        {
          "output_type": "stream",
          "name": "stdout",
          "text": [
            "[[ 1  2  3  4  5]\n",
            " [ 6  7  8  9 10]\n",
            " [11 12 13 14 15]\n",
            " [16 17 18 19 20]\n",
            " [21 22 23 24 25]\n",
            " [26 27 28 29 30]\n",
            " [31 32 33 34 35]\n",
            " [36 37 38 39 40]\n",
            " [41 42 43 44 45]\n",
            " [46 47 48 49 50]]\n",
            "[[[ 1  2  3]\n",
            "  [ 4  5  6]\n",
            "  [ 7  8  9]]\n",
            "\n",
            " [[10 11 12]\n",
            "  [13 14 15]\n",
            "  [16 17 18]]\n",
            "\n",
            " [[19 20 21]\n",
            "  [22 23 24]\n",
            "  [25 26 27]]]\n"
          ]
        }
      ],
      "source": [
        "# reshape() function\n",
        "a6 = np.arange(1, 51).reshape(10, 5)\n",
        "print(a6)\n",
        "\n",
        "a7 = np.arange(1, 28).reshape(3, 3, 3)\n",
        "print(a7)"
      ]
    },
    {
      "cell_type": "code",
      "execution_count": 13,
      "metadata": {
        "colab": {
          "base_uri": "https://localhost:8080/"
        },
        "id": "CKpj9dL9Prjw",
        "outputId": "dfcf3cee-96cc-4a1a-cd74-b1dede86b30e"
      },
      "outputs": [
        {
          "output_type": "stream",
          "name": "stdout",
          "text": [
            "[[1. 1.]\n",
            " [1. 1.]\n",
            " [1. 1.]\n",
            " [1. 1.]\n",
            " [1. 1.]]\n"
          ]
        }
      ],
      "source": [
        "# ones()\n",
        "a8 = np.ones((5, 2)) # creates an array of shape (5, 2) with all the elements being 1\n",
        "print(a8)"
      ]
    },
    {
      "cell_type": "code",
      "execution_count": 14,
      "metadata": {
        "colab": {
          "base_uri": "https://localhost:8080/"
        },
        "id": "qDCUeTNZQQhq",
        "outputId": "360d8c96-8edf-4446-acaa-2ed46994371a"
      },
      "outputs": [
        {
          "output_type": "stream",
          "name": "stdout",
          "text": [
            "[[1 1 1 1]\n",
            " [1 1 1 1]\n",
            " [1 1 1 1]]\n"
          ]
        }
      ],
      "source": [
        "a9 = np.ones((3, 4), dtype = int)\n",
        "print(a9)"
      ]
    },
    {
      "cell_type": "code",
      "execution_count": 15,
      "metadata": {
        "colab": {
          "base_uri": "https://localhost:8080/"
        },
        "id": "2vVNyE8RQd-F",
        "outputId": "111366fc-7f03-43ce-854f-0a1ae7428159"
      },
      "outputs": [
        {
          "output_type": "stream",
          "name": "stdout",
          "text": [
            "[[0. 0. 0.]\n",
            " [0. 0. 0.]]\n"
          ]
        }
      ],
      "source": [
        "# zeros()\n",
        "a10 = np.zeros((2, 3)) # creates an array of shape (2, 3) with all the elements being 0\n",
        "print(a10)"
      ]
    },
    {
      "cell_type": "code",
      "execution_count": 16,
      "metadata": {
        "colab": {
          "base_uri": "https://localhost:8080/"
        },
        "id": "UggmdTx0RLyP",
        "outputId": "947ca235-0dc0-4dd3-f322-1f64d4ab896b"
      },
      "outputs": [
        {
          "output_type": "stream",
          "name": "stdout",
          "text": [
            "[[0.24429224 0.52346316 0.44635045]\n",
            " [0.22928993 0.09695481 0.33988635]]\n"
          ]
        }
      ],
      "source": [
        "# random()\n",
        "a11 = np.random.random((2, 3)) # creates an array of shape(2, 3) with all the elements being random numbers in between 0 and 1\n",
        "print(a11)"
      ]
    },
    {
      "cell_type": "markdown",
      "metadata": {
        "id": "v9Lsgf38Q9c8"
      },
      "source": [
        "np.ones(), np.zeros(), np.random.random() are mainly useful in array initialization."
      ]
    },
    {
      "cell_type": "code",
      "execution_count": 17,
      "metadata": {
        "colab": {
          "base_uri": "https://localhost:8080/"
        },
        "id": "-10tL35-REFN",
        "outputId": "8c049f5d-af68-442f-f629-08e7d1b69a83"
      },
      "outputs": [
        {
          "output_type": "stream",
          "name": "stdout",
          "text": [
            "[-20.         -17.14285714 -14.28571429 -11.42857143  -8.57142857\n",
            "  -5.71428571  -2.85714286   0.           2.85714286   5.71428571\n",
            "   8.57142857  11.42857143  14.28571429  17.14285714  20.        ]\n"
          ]
        }
      ],
      "source": [
        "# linspace() linearly spaced\n",
        "a12 = np.linspace(-20, 20, 15) # generates 15 equispaced numbers from -20 to 20\n",
        "print(a12)"
      ]
    },
    {
      "cell_type": "code",
      "execution_count": 18,
      "metadata": {
        "colab": {
          "base_uri": "https://localhost:8080/"
        },
        "id": "Xzt1Z73LSXTc",
        "outputId": "904675ab-ab45-4eac-b9f2-4482ae4d104a"
      },
      "outputs": [
        {
          "output_type": "stream",
          "name": "stdout",
          "text": [
            "[[1. 0. 0. 0.]\n",
            " [0. 1. 0. 0.]\n",
            " [0. 0. 1. 0.]\n",
            " [0. 0. 0. 1.]]\n"
          ]
        }
      ],
      "source": [
        "# identity()\n",
        "a13 = np.identity(4) # creates an identity matrix of order 4\n",
        "print(a13)"
      ]
    },
    {
      "cell_type": "markdown",
      "metadata": {
        "id": "5WZNiWSbiuu6"
      },
      "source": [
        "### Array Attributes"
      ]
    },
    {
      "cell_type": "code",
      "execution_count": 19,
      "metadata": {
        "colab": {
          "base_uri": "https://localhost:8080/"
        },
        "id": "KsStEmBfiz-M",
        "outputId": "0ca5de1e-10b3-48e5-acec-e38aa008b9cd"
      },
      "outputs": [
        {
          "output_type": "stream",
          "name": "stdout",
          "text": [
            "[ 0  1  2  3  4  5  6  7  8  9 10]\n"
          ]
        }
      ],
      "source": [
        "arr1 = np.arange(0, 11)\n",
        "print(arr1)"
      ]
    },
    {
      "cell_type": "code",
      "execution_count": 20,
      "metadata": {
        "colab": {
          "base_uri": "https://localhost:8080/"
        },
        "id": "CkxnN_xflCgW",
        "outputId": "abbc4389-99d0-4681-f315-ea6431cb7cd5"
      },
      "outputs": [
        {
          "output_type": "stream",
          "name": "stdout",
          "text": [
            "[[ 1.  2.  3.  4.]\n",
            " [ 5.  6.  7.  8.]\n",
            " [ 9. 10. 11. 12.]]\n"
          ]
        }
      ],
      "source": [
        "arr2 = np.arange(1, 13, dtype = float).reshape(3, 4)\n",
        "print(arr2)"
      ]
    },
    {
      "cell_type": "code",
      "execution_count": 21,
      "metadata": {
        "colab": {
          "base_uri": "https://localhost:8080/"
        },
        "id": "Tvpe_pjIlFj2",
        "outputId": "9ac5fd34-6e1e-4704-94a5-7a25d44abb7d"
      },
      "outputs": [
        {
          "output_type": "stream",
          "name": "stdout",
          "text": [
            "[[[0 1]\n",
            "  [2 3]]\n",
            "\n",
            " [[4 5]\n",
            "  [6 7]]]\n"
          ]
        }
      ],
      "source": [
        "arr3 = np.arange(8, dtype = np.int32).reshape(2, 2, 2)\n",
        "print(arr3)"
      ]
    },
    {
      "cell_type": "code",
      "execution_count": 22,
      "metadata": {
        "colab": {
          "base_uri": "https://localhost:8080/"
        },
        "id": "5dJJ2pfUixL5",
        "outputId": "74086410-1208-433c-d78a-26f75229ac4d"
      },
      "outputs": [
        {
          "output_type": "stream",
          "name": "stdout",
          "text": [
            "1\n",
            "2\n",
            "3\n"
          ]
        }
      ],
      "source": [
        "# ndim - gives number of dimension(s) of an array\n",
        "print(arr1.ndim)\n",
        "print(arr2.ndim)\n",
        "print(arr3.ndim)"
      ]
    },
    {
      "cell_type": "code",
      "execution_count": 23,
      "metadata": {
        "colab": {
          "base_uri": "https://localhost:8080/"
        },
        "id": "r_D_LEAHjUU5",
        "outputId": "75ffe6b5-631f-45f4-eae9-c4c661c780f5"
      },
      "outputs": [
        {
          "output_type": "stream",
          "name": "stdout",
          "text": [
            "(11,)\n",
            "(3, 4)\n",
            "(2, 2, 2)\n"
          ]
        }
      ],
      "source": [
        "# shape - gives dimension of an array\n",
        "print(arr1.shape)\n",
        "print(arr2.shape)\n",
        "print(arr3.shape)"
      ]
    },
    {
      "cell_type": "code",
      "execution_count": 24,
      "metadata": {
        "colab": {
          "base_uri": "https://localhost:8080/"
        },
        "id": "TZUFgzE4j6f2",
        "outputId": "49d00e90-bdc0-43d9-c839-d497bf11ad78"
      },
      "outputs": [
        {
          "output_type": "stream",
          "name": "stdout",
          "text": [
            "12\n",
            "8\n"
          ]
        }
      ],
      "source": [
        "# size - gives number of elements in an object\n",
        "print(arr2.size)\n",
        "print(arr3.size)"
      ]
    },
    {
      "cell_type": "code",
      "execution_count": 25,
      "metadata": {
        "colab": {
          "base_uri": "https://localhost:8080/"
        },
        "id": "8KWacHEqkG_7",
        "outputId": "efbaaebd-7f9c-4d5b-b61e-fe0e9a4ca472"
      },
      "outputs": [
        {
          "output_type": "stream",
          "name": "stdout",
          "text": [
            "8\n",
            "8\n",
            "4\n"
          ]
        }
      ],
      "source": [
        "# itemsize - refers to the number of bytes used to store a single element of an array\n",
        "print(arr1.itemsize)\n",
        "print(arr2.itemsize)\n",
        "print(arr3.itemsize)\n",
        "# recall that 8 bits = 1 byte\n",
        "# by default colab uses 64-bit integers and they take 8 bytes of space\n",
        "# also floates in colab take 8 bytes of space\n",
        "# 32-bit integers take 4 bytes of space"
      ]
    },
    {
      "cell_type": "code",
      "execution_count": 26,
      "metadata": {
        "colab": {
          "base_uri": "https://localhost:8080/"
        },
        "id": "3LrcOKGwlTWe",
        "outputId": "c0d51dc1-e826-4ff3-b28c-1d2b8bc1bed6"
      },
      "outputs": [
        {
          "output_type": "stream",
          "name": "stdout",
          "text": [
            "int64\n",
            "float64\n",
            "int32\n"
          ]
        }
      ],
      "source": [
        "print(arr1.dtype)\n",
        "print(arr2.dtype)\n",
        "print(arr3.dtype)"
      ]
    },
    {
      "cell_type": "markdown",
      "metadata": {
        "id": "uRNnDI8cmz3n"
      },
      "source": [
        "### Changing datatype"
      ]
    },
    {
      "cell_type": "code",
      "execution_count": 27,
      "metadata": {
        "colab": {
          "base_uri": "https://localhost:8080/"
        },
        "id": "URpmKDbtm2oN",
        "outputId": "ed7bf2c3-2136-4623-a2a8-4fbb0dfaacd4"
      },
      "outputs": [
        {
          "output_type": "stream",
          "name": "stdout",
          "text": [
            "int64\n"
          ]
        }
      ],
      "source": [
        "print(arr1.dtype)"
      ]
    },
    {
      "cell_type": "code",
      "execution_count": 28,
      "metadata": {
        "id": "5Ttly03knCdd"
      },
      "outputs": [],
      "source": [
        "arr1 = arr1.astype(np.int32)"
      ]
    },
    {
      "cell_type": "code",
      "execution_count": 29,
      "metadata": {
        "colab": {
          "base_uri": "https://localhost:8080/"
        },
        "id": "E0QDyCDGnRkw",
        "outputId": "231c02fe-983a-4ad0-f815-a30fdad3e018"
      },
      "outputs": [
        {
          "output_type": "stream",
          "name": "stdout",
          "text": [
            "[ 0  1  2  3  4  5  6  7  8  9 10]\n"
          ]
        }
      ],
      "source": [
        "print(arr1)"
      ]
    },
    {
      "cell_type": "code",
      "execution_count": 30,
      "metadata": {
        "colab": {
          "base_uri": "https://localhost:8080/"
        },
        "id": "p1LsoTXGnLp-",
        "outputId": "a2720374-07eb-46e8-d8a7-cdf64ce19a19"
      },
      "outputs": [
        {
          "output_type": "stream",
          "name": "stdout",
          "text": [
            "int32\n"
          ]
        }
      ],
      "source": [
        "print(arr1.dtype)"
      ]
    },
    {
      "cell_type": "markdown",
      "metadata": {
        "id": "7Fd6nZB6n3o8"
      },
      "source": [
        "### Array Operations"
      ]
    },
    {
      "cell_type": "code",
      "execution_count": 31,
      "metadata": {
        "colab": {
          "base_uri": "https://localhost:8080/"
        },
        "id": "dWYssBZ5n65Z",
        "outputId": "ffbc8071-0be2-48b9-ac6f-2cb8d44e96eb"
      },
      "outputs": [
        {
          "output_type": "stream",
          "name": "stdout",
          "text": [
            "[[ 1  2  3  4]\n",
            " [ 5  6  7  8]\n",
            " [ 9 10 11 12]]\n"
          ]
        }
      ],
      "source": [
        "b1 = np.arange(1, 13).reshape(3, 4)\n",
        "print(b1)"
      ]
    },
    {
      "cell_type": "code",
      "execution_count": 32,
      "metadata": {
        "colab": {
          "base_uri": "https://localhost:8080/"
        },
        "id": "lRC0mioUoaf-",
        "outputId": "9f9dbbd2-c3e4-47ac-8957-fe6de8f7870b"
      },
      "outputs": [
        {
          "output_type": "stream",
          "name": "stdout",
          "text": [
            "[[13 14 15 16]\n",
            " [17 18 19 20]\n",
            " [21 22 23 24]]\n"
          ]
        }
      ],
      "source": [
        "b2 = np.arange(13, 25).reshape(3, 4)\n",
        "print(b2)"
      ]
    },
    {
      "cell_type": "code",
      "execution_count": 33,
      "metadata": {
        "colab": {
          "base_uri": "https://localhost:8080/"
        },
        "id": "yN6lc1gwoiPV",
        "outputId": "9b67f7a5-b4bd-46d5-c064-9d88f448d29a"
      },
      "outputs": [
        {
          "output_type": "stream",
          "name": "stdout",
          "text": [
            "[[ 3  4  5  6]\n",
            " [ 7  8  9 10]\n",
            " [11 12 13 14]]\n"
          ]
        }
      ],
      "source": [
        "# scalar operation - operating in an array with a scalar\n",
        "print(b1 + 2)"
      ]
    },
    {
      "cell_type": "code",
      "execution_count": 34,
      "metadata": {
        "colab": {
          "base_uri": "https://localhost:8080/"
        },
        "id": "fnI1WkuxowoN",
        "outputId": "b737f27a-3dbf-4d24-b195-d7401fbbbc82"
      },
      "outputs": [
        {
          "output_type": "stream",
          "name": "stdout",
          "text": [
            "[[ 2  4  6  8]\n",
            " [10 12 14 16]\n",
            " [18 20 22 24]]\n"
          ]
        }
      ],
      "source": [
        "print(b1 * 2)"
      ]
    },
    {
      "cell_type": "code",
      "execution_count": 35,
      "metadata": {
        "colab": {
          "base_uri": "https://localhost:8080/"
        },
        "id": "TO3tSjGJpqj2",
        "outputId": "d8231c17-ea36-4ff0-d97d-5b1838b4c657"
      },
      "outputs": [
        {
          "output_type": "stream",
          "name": "stdout",
          "text": [
            "[[0.5 1.  1.5 2. ]\n",
            " [2.5 3.  3.5 4. ]\n",
            " [4.5 5.  5.5 6. ]]\n"
          ]
        }
      ],
      "source": [
        "print(b1 / 2) # in division output datatype is always float"
      ]
    },
    {
      "cell_type": "code",
      "execution_count": 36,
      "metadata": {
        "colab": {
          "base_uri": "https://localhost:8080/"
        },
        "id": "o0AQ7GLUo0Yt",
        "outputId": "b949cc4b-da62-4023-cb8a-fd530cbb4138"
      },
      "outputs": [
        {
          "output_type": "stream",
          "name": "stdout",
          "text": [
            "[[  1   4   9  16]\n",
            " [ 25  36  49  64]\n",
            " [ 81 100 121 144]]\n"
          ]
        }
      ],
      "source": [
        "print(b1 ** 2)"
      ]
    },
    {
      "cell_type": "code",
      "execution_count": 37,
      "metadata": {
        "colab": {
          "base_uri": "https://localhost:8080/"
        },
        "id": "R7cDhQKto2p0",
        "outputId": "cb42bd46-8ce6-40e1-9534-89d175c20c82"
      },
      "outputs": [
        {
          "output_type": "stream",
          "name": "stdout",
          "text": [
            "[[False False False False]\n",
            " [False  True  True  True]\n",
            " [ True  True  True  True]]\n"
          ]
        }
      ],
      "source": [
        "# relational operation\n",
        "print(b1 > 5)"
      ]
    },
    {
      "cell_type": "code",
      "execution_count": 38,
      "metadata": {
        "colab": {
          "base_uri": "https://localhost:8080/"
        },
        "id": "HMj5xtCQpD69",
        "outputId": "1e0ab464-794b-428d-992e-7564d398d83e"
      },
      "outputs": [
        {
          "output_type": "stream",
          "name": "stdout",
          "text": [
            "[[False False False False]\n",
            " [False False  True False]\n",
            " [False False False False]]\n"
          ]
        }
      ],
      "source": [
        "print(b1 == 7)"
      ]
    },
    {
      "cell_type": "code",
      "execution_count": 39,
      "metadata": {
        "colab": {
          "base_uri": "https://localhost:8080/"
        },
        "id": "aHxVt1_spHTt",
        "outputId": "e9f72863-1543-4068-d55f-8343f89a25f7"
      },
      "outputs": [
        {
          "output_type": "stream",
          "name": "stdout",
          "text": [
            "[[ True  True False  True]\n",
            " [ True  True  True  True]\n",
            " [ True  True  True  True]]\n"
          ]
        }
      ],
      "source": [
        "print(b1 != 3)"
      ]
    },
    {
      "cell_type": "code",
      "execution_count": 40,
      "metadata": {
        "colab": {
          "base_uri": "https://localhost:8080/"
        },
        "id": "h2F7XDk7pMud",
        "outputId": "29b33e28-453a-492c-ee6d-06faa054165d"
      },
      "outputs": [
        {
          "output_type": "stream",
          "name": "stdout",
          "text": [
            "[[14 16 18 20]\n",
            " [22 24 26 28]\n",
            " [30 32 34 36]]\n"
          ]
        }
      ],
      "source": [
        "# vector operations\n",
        "print(b1 + b2) # itemwise addition"
      ]
    },
    {
      "cell_type": "code",
      "execution_count": 41,
      "metadata": {
        "colab": {
          "base_uri": "https://localhost:8080/"
        },
        "id": "xV6a0ryppWEm",
        "outputId": "89fef4ff-b33d-468e-b5cd-83213f54f3df"
      },
      "outputs": [
        {
          "output_type": "stream",
          "name": "stdout",
          "text": [
            "[[ 13  28  45  64]\n",
            " [ 85 108 133 160]\n",
            " [189 220 253 288]]\n"
          ]
        }
      ],
      "source": [
        "print(b1 * b2) # itemwise multiplication"
      ]
    },
    {
      "cell_type": "markdown",
      "metadata": {
        "id": "PtILWGZbqU0r"
      },
      "source": [
        "### Common Array Functions"
      ]
    },
    {
      "cell_type": "code",
      "execution_count": 42,
      "metadata": {
        "colab": {
          "base_uri": "https://localhost:8080/"
        },
        "id": "oszpvCvXpee9",
        "outputId": "48e7ed3f-fbd7-46b0-d50b-a971703d1b71"
      },
      "outputs": [
        {
          "output_type": "stream",
          "name": "stdout",
          "text": [
            "[[41.00561791  2.99383327 68.54109825]\n",
            " [80.065099   94.37959936 82.85333646]\n",
            " [68.48179213 12.04916623  4.20013526]]\n"
          ]
        }
      ],
      "source": [
        "c1 = np.random.random((3, 3))\n",
        "c1 = c1 * 100\n",
        "print(c1)"
      ]
    },
    {
      "cell_type": "code",
      "execution_count": 43,
      "metadata": {
        "colab": {
          "base_uri": "https://localhost:8080/"
        },
        "id": "WbHLjW3SGv__",
        "outputId": "a37acb22-0c40-4858-b040-d72bd33115c5"
      },
      "outputs": [
        {
          "output_type": "stream",
          "name": "stdout",
          "text": [
            "[[41.01  2.99 68.54]\n",
            " [80.07 94.38 82.85]\n",
            " [68.48 12.05  4.2 ]]\n"
          ]
        }
      ],
      "source": [
        "# round()\n",
        "c1_rounded = np.round(c1, 2)\n",
        "print(c1_rounded)"
      ]
    },
    {
      "cell_type": "code",
      "execution_count": 44,
      "metadata": {
        "colab": {
          "base_uri": "https://localhost:8080/"
        },
        "id": "DF70c5j3OlLx",
        "outputId": "ec492ec0-e85d-42c4-c537-b0821350afbd"
      },
      "outputs": [
        {
          "output_type": "stream",
          "name": "stdout",
          "text": [
            "[[41.  2. 68.]\n",
            " [80. 94. 82.]\n",
            " [68. 12.  4.]]\n"
          ]
        }
      ],
      "source": [
        "# floor()\n",
        "print(np.floor(c1))"
      ]
    },
    {
      "cell_type": "code",
      "execution_count": 45,
      "metadata": {
        "colab": {
          "base_uri": "https://localhost:8080/"
        },
        "id": "sv7dbJkIOrFR",
        "outputId": "ee5d3009-18e9-45ce-a800-c55ec28c5d71"
      },
      "outputs": [
        {
          "output_type": "stream",
          "name": "stdout",
          "text": [
            "[[42.  3. 69.]\n",
            " [81. 95. 83.]\n",
            " [69. 13.  5.]]\n"
          ]
        }
      ],
      "source": [
        "# ceil()\n",
        "print(np.ceil(c1))"
      ]
    },
    {
      "cell_type": "code",
      "execution_count": 46,
      "metadata": {
        "colab": {
          "base_uri": "https://localhost:8080/"
        },
        "id": "P-EJ_6tmHP4b",
        "outputId": "ab124b63-1d96-49f1-fb54-8ada99c4cd7a"
      },
      "outputs": [
        {
          "output_type": "stream",
          "name": "stdout",
          "text": [
            "94.37959935872746\n"
          ]
        }
      ],
      "source": [
        "# max()\n",
        "print(np.max(c1))"
      ]
    },
    {
      "cell_type": "code",
      "execution_count": 47,
      "metadata": {
        "colab": {
          "base_uri": "https://localhost:8080/"
        },
        "id": "bRVFAJ_FHT2L",
        "outputId": "286fbf20-0c34-41ec-bce0-4e7f74b8c589"
      },
      "outputs": [
        {
          "output_type": "stream",
          "name": "stdout",
          "text": [
            "2.9938332692090452\n"
          ]
        }
      ],
      "source": [
        "# min()\n",
        "print(np.min(c1))"
      ]
    },
    {
      "cell_type": "code",
      "execution_count": 48,
      "metadata": {
        "colab": {
          "base_uri": "https://localhost:8080/"
        },
        "id": "FdHAiz_JHV0q",
        "outputId": "1f26b4ed-8a1f-428c-b7b6-bb45e6ddab5a"
      },
      "outputs": [
        {
          "output_type": "stream",
          "name": "stdout",
          "text": [
            "454.5696778642884\n"
          ]
        }
      ],
      "source": [
        "# sum()\n",
        "print(np.sum(c1))"
      ]
    },
    {
      "cell_type": "code",
      "execution_count": 49,
      "metadata": {
        "colab": {
          "base_uri": "https://localhost:8080/"
        },
        "id": "SCQhWi7vHYHy",
        "outputId": "450503f3-f1bc-4500-89af-aab69fc3ba22"
      },
      "outputs": [
        {
          "output_type": "stream",
          "name": "stdout",
          "text": [
            "18257814718790.223\n"
          ]
        }
      ],
      "source": [
        "# prod()\n",
        "print(np.prod(c1))"
      ]
    },
    {
      "cell_type": "code",
      "execution_count": 50,
      "metadata": {
        "colab": {
          "base_uri": "https://localhost:8080/"
        },
        "id": "WdxIwcJnHaeD",
        "outputId": "531d4d93-e94d-400d-c42b-a5d6ab742246"
      },
      "outputs": [
        {
          "output_type": "stream",
          "name": "stdout",
          "text": [
            "[80.065099   94.37959936 82.85333646]\n"
          ]
        }
      ],
      "source": [
        "print(np.max(c1, axis = 0)) # maximum element in each column"
      ]
    },
    {
      "cell_type": "code",
      "execution_count": 51,
      "metadata": {
        "colab": {
          "base_uri": "https://localhost:8080/"
        },
        "id": "Sh89f17yHsJC",
        "outputId": "22821a64-eed3-4549-b407-49dc95c4827b"
      },
      "outputs": [
        {
          "output_type": "stream",
          "name": "stdout",
          "text": [
            "[68.54109825 94.37959936 68.48179213]\n"
          ]
        }
      ],
      "source": [
        "print(np.max(c1, axis = 1)) # maximum element in each row"
      ]
    },
    {
      "cell_type": "code",
      "execution_count": 52,
      "metadata": {
        "colab": {
          "base_uri": "https://localhost:8080/"
        },
        "id": "_W2S3KrkH8Bb",
        "outputId": "19b29a68-e4ce-49ec-e764-d4481eb69d69"
      },
      "outputs": [
        {
          "output_type": "stream",
          "name": "stdout",
          "text": [
            "[189.55250904 109.42259886 155.59456997]\n"
          ]
        }
      ],
      "source": [
        "print(np.sum(c1, axis = 0)) # columnsums"
      ]
    },
    {
      "cell_type": "code",
      "execution_count": 53,
      "metadata": {
        "colab": {
          "base_uri": "https://localhost:8080/"
        },
        "id": "eRlJJKwfH_IU",
        "outputId": "484c3e0a-26c1-4253-8cfa-d568c91f2cd8"
      },
      "outputs": [
        {
          "output_type": "stream",
          "name": "stdout",
          "text": [
            "[112.54054942 257.29803483  84.73109362]\n"
          ]
        }
      ],
      "source": [
        "print(np.sum(c1, axis = 1)) # rowsums"
      ]
    },
    {
      "cell_type": "code",
      "execution_count": 54,
      "metadata": {
        "colab": {
          "base_uri": "https://localhost:8080/"
        },
        "id": "6B7h_s_8IBRr",
        "outputId": "cd29ff25-d729-435b-ece0-25d12fc2f2d0"
      },
      "outputs": [
        {
          "output_type": "stream",
          "name": "stdout",
          "text": [
            "50.50774198492093\n"
          ]
        }
      ],
      "source": [
        "# mean()\n",
        "print(np.mean(c1))"
      ]
    },
    {
      "cell_type": "code",
      "execution_count": 55,
      "metadata": {
        "colab": {
          "base_uri": "https://localhost:8080/"
        },
        "id": "368O83QrIQ1R",
        "outputId": "c76bed84-72d2-465a-e2d7-b990b3ccc93d"
      },
      "outputs": [
        {
          "output_type": "stream",
          "name": "stdout",
          "text": [
            "[37.51351647 85.76601161 28.24369787]\n"
          ]
        }
      ],
      "source": [
        "print(np.mean(c1, axis = 1)) # rowmeans"
      ]
    },
    {
      "cell_type": "code",
      "execution_count": 56,
      "metadata": {
        "colab": {
          "base_uri": "https://localhost:8080/"
        },
        "id": "bp8QfTo3IU3Z",
        "outputId": "824bedcb-1a2f-4dad-8a1f-f9612e3e7bf7"
      },
      "outputs": [
        {
          "output_type": "stream",
          "name": "stdout",
          "text": [
            "68.48179212676293\n"
          ]
        }
      ],
      "source": [
        "# median()\n",
        "print(np.median(c1))"
      ]
    },
    {
      "cell_type": "code",
      "execution_count": 57,
      "metadata": {
        "colab": {
          "base_uri": "https://localhost:8080/"
        },
        "id": "6p60aqBVIYnu",
        "outputId": "734ad325-880d-478d-d52a-df5d8a875497"
      },
      "outputs": [
        {
          "output_type": "stream",
          "name": "stdout",
          "text": [
            "34.09822656723899\n"
          ]
        }
      ],
      "source": [
        "# std()\n",
        "print(np.std(c1)) # gives population standard deviation"
      ]
    },
    {
      "cell_type": "code",
      "execution_count": 58,
      "metadata": {
        "colab": {
          "base_uri": "https://localhost:8080/"
        },
        "id": "yhuss6rSIqSx",
        "outputId": "30beeafb-6aba-4bd0-b6e6-240dd867e02c"
      },
      "outputs": [
        {
          "output_type": "stream",
          "name": "stdout",
          "text": [
            "36.16663084819497\n"
          ]
        }
      ],
      "source": [
        "print(np.std(c1, ddof = 1)) # gives sample standard deviation"
      ]
    },
    {
      "cell_type": "code",
      "execution_count": 59,
      "metadata": {
        "colab": {
          "base_uri": "https://localhost:8080/"
        },
        "id": "TKHk4NhCKWc4",
        "outputId": "3648a4c6-ccd1-4aab-cd5a-e85130e8b5b7"
      },
      "outputs": [
        {
          "output_type": "stream",
          "name": "stdout",
          "text": [
            "1162.6890550307626\n"
          ]
        }
      ],
      "source": [
        "# var()\n",
        "print(np.var(c1)) # gives population variance"
      ]
    },
    {
      "cell_type": "code",
      "execution_count": 60,
      "metadata": {
        "colab": {
          "base_uri": "https://localhost:8080/"
        },
        "id": "sZs0-c02LjCB",
        "outputId": "9049fcd3-9df6-447b-8c6e-fd9d7e2a2e61"
      },
      "outputs": [
        {
          "output_type": "stream",
          "name": "stdout",
          "text": [
            "1308.025186909608\n"
          ]
        }
      ],
      "source": [
        "print(np.var(c1, ddof = 1)) # gives sample variance"
      ]
    },
    {
      "cell_type": "code",
      "execution_count": 61,
      "metadata": {
        "colab": {
          "base_uri": "https://localhost:8080/"
        },
        "id": "tS84GrZ6LxRT",
        "outputId": "1806c347-ae74-488a-d09d-a63975e24882"
      },
      "outputs": [
        {
          "output_type": "stream",
          "name": "stdout",
          "text": [
            "[[-0.16416692  0.1472223  -0.54294505]\n",
            " [-0.99896443  0.13143832  0.92150089]\n",
            " [-0.59176471 -0.49445211 -0.87164208]]\n",
            "[[-0.98643257 -0.98910343  0.83976822]\n",
            " [-0.04549795  0.99132435  0.38837624]\n",
            " [ 0.80611074  0.86920487 -0.49014293]]\n",
            "[[ 0.16642487 -0.14884419 -0.64654155]\n",
            " [21.95625038  0.13258862  2.37270151]\n",
            " [-0.73409853 -0.56885566  1.77834266]]\n"
          ]
        }
      ],
      "source": [
        "# trigonometric functions\n",
        "\n",
        "print(np.sin(c1)) # sin()\n",
        "print(np.cos(c1)) # cos()\n",
        "print(np.tan(c1)) # tan()"
      ]
    },
    {
      "cell_type": "code",
      "execution_count": 62,
      "metadata": {
        "colab": {
          "base_uri": "https://localhost:8080/"
        },
        "id": "0YvuMezzMYw5",
        "outputId": "993c33cb-5ccf-4e30-fed9-84349eca6f12"
      },
      "outputs": [
        {
          "output_type": "stream",
          "name": "stdout",
          "text": [
            "[[ 0  1  2  3]\n",
            " [ 4  5  6  7]\n",
            " [ 8  9 10 11]]\n",
            "(3, 4)\n",
            "[[11 10  9]\n",
            " [ 8  7  6]\n",
            " [ 5  4  3]\n",
            " [ 2  1  0]]\n",
            "(4, 3)\n"
          ]
        }
      ],
      "source": [
        "# dot() - matrix multiplication\n",
        "c2 = np.arange(12).reshape(3, 4)\n",
        "c3 = np.arange(11, -1, -1).reshape(4, 3)\n",
        "print(c2)\n",
        "print(c2.shape)\n",
        "print(c3)\n",
        "print(c3.shape)"
      ]
    },
    {
      "cell_type": "code",
      "execution_count": 63,
      "metadata": {
        "colab": {
          "base_uri": "https://localhost:8080/"
        },
        "id": "TkgivUJrN37Y",
        "outputId": "776e0187-4855-41a2-d261-5aff5bdd444a"
      },
      "outputs": [
        {
          "output_type": "stream",
          "name": "stdout",
          "text": [
            "[[ 24  18  12]\n",
            " [128 106  84]\n",
            " [232 194 156]]\n"
          ]
        }
      ],
      "source": [
        "print(np.dot(c2, c3))"
      ]
    },
    {
      "cell_type": "code",
      "execution_count": 64,
      "metadata": {
        "colab": {
          "base_uri": "https://localhost:8080/"
        },
        "id": "FHskHh9cOPPZ",
        "outputId": "7f9ed4f9-fcda-4cd5-d135-af98b3aa2bb5"
      },
      "outputs": [
        {
          "output_type": "stream",
          "name": "stdout",
          "text": [
            "[[3.71370908 1.0965546  4.22743354]\n",
            " [4.38284004 4.54732494 4.41707201]\n",
            " [4.2265679  2.48899547 1.43511673]]\n"
          ]
        }
      ],
      "source": [
        "# log()\n",
        "print(np.log(c1))"
      ]
    },
    {
      "cell_type": "code",
      "execution_count": 65,
      "metadata": {
        "colab": {
          "base_uri": "https://localhost:8080/"
        },
        "id": "Wwmni-V_OScy",
        "outputId": "715931c8-5509-4a73-94b2-0a8a3e781b52"
      },
      "outputs": [
        {
          "output_type": "stream",
          "name": "stdout",
          "text": [
            "[[6.43448191e+17 1.99620560e+01 5.84818028e+29]\n",
            " [5.91331058e+34 9.73955705e+40 9.61051883e+35]\n",
            " [5.51143172e+29 1.70956810e+05 6.66953516e+01]]\n"
          ]
        }
      ],
      "source": [
        "# exp()\n",
        "print(np.exp(c1))"
      ]
    },
    {
      "cell_type": "markdown",
      "metadata": {
        "id": "GIiI4jHyQCx2"
      },
      "source": [
        "### Indexing"
      ]
    },
    {
      "cell_type": "code",
      "execution_count": 66,
      "metadata": {
        "colab": {
          "base_uri": "https://localhost:8080/"
        },
        "id": "qcgrFUX5OVUj",
        "outputId": "f47da9df-67d9-4a01-c27f-87aea91c39d6"
      },
      "outputs": [
        {
          "output_type": "stream",
          "name": "stdout",
          "text": [
            "[0 1 2 3 4 5 6 7 8 9]\n"
          ]
        }
      ],
      "source": [
        "d1 = np.arange(10)\n",
        "print(d1)"
      ]
    },
    {
      "cell_type": "code",
      "execution_count": 67,
      "metadata": {
        "colab": {
          "base_uri": "https://localhost:8080/"
        },
        "id": "LrD-rhl8QW9i",
        "outputId": "7a5fc8b7-36c8-42de-c0c1-7736a5e5440f"
      },
      "outputs": [
        {
          "output_type": "stream",
          "name": "stdout",
          "text": [
            "0\n",
            "9\n"
          ]
        }
      ],
      "source": [
        "print(d1[0]) # first item\n",
        "print(d1[-1]) # last item"
      ]
    },
    {
      "cell_type": "code",
      "execution_count": 68,
      "metadata": {
        "colab": {
          "base_uri": "https://localhost:8080/"
        },
        "id": "t0IxnXj_QoJx",
        "outputId": "4fe5254e-6378-4bc5-f685-a0170b51d223"
      },
      "outputs": [
        {
          "output_type": "stream",
          "name": "stdout",
          "text": [
            "[[ 0  1  2  3]\n",
            " [ 4  5  6  7]\n",
            " [ 8  9 10 11]]\n"
          ]
        }
      ],
      "source": [
        "d2 = np.arange(12).reshape(3, 4)\n",
        "print(d2)"
      ]
    },
    {
      "cell_type": "code",
      "execution_count": 69,
      "metadata": {
        "colab": {
          "base_uri": "https://localhost:8080/"
        },
        "id": "tPHMo1YxQo9s",
        "outputId": "f9b31aba-8437-4d92-df8f-d8fef7bdd7bf"
      },
      "outputs": [
        {
          "output_type": "stream",
          "name": "stdout",
          "text": [
            "6\n"
          ]
        }
      ],
      "source": [
        "print(d2[1, 2]) # gives element of 2nd row and 3rd column, remember than indexing in python starts from 0"
      ]
    },
    {
      "cell_type": "code",
      "execution_count": 70,
      "metadata": {
        "colab": {
          "base_uri": "https://localhost:8080/"
        },
        "id": "x2SAXniYRG5q",
        "outputId": "95cb13cf-1b7e-433d-d8b0-a44e490074b6"
      },
      "outputs": [
        {
          "output_type": "stream",
          "name": "stdout",
          "text": [
            "10\n"
          ]
        }
      ],
      "source": [
        "print(d2[2, 2])"
      ]
    },
    {
      "cell_type": "code",
      "execution_count": 71,
      "metadata": {
        "colab": {
          "base_uri": "https://localhost:8080/"
        },
        "id": "89WvOzf2RKqp",
        "outputId": "4ee27c7e-5ac6-4d06-eb04-4f8eea148724"
      },
      "outputs": [
        {
          "output_type": "stream",
          "name": "stdout",
          "text": [
            "7\n"
          ]
        }
      ],
      "source": [
        "print(d2[1, 3])"
      ]
    },
    {
      "cell_type": "code",
      "execution_count": 72,
      "metadata": {
        "colab": {
          "base_uri": "https://localhost:8080/"
        },
        "id": "3Vob3y6WR6dg",
        "outputId": "4ceb49bd-e978-4849-f803-708344dc979e"
      },
      "outputs": [
        {
          "output_type": "stream",
          "name": "stdout",
          "text": [
            "[[[0 1]\n",
            "  [2 3]]\n",
            "\n",
            " [[4 5]\n",
            "  [6 7]]]\n"
          ]
        }
      ],
      "source": [
        "d3 = np.arange(8).reshape(2, 2, 2)\n",
        "print(d3)"
      ]
    },
    {
      "cell_type": "code",
      "execution_count": 73,
      "metadata": {
        "colab": {
          "base_uri": "https://localhost:8080/"
        },
        "id": "doAfun6lR8iF",
        "outputId": "d3f9eba1-5f14-4dd6-ea79-752f307c6b86"
      },
      "outputs": [
        {
          "output_type": "stream",
          "name": "stdout",
          "text": [
            "5\n"
          ]
        }
      ],
      "source": [
        "print(d3[1, 0, 1])"
      ]
    },
    {
      "cell_type": "code",
      "execution_count": 74,
      "metadata": {
        "colab": {
          "base_uri": "https://localhost:8080/"
        },
        "id": "ZpKH5KeySETX",
        "outputId": "9844cb1f-ba24-478d-e923-7acf8fcefe6a"
      },
      "outputs": [
        {
          "output_type": "stream",
          "name": "stdout",
          "text": [
            "3\n"
          ]
        }
      ],
      "source": [
        "print(d3[0, 1, 1])"
      ]
    },
    {
      "cell_type": "code",
      "execution_count": 75,
      "metadata": {
        "colab": {
          "base_uri": "https://localhost:8080/"
        },
        "id": "XR-kcckLSIBS",
        "outputId": "0ea05de8-41cb-4c6f-bbd9-7bdc670a3f26"
      },
      "outputs": [
        {
          "output_type": "stream",
          "name": "stdout",
          "text": [
            "7\n"
          ]
        }
      ],
      "source": [
        "print(d3[1, 1, 1])"
      ]
    },
    {
      "cell_type": "code",
      "execution_count": 76,
      "metadata": {
        "colab": {
          "base_uri": "https://localhost:8080/"
        },
        "id": "9hhQKuWiSOOa",
        "outputId": "d58a732f-0a91-4876-d6a4-1a60def71556"
      },
      "outputs": [
        {
          "output_type": "stream",
          "name": "stdout",
          "text": [
            "2\n"
          ]
        }
      ],
      "source": [
        "print(d3[0, 1, 0])"
      ]
    },
    {
      "cell_type": "code",
      "execution_count": 77,
      "metadata": {
        "colab": {
          "base_uri": "https://localhost:8080/"
        },
        "id": "SeUsBYhYSkXF",
        "outputId": "68cc990b-096c-4431-fe7c-d23e902635f2"
      },
      "outputs": [
        {
          "output_type": "stream",
          "name": "stdout",
          "text": [
            "6\n"
          ]
        }
      ],
      "source": [
        "print(d3[1, 1, 0])"
      ]
    },
    {
      "cell_type": "markdown",
      "metadata": {
        "id": "l3dHMLE_TAs_"
      },
      "source": [
        "### Slicing"
      ]
    },
    {
      "cell_type": "code",
      "execution_count": 78,
      "metadata": {
        "colab": {
          "base_uri": "https://localhost:8080/"
        },
        "id": "RDrspCzwS_w6",
        "outputId": "62d79df1-0d6f-48f6-d67e-a54c786eba94"
      },
      "outputs": [
        {
          "output_type": "stream",
          "name": "stdout",
          "text": [
            "[0 1 2 3 4 5 6 7 8 9]\n",
            "[1 2 3 4 5 6]\n"
          ]
        }
      ],
      "source": [
        "print(d1)\n",
        "print(d1[1:7]) # gives elements from index 1 to index 6 of d1"
      ]
    },
    {
      "cell_type": "code",
      "execution_count": 79,
      "metadata": {
        "colab": {
          "base_uri": "https://localhost:8080/"
        },
        "id": "MejTmTmYTWei",
        "outputId": "85481b27-7e1d-49a1-8e30-533f187592ca"
      },
      "outputs": [
        {
          "output_type": "stream",
          "name": "stdout",
          "text": [
            "[1 3 5]\n"
          ]
        }
      ],
      "source": [
        "print(d1[1:7:2]) # gives alternate elements from index 1 to index 6 of d1"
      ]
    },
    {
      "cell_type": "code",
      "execution_count": 80,
      "metadata": {
        "colab": {
          "base_uri": "https://localhost:8080/"
        },
        "id": "9mh6gFV_TorY",
        "outputId": "75d88987-67cc-4f44-ce58-31cfc9ead164"
      },
      "outputs": [
        {
          "output_type": "stream",
          "name": "stdout",
          "text": [
            "[1 4 7]\n"
          ]
        }
      ],
      "source": [
        "print(d1[1:8:3])"
      ]
    },
    {
      "cell_type": "code",
      "execution_count": 81,
      "metadata": {
        "colab": {
          "base_uri": "https://localhost:8080/"
        },
        "id": "XlfHmm2FTu46",
        "outputId": "4bafe818-2f5b-426b-a5da-076ea1df7e29"
      },
      "outputs": [
        {
          "output_type": "stream",
          "name": "stdout",
          "text": [
            "[[ 0  1  2  3]\n",
            " [ 4  5  6  7]\n",
            " [ 8  9 10 11]]\n"
          ]
        }
      ],
      "source": [
        "print(d2)"
      ]
    },
    {
      "cell_type": "code",
      "execution_count": 82,
      "metadata": {
        "colab": {
          "base_uri": "https://localhost:8080/"
        },
        "id": "Lc93LWNRT3Gv",
        "outputId": "7a97450d-574e-45cd-f94f-9801dc341038"
      },
      "outputs": [
        {
          "output_type": "stream",
          "name": "stdout",
          "text": [
            "[0 1 2 3]\n"
          ]
        }
      ],
      "source": [
        "print(d2[0, :]) # gives first row of d2\n",
        "# print(d2[0]) # also works"
      ]
    },
    {
      "cell_type": "code",
      "execution_count": 83,
      "metadata": {
        "colab": {
          "base_uri": "https://localhost:8080/"
        },
        "id": "OwhKyXRKUANR",
        "outputId": "0e7fdc2d-a169-4081-8084-740dd2f0247f"
      },
      "outputs": [
        {
          "output_type": "stream",
          "name": "stdout",
          "text": [
            "[ 8  9 10 11]\n"
          ]
        }
      ],
      "source": [
        "print(d2[2, :])"
      ]
    },
    {
      "cell_type": "code",
      "execution_count": 84,
      "metadata": {
        "colab": {
          "base_uri": "https://localhost:8080/"
        },
        "id": "ACkgh7geWfWY",
        "outputId": "f9eec704-5f42-4de3-8c0f-0d9bba35dff6"
      },
      "outputs": [
        {
          "output_type": "stream",
          "name": "stdout",
          "text": [
            "[[0 1 2 3]\n",
            " [4 5 6 7]]\n"
          ]
        }
      ],
      "source": [
        "print(d2[0:2, ]) # gives rows with indices 0 and 1"
      ]
    },
    {
      "cell_type": "code",
      "execution_count": 85,
      "metadata": {
        "colab": {
          "base_uri": "https://localhost:8080/"
        },
        "id": "-EPBqYlrWxdA",
        "outputId": "8b3336fd-574d-434c-8ecb-518a7b68bede"
      },
      "outputs": [
        {
          "output_type": "stream",
          "name": "stdout",
          "text": [
            "[[ 0  1  2  3]\n",
            " [ 8  9 10 11]]\n"
          ]
        }
      ],
      "source": [
        "print(d2[[0, 2], :]) # gives rows with indices 0 and 2"
      ]
    },
    {
      "cell_type": "code",
      "execution_count": 86,
      "metadata": {
        "colab": {
          "base_uri": "https://localhost:8080/"
        },
        "id": "euyV5jK8UjYg",
        "outputId": "0de43cab-f39c-4012-ad72-cccad0fb871e"
      },
      "outputs": [
        {
          "output_type": "stream",
          "name": "stdout",
          "text": [
            "[ 3  7 11]\n"
          ]
        }
      ],
      "source": [
        "print(d2[:, 3]) # gives 4th column of d2"
      ]
    },
    {
      "cell_type": "code",
      "execution_count": 87,
      "metadata": {
        "colab": {
          "base_uri": "https://localhost:8080/"
        },
        "id": "_p4Y_460W_bQ",
        "outputId": "9eb288dc-164d-4684-fa8c-2466456e9510"
      },
      "outputs": [
        {
          "output_type": "stream",
          "name": "stdout",
          "text": [
            "[[ 0  1  2]\n",
            " [ 4  5  6]\n",
            " [ 8  9 10]]\n"
          ]
        }
      ],
      "source": [
        "print(d2[:, 0:3]) # gives columns with indices 0, 1, 2"
      ]
    },
    {
      "cell_type": "code",
      "execution_count": 88,
      "metadata": {
        "colab": {
          "base_uri": "https://localhost:8080/"
        },
        "id": "s-Fjh_yKXKqe",
        "outputId": "8a008a2b-5be7-441b-825c-04bdd81abb8e"
      },
      "outputs": [
        {
          "output_type": "stream",
          "name": "stdout",
          "text": [
            "[[ 0  3]\n",
            " [ 4  7]\n",
            " [ 8 11]]\n"
          ]
        }
      ],
      "source": [
        "print(d2[:, [0, 3]]) # gives columns with indices 0 and 3"
      ]
    },
    {
      "cell_type": "code",
      "execution_count": 89,
      "metadata": {
        "colab": {
          "base_uri": "https://localhost:8080/"
        },
        "id": "K826VSE5VIuJ",
        "outputId": "96698d73-89b1-4fbe-c3e6-ef74a194699e"
      },
      "outputs": [
        {
          "output_type": "stream",
          "name": "stdout",
          "text": [
            "[[ 5  6]\n",
            " [ 9 10]]\n"
          ]
        }
      ],
      "source": [
        "print(d2[1:, 1:3]) # gives a submatrix with 2nd, 3rd row and 2nd, 3rd column"
      ]
    },
    {
      "cell_type": "code",
      "execution_count": 96,
      "metadata": {
        "colab": {
          "base_uri": "https://localhost:8080/"
        },
        "id": "CbjNB1QsWRZo",
        "outputId": "819666df-21b5-4882-c5e0-d6e2d6ce4613"
      },
      "outputs": [
        {
          "output_type": "execute_result",
          "data": {
            "text/plain": [
              "array([[ 0,  3],\n",
              "       [ 8, 11]])"
            ]
          },
          "metadata": {},
          "execution_count": 96
        }
      ],
      "source": [
        "print(d2[::2, ::3])"
      ]
    },
    {
      "cell_type": "code",
      "source": [
        "print(d2[::2, 1:4:2])"
      ],
      "metadata": {
        "colab": {
          "base_uri": "https://localhost:8080/"
        },
        "id": "0vxEJHP4Nfdq",
        "outputId": "c58b6ebc-65fe-4e0f-a96a-43741bec9855"
      },
      "execution_count": 97,
      "outputs": [
        {
          "output_type": "stream",
          "name": "stdout",
          "text": [
            "[[ 1  3]\n",
            " [ 9 11]]\n"
          ]
        }
      ]
    },
    {
      "cell_type": "code",
      "source": [
        "print(d2[1, 0:4:3])"
      ],
      "metadata": {
        "colab": {
          "base_uri": "https://localhost:8080/"
        },
        "id": "PMzbZdjfYWJR",
        "outputId": "ccb80dcd-dd4f-4a05-b16e-ee856fbb115f"
      },
      "execution_count": 98,
      "outputs": [
        {
          "output_type": "stream",
          "name": "stdout",
          "text": [
            "[4 7]\n"
          ]
        }
      ]
    },
    {
      "cell_type": "code",
      "source": [
        "print(d2[0:2, 1:4])"
      ],
      "metadata": {
        "colab": {
          "base_uri": "https://localhost:8080/"
        },
        "id": "HCiVg33MYmO8",
        "outputId": "41bb7e31-4edf-4033-ffe6-cbd674f9ab42"
      },
      "execution_count": 99,
      "outputs": [
        {
          "output_type": "stream",
          "name": "stdout",
          "text": [
            "[[1 2 3]\n",
            " [5 6 7]]\n"
          ]
        }
      ]
    },
    {
      "cell_type": "code",
      "source": [
        "d4 = np.arange(27).reshape(3, 3, 3)\n",
        "print(d4)"
      ],
      "metadata": {
        "colab": {
          "base_uri": "https://localhost:8080/"
        },
        "id": "f-xaYkkIbcs8",
        "outputId": "4bafa006-f2f0-4939-da25-bfc90c51ddee"
      },
      "execution_count": 102,
      "outputs": [
        {
          "output_type": "stream",
          "name": "stdout",
          "text": [
            "[[[ 0  1  2]\n",
            "  [ 3  4  5]\n",
            "  [ 6  7  8]]\n",
            "\n",
            " [[ 9 10 11]\n",
            "  [12 13 14]\n",
            "  [15 16 17]]\n",
            "\n",
            " [[18 19 20]\n",
            "  [21 22 23]\n",
            "  [24 25 26]]]\n"
          ]
        }
      ]
    },
    {
      "cell_type": "code",
      "source": [
        "print(d4[1, :, :])"
      ],
      "metadata": {
        "colab": {
          "base_uri": "https://localhost:8080/"
        },
        "id": "BDSxYZyfbeFA",
        "outputId": "ee83a4c7-9675-4ff5-ecbb-cb20c94f6430"
      },
      "execution_count": 106,
      "outputs": [
        {
          "output_type": "stream",
          "name": "stdout",
          "text": [
            "[[ 9 10 11]\n",
            " [12 13 14]\n",
            " [15 16 17]]\n"
          ]
        }
      ]
    },
    {
      "cell_type": "code",
      "source": [
        "print(d4[0:3:2, :, :])"
      ],
      "metadata": {
        "colab": {
          "base_uri": "https://localhost:8080/"
        },
        "id": "MjDcZDiYcJin",
        "outputId": "b397b94c-26d4-458b-8d0f-cf68a0cf5d2b"
      },
      "execution_count": 105,
      "outputs": [
        {
          "output_type": "stream",
          "name": "stdout",
          "text": [
            "[[[ 0  1  2]\n",
            "  [ 3  4  5]\n",
            "  [ 6  7  8]]\n",
            "\n",
            " [[18 19 20]\n",
            "  [21 22 23]\n",
            "  [24 25 26]]]\n"
          ]
        }
      ]
    },
    {
      "cell_type": "code",
      "source": [
        "print(d4[0, 1, :])"
      ],
      "metadata": {
        "colab": {
          "base_uri": "https://localhost:8080/"
        },
        "id": "85odAShMcS6z",
        "outputId": "4ed4f48d-0a72-4155-e9fc-0f09af80cc76"
      },
      "execution_count": 107,
      "outputs": [
        {
          "output_type": "stream",
          "name": "stdout",
          "text": [
            "[3 4 5]\n"
          ]
        }
      ]
    },
    {
      "cell_type": "code",
      "source": [
        "print(d4[1, :, 1])"
      ],
      "metadata": {
        "colab": {
          "base_uri": "https://localhost:8080/"
        },
        "id": "To11y-X0celr",
        "outputId": "5dcf9d2d-42bf-4d2a-e6a0-057db72af636"
      },
      "execution_count": 108,
      "outputs": [
        {
          "output_type": "stream",
          "name": "stdout",
          "text": [
            "[10 13 16]\n"
          ]
        }
      ]
    },
    {
      "cell_type": "code",
      "source": [
        "print(d4[2, 1:3, 1:3])"
      ],
      "metadata": {
        "colab": {
          "base_uri": "https://localhost:8080/"
        },
        "id": "l7tZkXEAcpn5",
        "outputId": "199c83ed-89a1-4612-dc37-1afe9de8aa8e"
      },
      "execution_count": 109,
      "outputs": [
        {
          "output_type": "stream",
          "name": "stdout",
          "text": [
            "[[22 23]\n",
            " [25 26]]\n"
          ]
        }
      ]
    },
    {
      "cell_type": "code",
      "source": [
        "print(d4[0:3:2, 0, 0:3:2])"
      ],
      "metadata": {
        "colab": {
          "base_uri": "https://localhost:8080/"
        },
        "id": "Dwef5jf_c5kC",
        "outputId": "550eb344-f4d6-4108-8ba8-2e987dca3260"
      },
      "execution_count": 110,
      "outputs": [
        {
          "output_type": "stream",
          "name": "stdout",
          "text": [
            "[[ 0  2]\n",
            " [18 20]]\n"
          ]
        }
      ]
    },
    {
      "cell_type": "markdown",
      "source": [
        "### Iterating"
      ],
      "metadata": {
        "id": "ZnXnZ9v_eLM6"
      }
    },
    {
      "cell_type": "code",
      "source": [
        "print(d1)"
      ],
      "metadata": {
        "colab": {
          "base_uri": "https://localhost:8080/"
        },
        "id": "bG-p17w_eMlo",
        "outputId": "06f0fd86-948c-484e-a174-c7a1b7adbda7"
      },
      "execution_count": 111,
      "outputs": [
        {
          "output_type": "stream",
          "name": "stdout",
          "text": [
            "[0 1 2 3 4 5 6 7 8 9]\n"
          ]
        }
      ]
    },
    {
      "cell_type": "code",
      "source": [
        "for i in d1:\n",
        "  print(i)"
      ],
      "metadata": {
        "colab": {
          "base_uri": "https://localhost:8080/"
        },
        "id": "bsXuyeTBeXcN",
        "outputId": "d0bebf4f-9368-4600-e17b-b31144a27932"
      },
      "execution_count": 115,
      "outputs": [
        {
          "output_type": "stream",
          "name": "stdout",
          "text": [
            "0\n",
            "1\n",
            "2\n",
            "3\n",
            "4\n",
            "5\n",
            "6\n",
            "7\n",
            "8\n",
            "9\n"
          ]
        }
      ]
    },
    {
      "cell_type": "code",
      "source": [
        "print(d2)"
      ],
      "metadata": {
        "colab": {
          "base_uri": "https://localhost:8080/"
        },
        "id": "CfXaBDWJeQDC",
        "outputId": "e81650b9-96a7-4bff-8baf-1716c075a259"
      },
      "execution_count": 112,
      "outputs": [
        {
          "output_type": "stream",
          "name": "stdout",
          "text": [
            "[[ 0  1  2  3]\n",
            " [ 4  5  6  7]\n",
            " [ 8  9 10 11]]\n"
          ]
        }
      ]
    },
    {
      "cell_type": "code",
      "source": [
        "for i in d2:\n",
        "  print(i) # prints a 1D array"
      ],
      "metadata": {
        "colab": {
          "base_uri": "https://localhost:8080/"
        },
        "id": "jVZiLuWDebu3",
        "outputId": "852eed78-1da8-4862-be77-3733c36ffbdc"
      },
      "execution_count": 116,
      "outputs": [
        {
          "output_type": "stream",
          "name": "stdout",
          "text": [
            "[0 1 2 3]\n",
            "[4 5 6 7]\n",
            "[ 8  9 10 11]\n"
          ]
        }
      ]
    },
    {
      "cell_type": "code",
      "source": [
        "for i in np.nditer(d2):\n",
        "  print(i)"
      ],
      "metadata": {
        "colab": {
          "base_uri": "https://localhost:8080/"
        },
        "id": "pLcWdeuxesQw",
        "outputId": "736aeb6a-fd16-4404-c873-7315ef83ee2c"
      },
      "execution_count": 118,
      "outputs": [
        {
          "output_type": "stream",
          "name": "stdout",
          "text": [
            "0\n",
            "1\n",
            "2\n",
            "3\n",
            "4\n",
            "5\n",
            "6\n",
            "7\n",
            "8\n",
            "9\n",
            "10\n",
            "11\n"
          ]
        }
      ]
    },
    {
      "cell_type": "code",
      "source": [
        "print(d4)"
      ],
      "metadata": {
        "colab": {
          "base_uri": "https://localhost:8080/"
        },
        "id": "atTDQIGLeQzD",
        "outputId": "a738975f-8981-4b49-de2c-a123508a9878"
      },
      "execution_count": 114,
      "outputs": [
        {
          "output_type": "stream",
          "name": "stdout",
          "text": [
            "[[[ 0  1  2]\n",
            "  [ 3  4  5]\n",
            "  [ 6  7  8]]\n",
            "\n",
            " [[ 9 10 11]\n",
            "  [12 13 14]\n",
            "  [15 16 17]]\n",
            "\n",
            " [[18 19 20]\n",
            "  [21 22 23]\n",
            "  [24 25 26]]]\n"
          ]
        }
      ]
    },
    {
      "cell_type": "code",
      "source": [
        "for i in d4:\n",
        "  print(i) # prints a 2D array"
      ],
      "metadata": {
        "colab": {
          "base_uri": "https://localhost:8080/"
        },
        "id": "-8vDz2TPekwg",
        "outputId": "e57b6723-0270-44b7-a74d-4676ac8f02ed"
      },
      "execution_count": 117,
      "outputs": [
        {
          "output_type": "stream",
          "name": "stdout",
          "text": [
            "[[0 1 2]\n",
            " [3 4 5]\n",
            " [6 7 8]]\n",
            "[[ 9 10 11]\n",
            " [12 13 14]\n",
            " [15 16 17]]\n",
            "[[18 19 20]\n",
            " [21 22 23]\n",
            " [24 25 26]]\n"
          ]
        }
      ]
    },
    {
      "cell_type": "code",
      "source": [
        "for i in np.nditer(d4):\n",
        "  print(i)"
      ],
      "metadata": {
        "colab": {
          "base_uri": "https://localhost:8080/"
        },
        "id": "Y_cOcfEqe6S4",
        "outputId": "87d45a44-da67-431e-ba1f-eab08b264abf"
      },
      "execution_count": 119,
      "outputs": [
        {
          "output_type": "stream",
          "name": "stdout",
          "text": [
            "0\n",
            "1\n",
            "2\n",
            "3\n",
            "4\n",
            "5\n",
            "6\n",
            "7\n",
            "8\n",
            "9\n",
            "10\n",
            "11\n",
            "12\n",
            "13\n",
            "14\n",
            "15\n",
            "16\n",
            "17\n",
            "18\n",
            "19\n",
            "20\n",
            "21\n",
            "22\n",
            "23\n",
            "24\n",
            "25\n",
            "26\n"
          ]
        }
      ]
    },
    {
      "cell_type": "markdown",
      "source": [
        "### Reshaping"
      ],
      "metadata": {
        "id": "YU6gec7jfMAf"
      }
    },
    {
      "cell_type": "code",
      "source": [
        "print(d2)"
      ],
      "metadata": {
        "colab": {
          "base_uri": "https://localhost:8080/"
        },
        "id": "6dnYDH-ufNga",
        "outputId": "542f7a4d-1684-45dc-9448-b4293d065bf4"
      },
      "execution_count": 120,
      "outputs": [
        {
          "output_type": "stream",
          "name": "stdout",
          "text": [
            "[[ 0  1  2  3]\n",
            " [ 4  5  6  7]\n",
            " [ 8  9 10 11]]\n"
          ]
        }
      ]
    },
    {
      "cell_type": "code",
      "source": [
        "# reshape()\n",
        "d2_reshaped = d2.reshape(4, 3)\n",
        "print(d2_reshaped)"
      ],
      "metadata": {
        "colab": {
          "base_uri": "https://localhost:8080/"
        },
        "id": "XtPqg7B7fV2o",
        "outputId": "3367f5ae-940e-42b5-ea68-19a2f7daf0ce"
      },
      "execution_count": 123,
      "outputs": [
        {
          "output_type": "stream",
          "name": "stdout",
          "text": [
            "[[ 0  1  2]\n",
            " [ 3  4  5]\n",
            " [ 6  7  8]\n",
            " [ 9 10 11]]\n"
          ]
        }
      ]
    },
    {
      "cell_type": "code",
      "source": [
        "# transpose\n",
        "d2_transposed = np.transpose(d2)\n",
        "print(d2_transposed)"
      ],
      "metadata": {
        "colab": {
          "base_uri": "https://localhost:8080/"
        },
        "id": "k86mt4NGfdjh",
        "outputId": "a2065890-16f4-49d2-a6f5-c726dcf568d8"
      },
      "execution_count": 124,
      "outputs": [
        {
          "output_type": "stream",
          "name": "stdout",
          "text": [
            "[[ 0  4  8]\n",
            " [ 1  5  9]\n",
            " [ 2  6 10]\n",
            " [ 3  7 11]]\n"
          ]
        }
      ]
    },
    {
      "cell_type": "code",
      "source": [
        "print(d2.T)"
      ],
      "metadata": {
        "colab": {
          "base_uri": "https://localhost:8080/"
        },
        "id": "mfD5PfiSfreJ",
        "outputId": "5877f1b1-363e-4a23-a1ef-d2fa4f72bd4c"
      },
      "execution_count": 125,
      "outputs": [
        {
          "output_type": "stream",
          "name": "stdout",
          "text": [
            "[[ 0  4  8]\n",
            " [ 1  5  9]\n",
            " [ 2  6 10]\n",
            " [ 3  7 11]]\n"
          ]
        }
      ]
    },
    {
      "cell_type": "code",
      "source": [
        "# ravel() - converts any dimensional array to 1D array\n",
        "d4_raveled = np.ravel(d4)\n",
        "print(d4_raveled)"
      ],
      "metadata": {
        "colab": {
          "base_uri": "https://localhost:8080/"
        },
        "id": "hCtmAfMnf1IJ",
        "outputId": "14c83230-0cad-421a-cea9-c87b6175cce8"
      },
      "execution_count": 126,
      "outputs": [
        {
          "output_type": "stream",
          "name": "stdout",
          "text": [
            "[ 0  1  2  3  4  5  6  7  8  9 10 11 12 13 14 15 16 17 18 19 20 21 22 23\n",
            " 24 25 26]\n"
          ]
        }
      ]
    },
    {
      "cell_type": "markdown",
      "source": [
        "$\\bullet$ All these functions create a new array, do not change the existing array."
      ],
      "metadata": {
        "id": "2h3L8B_ugKBD"
      }
    },
    {
      "cell_type": "markdown",
      "source": [
        "### Stacking"
      ],
      "metadata": {
        "id": "JYhuyBENgT_l"
      }
    },
    {
      "cell_type": "markdown",
      "source": [
        "$\\bullet$ Stacking is useful in merging data."
      ],
      "metadata": {
        "id": "uCBJOCjEhdPp"
      }
    },
    {
      "cell_type": "code",
      "source": [
        "e1 = np.arange(12).reshape(3, 4)\n",
        "print(e1)\n",
        "e2 = np.arange(12, 24).reshape(3, 4)\n",
        "print(e2)\n",
        "e3 = np.arange(24, 36).reshape(3, 4)\n",
        "print(e3)"
      ],
      "metadata": {
        "colab": {
          "base_uri": "https://localhost:8080/"
        },
        "id": "JjiCHKO4gVyA",
        "outputId": "fbe8eb1f-721e-4fa0-bc42-e8f69e736c18"
      },
      "execution_count": 131,
      "outputs": [
        {
          "output_type": "stream",
          "name": "stdout",
          "text": [
            "[[ 0  1  2  3]\n",
            " [ 4  5  6  7]\n",
            " [ 8  9 10 11]]\n",
            "[[12 13 14 15]\n",
            " [16 17 18 19]\n",
            " [20 21 22 23]]\n",
            "[[24 25 26 27]\n",
            " [28 29 30 31]\n",
            " [32 33 34 35]]\n"
          ]
        }
      ]
    },
    {
      "cell_type": "code",
      "source": [
        "# horizontal stacking - hstack()\n",
        "print(np.hstack((e1, e2, e3))) # remember that its inputs is a tuple"
      ],
      "metadata": {
        "colab": {
          "base_uri": "https://localhost:8080/"
        },
        "id": "UMTdhgXUgSCw",
        "outputId": "7af115a4-7c18-4e9b-bdf7-a24293d19888"
      },
      "execution_count": 132,
      "outputs": [
        {
          "output_type": "stream",
          "name": "stdout",
          "text": [
            "[[ 0  1  2  3 12 13 14 15 24 25 26 27]\n",
            " [ 4  5  6  7 16 17 18 19 28 29 30 31]\n",
            " [ 8  9 10 11 20 21 22 23 32 33 34 35]]\n"
          ]
        }
      ]
    },
    {
      "cell_type": "code",
      "source": [
        "# vertical stacking - vstack()\n",
        "print(np.vstack((e1, e2, e3)))"
      ],
      "metadata": {
        "colab": {
          "base_uri": "https://localhost:8080/"
        },
        "id": "xcb66zr5hNVQ",
        "outputId": "da33e48e-4e73-4b56-89b6-96d6e9afd132"
      },
      "execution_count": 133,
      "outputs": [
        {
          "output_type": "stream",
          "name": "stdout",
          "text": [
            "[[ 0  1  2  3]\n",
            " [ 4  5  6  7]\n",
            " [ 8  9 10 11]\n",
            " [12 13 14 15]\n",
            " [16 17 18 19]\n",
            " [20 21 22 23]\n",
            " [24 25 26 27]\n",
            " [28 29 30 31]\n",
            " [32 33 34 35]]\n"
          ]
        }
      ]
    },
    {
      "cell_type": "markdown",
      "source": [
        "### Splitting"
      ],
      "metadata": {
        "id": "jNIzuBp8hurK"
      }
    },
    {
      "cell_type": "code",
      "source": [
        "print(d2)"
      ],
      "metadata": {
        "colab": {
          "base_uri": "https://localhost:8080/"
        },
        "id": "3qSreNCuhAe4",
        "outputId": "42fb0e63-c48f-4fa9-b727-9fe2db3b6126"
      },
      "execution_count": 136,
      "outputs": [
        {
          "output_type": "stream",
          "name": "stdout",
          "text": [
            "[[ 0  1  2  3]\n",
            " [ 4  5  6  7]\n",
            " [ 8  9 10 11]]\n"
          ]
        }
      ]
    },
    {
      "cell_type": "code",
      "source": [
        "# horizontal splitting - hsplit()\n",
        "print(np.hsplit(d2, 2))"
      ],
      "metadata": {
        "colab": {
          "base_uri": "https://localhost:8080/"
        },
        "id": "p3rDvZrciHkZ",
        "outputId": "9d24a4e2-fdc0-4f2b-fd54-6f35958c9fe4"
      },
      "execution_count": 137,
      "outputs": [
        {
          "output_type": "stream",
          "name": "stdout",
          "text": [
            "[array([[0, 1],\n",
            "       [4, 5],\n",
            "       [8, 9]]), array([[ 2,  3],\n",
            "       [ 6,  7],\n",
            "       [10, 11]])]\n"
          ]
        }
      ]
    },
    {
      "cell_type": "code",
      "source": [
        "# vertical splitting - vsplit()\n",
        "print(d2_reshaped)"
      ],
      "metadata": {
        "colab": {
          "base_uri": "https://localhost:8080/"
        },
        "id": "N7AZZeBfiZ1N",
        "outputId": "888e1fcc-c9fd-4488-a80f-98b16089ab1a"
      },
      "execution_count": 142,
      "outputs": [
        {
          "output_type": "stream",
          "name": "stdout",
          "text": [
            "[[ 0  1  2]\n",
            " [ 3  4  5]\n",
            " [ 6  7  8]\n",
            " [ 9 10 11]]\n"
          ]
        }
      ]
    },
    {
      "cell_type": "code",
      "source": [
        "print(np.vsplit(d2_reshaped, 2))"
      ],
      "metadata": {
        "colab": {
          "base_uri": "https://localhost:8080/"
        },
        "id": "5Rkwco0vinEg",
        "outputId": "f359e9c5-df7f-4c8d-ab68-38eb5954dcac"
      },
      "execution_count": 141,
      "outputs": [
        {
          "output_type": "stream",
          "name": "stdout",
          "text": [
            "[array([[0, 1, 2],\n",
            "       [3, 4, 5]]), array([[ 6,  7,  8],\n",
            "       [ 9, 10, 11]])]\n"
          ]
        }
      ]
    },
    {
      "cell_type": "code",
      "source": [
        "print(np.vsplit(d2, 3))"
      ],
      "metadata": {
        "colab": {
          "base_uri": "https://localhost:8080/"
        },
        "id": "6CgXTZrSi-W6",
        "outputId": "1aac51b3-058c-4a36-8d9c-fe54b88b441a"
      },
      "execution_count": 143,
      "outputs": [
        {
          "output_type": "stream",
          "name": "stdout",
          "text": [
            "[array([[0, 1, 2, 3]]), array([[4, 5, 6, 7]]), array([[ 8,  9, 10, 11]])]\n"
          ]
        }
      ]
    },
    {
      "cell_type": "markdown",
      "source": [
        "$\\bullet$ $\\textit{hsplit()}$ and $\\textit{vsplit()}$ support equal splitting only."
      ],
      "metadata": {
        "id": "PjuHxUWDisX1"
      }
    }
  ],
  "metadata": {
    "colab": {
      "provenance": [],
      "authorship_tag": "ABX9TyOjq1jJkbv2ckTmz3vRU1+I",
      "include_colab_link": true
    },
    "kernelspec": {
      "display_name": "Python 3",
      "name": "python3"
    },
    "language_info": {
      "name": "python"
    }
  },
  "nbformat": 4,
  "nbformat_minor": 0
}