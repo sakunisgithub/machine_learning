{
  "cells": [
    {
      "cell_type": "markdown",
      "metadata": {
        "id": "view-in-github",
        "colab_type": "text"
      },
      "source": [
        "<a href=\"https://colab.research.google.com/github/sakunisgithub/machine_learning/blob/master/Numpy.ipynb\" target=\"_parent\"><img src=\"https://colab.research.google.com/assets/colab-badge.svg\" alt=\"Open In Colab\"/></a>"
      ]
    },
    {
      "cell_type": "markdown",
      "metadata": {
        "id": "-Jk3KsqTfjns"
      },
      "source": [
        "$$\\textbf{NumPy - Numerical Python}$$"
      ]
    },
    {
      "cell_type": "markdown",
      "source": [
        "### What is NumPy?\n",
        "\n",
        "NumPy is the fundamental package for scientific computing in Python. It is a Python library that provides a multidimensional array object, various derived objects (such as masked arrays and matrices), and an assortment of routines for fast operations on arrays, including mathematical, logical, shape manipulation, sorting, selecting, I/O, discrete Fourier transforms, basic linear algebra, basic statistical operations, random simulation and much more.\n",
        "\n",
        "\n",
        "At the core of the NumPy package, is the ndarray object. This encapsulates n-dimensional arrays of homogeneous data types."
      ],
      "metadata": {
        "id": "sfoSmH_o7rCb"
      }
    },
    {
      "cell_type": "markdown",
      "source": [
        "### Numpy Arrays Vs Python Sequences\n",
        "\n",
        "- NumPy arrays have a fixed size at creation, unlike Python lists (which can grow dynamically). Changing the size of an ndarray will create a new array and delete the original.\n",
        "\n",
        "- The elements in a NumPy array are all required to be of the same data type, and thus will be of the same size in memory.\n",
        "\n",
        "- NumPy arrays facilitate advanced mathematical and other types of operations on large numbers of data. Typically, such operations are executed more efficiently and with less code than is possible using Python’s built-in sequences.\n",
        "\n",
        "- A growing plethora of scientific and mathematical Python-based packages are using NumPy arrays; though these typically support Python-sequence input, they convert such input to NumPy arrays prior to processing, and they often output NumPy arrays."
      ],
      "metadata": {
        "id": "sVDGO9RG7wdc"
      }
    },
    {
      "cell_type": "markdown",
      "metadata": {
        "id": "vldjx6AaLWJt"
      },
      "source": [
        "### Creating NumPy arrays"
      ]
    },
    {
      "cell_type": "code",
      "execution_count": 2,
      "metadata": {
        "id": "gIpcTsnEfUn8"
      },
      "outputs": [],
      "source": [
        "import numpy as np"
      ]
    },
    {
      "cell_type": "code",
      "execution_count": 3,
      "metadata": {
        "colab": {
          "base_uri": "https://localhost:8080/"
        },
        "id": "L5iocsAqLakG",
        "outputId": "515b0500-f2f2-4e9a-d3fa-8f528e651374"
      },
      "outputs": [
        {
          "output_type": "stream",
          "name": "stdout",
          "text": [
            "[1 2 3 4]\n"
          ]
        }
      ],
      "source": [
        "# 1D (a vector)\n",
        "a = np.array([1, 2, 3, 4])\n",
        "print(a)"
      ]
    },
    {
      "cell_type": "code",
      "source": [
        "# array creation from a tuple\n",
        "a = np.array((1, 2, 3, 4))\n",
        "print(a)"
      ],
      "metadata": {
        "colab": {
          "base_uri": "https://localhost:8080/"
        },
        "id": "A3meyk35dvS4",
        "outputId": "beff2990-939a-4e77-9b1a-aa6f5349def5"
      },
      "execution_count": 262,
      "outputs": [
        {
          "output_type": "stream",
          "name": "stdout",
          "text": [
            "[1 2 3 4]\n"
          ]
        }
      ]
    },
    {
      "cell_type": "code",
      "execution_count": 4,
      "metadata": {
        "colab": {
          "base_uri": "https://localhost:8080/"
        },
        "id": "-0ZRyvo5LsNX",
        "outputId": "853d4209-2de4-440d-92a4-1ed6c1b4f31a"
      },
      "outputs": [
        {
          "output_type": "stream",
          "name": "stdout",
          "text": [
            "<class 'numpy.ndarray'>\n"
          ]
        }
      ],
      "source": [
        "print(type(a))"
      ]
    },
    {
      "cell_type": "code",
      "execution_count": 5,
      "metadata": {
        "colab": {
          "base_uri": "https://localhost:8080/"
        },
        "id": "d3DO6vb_L4Sl",
        "outputId": "9dfc4a81-3649-4eaa-930e-7c75dbf25e9b"
      },
      "outputs": [
        {
          "output_type": "stream",
          "name": "stdout",
          "text": [
            "[[1 2 3]\n",
            " [4 5 6]]\n"
          ]
        }
      ],
      "source": [
        "# 2D (a matrix)\n",
        "b = np.array([[1, 2, 3], [4, 5, 6]])\n",
        "print(b)"
      ]
    },
    {
      "cell_type": "code",
      "execution_count": 6,
      "metadata": {
        "colab": {
          "base_uri": "https://localhost:8080/"
        },
        "id": "trNfnVIjMMTi",
        "outputId": "ebc58b75-cde5-4c69-fe7d-c140f373dd90"
      },
      "outputs": [
        {
          "output_type": "stream",
          "name": "stdout",
          "text": [
            "[[[ 5  6]\n",
            "  [15 16]]\n",
            "\n",
            " [[ 1  2]\n",
            "  [11 12]]]\n"
          ]
        }
      ],
      "source": [
        "# 3D (a tensor)\n",
        "c = np.array([[[5, 6], [15, 16]], [[1, 2], [11, 12]]])\n",
        "print(c)"
      ]
    },
    {
      "cell_type": "code",
      "execution_count": 7,
      "metadata": {
        "colab": {
          "base_uri": "https://localhost:8080/"
        },
        "id": "-QI2NmbzMwh8",
        "outputId": "d1a91448-064c-4e45-9c6a-575110c55235"
      },
      "outputs": [
        {
          "output_type": "stream",
          "name": "stdout",
          "text": [
            "[1. 2. 3.]\n",
            "[False  True  True  True]\n",
            "[ 5.+0.j  7.+0.j 10.+0.j]\n"
          ]
        }
      ],
      "source": [
        "## creating a numpy array of a particular data type\n",
        "\n",
        "# float\n",
        "a1 = np.array([1, 2, 3], dtype = float)\n",
        "print(a1)\n",
        "\n",
        "# boolean\n",
        "a2 = np.array([0, 1, 2, 3], dtype = bool)\n",
        "print(a2)\n",
        "\n",
        "# complex\n",
        "a3 = np.array([5, 7, 10], dtype = complex)\n",
        "print(a3)"
      ]
    },
    {
      "cell_type": "code",
      "execution_count": 8,
      "metadata": {
        "colab": {
          "base_uri": "https://localhost:8080/"
        },
        "id": "f5sRIhMDNvmW",
        "outputId": "debf3271-cd4a-4b77-fac0-ba3da48e16bc"
      },
      "outputs": [
        {
          "output_type": "stream",
          "name": "stdout",
          "text": [
            "[ 1  2  3  4  5  6  7  8  9 10]\n",
            "[ 1  4  7 10]\n",
            "[0 1 2 3 4]\n"
          ]
        }
      ],
      "source": [
        "# by using arange() function - arange() is similar to range()\n",
        "a4 = np.arange(1, 11)\n",
        "print(a4) # np.arange(a, b) yields integers from a to b-1\n",
        "\n",
        "a5 = np.arange(1, 11, 3)\n",
        "print(a5)\n",
        "\n",
        "arr = np.arange(5)\n",
        "print(arr)"
      ]
    },
    {
      "cell_type": "code",
      "execution_count": 9,
      "metadata": {
        "colab": {
          "base_uri": "https://localhost:8080/"
        },
        "id": "TxY6dY_IOjBd",
        "outputId": "9cba5286-273e-4781-d97a-8e2b2bddcf7f"
      },
      "outputs": [
        {
          "output_type": "stream",
          "name": "stdout",
          "text": [
            "[[ 1  2  3  4  5]\n",
            " [ 6  7  8  9 10]\n",
            " [11 12 13 14 15]\n",
            " [16 17 18 19 20]\n",
            " [21 22 23 24 25]\n",
            " [26 27 28 29 30]\n",
            " [31 32 33 34 35]\n",
            " [36 37 38 39 40]\n",
            " [41 42 43 44 45]\n",
            " [46 47 48 49 50]]\n",
            "[[[ 1  2  3]\n",
            "  [ 4  5  6]\n",
            "  [ 7  8  9]]\n",
            "\n",
            " [[10 11 12]\n",
            "  [13 14 15]\n",
            "  [16 17 18]]\n",
            "\n",
            " [[19 20 21]\n",
            "  [22 23 24]\n",
            "  [25 26 27]]]\n"
          ]
        }
      ],
      "source": [
        "# reshape() function\n",
        "a6 = np.arange(1, 51).reshape(10, 5)\n",
        "print(a6)\n",
        "\n",
        "a7 = np.arange(1, 28).reshape(3, 3, 3)\n",
        "print(a7)"
      ]
    },
    {
      "cell_type": "code",
      "execution_count": 10,
      "metadata": {
        "colab": {
          "base_uri": "https://localhost:8080/"
        },
        "id": "CKpj9dL9Prjw",
        "outputId": "5722420e-5622-4a09-eadf-000c5d08f952"
      },
      "outputs": [
        {
          "output_type": "stream",
          "name": "stdout",
          "text": [
            "[[1. 1.]\n",
            " [1. 1.]\n",
            " [1. 1.]\n",
            " [1. 1.]\n",
            " [1. 1.]]\n"
          ]
        }
      ],
      "source": [
        "# ones()\n",
        "a8 = np.ones((5, 2)) # creates an array of shape (5, 2) with all the elements being 1\n",
        "print(a8)"
      ]
    },
    {
      "cell_type": "code",
      "execution_count": 11,
      "metadata": {
        "colab": {
          "base_uri": "https://localhost:8080/"
        },
        "id": "qDCUeTNZQQhq",
        "outputId": "a00ed4b5-56c0-4767-fa57-8aadbee8c480"
      },
      "outputs": [
        {
          "output_type": "stream",
          "name": "stdout",
          "text": [
            "[[1 1 1 1]\n",
            " [1 1 1 1]\n",
            " [1 1 1 1]]\n"
          ]
        }
      ],
      "source": [
        "a9 = np.ones((3, 4), dtype = int)\n",
        "print(a9)"
      ]
    },
    {
      "cell_type": "code",
      "execution_count": 12,
      "metadata": {
        "colab": {
          "base_uri": "https://localhost:8080/"
        },
        "id": "2vVNyE8RQd-F",
        "outputId": "ef737df9-9590-4e73-b659-41e48c909e11"
      },
      "outputs": [
        {
          "output_type": "stream",
          "name": "stdout",
          "text": [
            "[[0. 0. 0.]\n",
            " [0. 0. 0.]]\n"
          ]
        }
      ],
      "source": [
        "# zeros()\n",
        "a10 = np.zeros((2, 3)) # creates an array of shape (2, 3) with all the elements being 0\n",
        "print(a10)"
      ]
    },
    {
      "cell_type": "code",
      "execution_count": 13,
      "metadata": {
        "colab": {
          "base_uri": "https://localhost:8080/"
        },
        "id": "UggmdTx0RLyP",
        "outputId": "fa84e5ce-3937-4b9d-a02c-d2f7fab83e84"
      },
      "outputs": [
        {
          "output_type": "stream",
          "name": "stdout",
          "text": [
            "[[0.2241975  0.85434087 0.78013418]\n",
            " [0.51213188 0.24097078 0.25492795]]\n"
          ]
        }
      ],
      "source": [
        "# random()\n",
        "a11 = np.random.random((2, 3)) # creates an array of shape(2, 3) with all the elements being random numbers in between 0 and 1\n",
        "print(a11)"
      ]
    },
    {
      "cell_type": "markdown",
      "metadata": {
        "id": "v9Lsgf38Q9c8"
      },
      "source": [
        "np.ones(), np.zeros(), np.random.random() are mainly useful in array initialization."
      ]
    },
    {
      "cell_type": "code",
      "execution_count": 14,
      "metadata": {
        "colab": {
          "base_uri": "https://localhost:8080/"
        },
        "id": "-10tL35-REFN",
        "outputId": "008ed1fc-43a2-40ac-ae4d-29c3063d838b"
      },
      "outputs": [
        {
          "output_type": "stream",
          "name": "stdout",
          "text": [
            "[-20.         -17.14285714 -14.28571429 -11.42857143  -8.57142857\n",
            "  -5.71428571  -2.85714286   0.           2.85714286   5.71428571\n",
            "   8.57142857  11.42857143  14.28571429  17.14285714  20.        ]\n"
          ]
        }
      ],
      "source": [
        "# linspace() linearly spaced\n",
        "a12 = np.linspace(-20, 20, 15) # generates 15 equispaced numbers from -20 to 20\n",
        "print(a12)"
      ]
    },
    {
      "cell_type": "code",
      "execution_count": 15,
      "metadata": {
        "colab": {
          "base_uri": "https://localhost:8080/"
        },
        "id": "Xzt1Z73LSXTc",
        "outputId": "b468f69f-42f3-4613-846f-746d4cb87e61"
      },
      "outputs": [
        {
          "output_type": "stream",
          "name": "stdout",
          "text": [
            "[[1. 0. 0. 0.]\n",
            " [0. 1. 0. 0.]\n",
            " [0. 0. 1. 0.]\n",
            " [0. 0. 0. 1.]]\n"
          ]
        }
      ],
      "source": [
        "# identity()\n",
        "a13 = np.identity(4) # creates an identity matrix of order 4\n",
        "print(a13)"
      ]
    },
    {
      "cell_type": "code",
      "source": [
        "# empty()\n",
        "# creates an array with dimension (3, 4) with random elements\n",
        "a14 = np.empty(5)\n",
        "print(a14)"
      ],
      "metadata": {
        "colab": {
          "base_uri": "https://localhost:8080/"
        },
        "id": "vGvM8cp9egM8",
        "outputId": "89cdc4b2-dcd2-40b8-b32b-01113c2eb910"
      },
      "execution_count": 263,
      "outputs": [
        {
          "output_type": "stream",
          "name": "stdout",
          "text": [
            "[4.4e-323 7.4e-323 4.9e-324 2.0e-323 8.9e-323]\n"
          ]
        }
      ]
    },
    {
      "cell_type": "code",
      "source": [
        "a15 = np.empty((3, 3))\n",
        "print(a15)"
      ],
      "metadata": {
        "colab": {
          "base_uri": "https://localhost:8080/"
        },
        "id": "JQBMyMApelTy",
        "outputId": "1d1583f3-48f0-455b-ffea-03799197db54"
      },
      "execution_count": 264,
      "outputs": [
        {
          "output_type": "stream",
          "name": "stdout",
          "text": [
            "[[0.0e+000 4.9e-324 1.5e-323]\n",
            " [2.0e-323 2.5e-323 3.5e-323]\n",
            " [4.0e-323 4.4e-323 5.4e-323]]\n"
          ]
        }
      ]
    },
    {
      "cell_type": "markdown",
      "source": [
        "$\\textit{empty()}$ is also said to be faster than $\\textit{zeros()}$ and $\\textit{ones()}$."
      ],
      "metadata": {
        "id": "BfIP59GjfASm"
      }
    },
    {
      "cell_type": "markdown",
      "metadata": {
        "id": "5WZNiWSbiuu6"
      },
      "source": [
        "### Array Attributes"
      ]
    },
    {
      "cell_type": "code",
      "execution_count": 16,
      "metadata": {
        "colab": {
          "base_uri": "https://localhost:8080/"
        },
        "id": "KsStEmBfiz-M",
        "outputId": "3aa55753-b787-4f15-f83d-29d0aa5e9895"
      },
      "outputs": [
        {
          "output_type": "stream",
          "name": "stdout",
          "text": [
            "[ 0  1  2  3  4  5  6  7  8  9 10]\n"
          ]
        }
      ],
      "source": [
        "arr1 = np.arange(0, 11)\n",
        "print(arr1)"
      ]
    },
    {
      "cell_type": "code",
      "execution_count": 17,
      "metadata": {
        "colab": {
          "base_uri": "https://localhost:8080/"
        },
        "id": "CkxnN_xflCgW",
        "outputId": "024613d3-9448-43f0-f269-30e81ca2400d"
      },
      "outputs": [
        {
          "output_type": "stream",
          "name": "stdout",
          "text": [
            "[[ 1.  2.  3.  4.]\n",
            " [ 5.  6.  7.  8.]\n",
            " [ 9. 10. 11. 12.]]\n"
          ]
        }
      ],
      "source": [
        "arr2 = np.arange(1, 13, dtype = float).reshape(3, 4)\n",
        "print(arr2)"
      ]
    },
    {
      "cell_type": "code",
      "execution_count": 18,
      "metadata": {
        "colab": {
          "base_uri": "https://localhost:8080/"
        },
        "id": "Tvpe_pjIlFj2",
        "outputId": "5bcd1802-f0be-4922-e7ce-7e7b0165c10c"
      },
      "outputs": [
        {
          "output_type": "stream",
          "name": "stdout",
          "text": [
            "[[[0 1]\n",
            "  [2 3]]\n",
            "\n",
            " [[4 5]\n",
            "  [6 7]]]\n"
          ]
        }
      ],
      "source": [
        "arr3 = np.arange(8, dtype = np.int32).reshape(2, 2, 2)\n",
        "print(arr3)"
      ]
    },
    {
      "cell_type": "code",
      "execution_count": 19,
      "metadata": {
        "colab": {
          "base_uri": "https://localhost:8080/"
        },
        "id": "5dJJ2pfUixL5",
        "outputId": "272f9237-cbf4-42dc-b0c0-bab7692e4cef"
      },
      "outputs": [
        {
          "output_type": "stream",
          "name": "stdout",
          "text": [
            "1\n",
            "2\n",
            "3\n"
          ]
        }
      ],
      "source": [
        "# ndim - gives number of dimension(s) of an array\n",
        "print(arr1.ndim)\n",
        "print(arr2.ndim)\n",
        "print(arr3.ndim)"
      ]
    },
    {
      "cell_type": "code",
      "execution_count": 20,
      "metadata": {
        "colab": {
          "base_uri": "https://localhost:8080/"
        },
        "id": "r_D_LEAHjUU5",
        "outputId": "4ed646ef-edec-46b1-cd22-7a04dac4d628"
      },
      "outputs": [
        {
          "output_type": "stream",
          "name": "stdout",
          "text": [
            "(11,)\n",
            "(3, 4)\n",
            "(2, 2, 2)\n"
          ]
        }
      ],
      "source": [
        "# shape - gives dimension of an array\n",
        "print(arr1.shape)\n",
        "print(arr2.shape)\n",
        "print(arr3.shape)"
      ]
    },
    {
      "cell_type": "code",
      "execution_count": 21,
      "metadata": {
        "colab": {
          "base_uri": "https://localhost:8080/"
        },
        "id": "TZUFgzE4j6f2",
        "outputId": "a4628e8f-f4c9-43f8-ce7f-6194152b8638"
      },
      "outputs": [
        {
          "output_type": "stream",
          "name": "stdout",
          "text": [
            "12\n",
            "8\n"
          ]
        }
      ],
      "source": [
        "# size - gives number of elements in an object\n",
        "print(arr2.size)\n",
        "print(arr3.size)"
      ]
    },
    {
      "cell_type": "code",
      "execution_count": 22,
      "metadata": {
        "colab": {
          "base_uri": "https://localhost:8080/"
        },
        "id": "8KWacHEqkG_7",
        "outputId": "466caee5-2b3e-4878-c54f-97a2f5d6bad9"
      },
      "outputs": [
        {
          "output_type": "stream",
          "name": "stdout",
          "text": [
            "8\n",
            "8\n",
            "4\n"
          ]
        }
      ],
      "source": [
        "# itemsize - refers to the number of bytes used to store a single element of an array\n",
        "print(arr1.itemsize)\n",
        "print(arr2.itemsize)\n",
        "print(arr3.itemsize)\n",
        "# recall that 8 bits = 1 byte\n",
        "# by default colab uses 64-bit integers and they take 8 bytes of space\n",
        "# also floates in colab take 8 bytes of space\n",
        "# 32-bit integers take 4 bytes of space"
      ]
    },
    {
      "cell_type": "code",
      "execution_count": 23,
      "metadata": {
        "colab": {
          "base_uri": "https://localhost:8080/"
        },
        "id": "3LrcOKGwlTWe",
        "outputId": "297d74fe-48b5-4de9-ae76-68b81f4c1582"
      },
      "outputs": [
        {
          "output_type": "stream",
          "name": "stdout",
          "text": [
            "int64\n",
            "float64\n",
            "int32\n"
          ]
        }
      ],
      "source": [
        "print(arr1.dtype)\n",
        "print(arr2.dtype)\n",
        "print(arr3.dtype)"
      ]
    },
    {
      "cell_type": "code",
      "source": [
        "# fill\n",
        "a = np.empty(5)\n",
        "print(a)\n",
        "\n",
        "a.fill(7)\n",
        "\n",
        "print(a)"
      ],
      "metadata": {
        "colab": {
          "base_uri": "https://localhost:8080/"
        },
        "id": "nBrQCTFPpCQr",
        "outputId": "0a694820-1773-49c3-e7af-dfc7ab299bad"
      },
      "execution_count": 279,
      "outputs": [
        {
          "output_type": "stream",
          "name": "stdout",
          "text": [
            "[4.4e-323 7.4e-323 4.9e-324 2.0e-323 8.9e-323]\n",
            "[7. 7. 7. 7. 7.]\n"
          ]
        }
      ]
    },
    {
      "cell_type": "markdown",
      "metadata": {
        "id": "uRNnDI8cmz3n"
      },
      "source": [
        "### Changing datatype"
      ]
    },
    {
      "cell_type": "code",
      "execution_count": 24,
      "metadata": {
        "colab": {
          "base_uri": "https://localhost:8080/"
        },
        "id": "URpmKDbtm2oN",
        "outputId": "bf05d121-6ca9-479d-b92e-7bd4ef6b2c11"
      },
      "outputs": [
        {
          "output_type": "stream",
          "name": "stdout",
          "text": [
            "int64\n"
          ]
        }
      ],
      "source": [
        "print(arr1.dtype)"
      ]
    },
    {
      "cell_type": "code",
      "execution_count": 25,
      "metadata": {
        "id": "5Ttly03knCdd"
      },
      "outputs": [],
      "source": [
        "arr1 = arr1.astype(np.int32)"
      ]
    },
    {
      "cell_type": "code",
      "execution_count": 26,
      "metadata": {
        "colab": {
          "base_uri": "https://localhost:8080/"
        },
        "id": "E0QDyCDGnRkw",
        "outputId": "a20bc0ba-cfd8-4b8c-ef41-121408dfeb91"
      },
      "outputs": [
        {
          "output_type": "stream",
          "name": "stdout",
          "text": [
            "[ 0  1  2  3  4  5  6  7  8  9 10]\n"
          ]
        }
      ],
      "source": [
        "print(arr1)"
      ]
    },
    {
      "cell_type": "code",
      "execution_count": 27,
      "metadata": {
        "colab": {
          "base_uri": "https://localhost:8080/"
        },
        "id": "p1LsoTXGnLp-",
        "outputId": "74e8d585-230a-432f-b608-69386780c4ab"
      },
      "outputs": [
        {
          "output_type": "stream",
          "name": "stdout",
          "text": [
            "int32\n"
          ]
        }
      ],
      "source": [
        "print(arr1.dtype)"
      ]
    },
    {
      "cell_type": "markdown",
      "metadata": {
        "id": "7Fd6nZB6n3o8"
      },
      "source": [
        "### Array Operations"
      ]
    },
    {
      "cell_type": "code",
      "execution_count": 286,
      "metadata": {
        "colab": {
          "base_uri": "https://localhost:8080/"
        },
        "id": "dWYssBZ5n65Z",
        "outputId": "47986950-7bb1-4d03-9b48-18caa55fba82"
      },
      "outputs": [
        {
          "output_type": "stream",
          "name": "stdout",
          "text": [
            "[[ 1  2  3  4]\n",
            " [ 5  6  7  8]\n",
            " [ 9 10 11 12]]\n"
          ]
        }
      ],
      "source": [
        "b1 = np.arange(1, 13).reshape(3, 4)\n",
        "print(b1)"
      ]
    },
    {
      "cell_type": "code",
      "execution_count": 287,
      "metadata": {
        "colab": {
          "base_uri": "https://localhost:8080/"
        },
        "id": "lRC0mioUoaf-",
        "outputId": "8cba6a09-6f2e-462d-f7ec-280a7228de72"
      },
      "outputs": [
        {
          "output_type": "stream",
          "name": "stdout",
          "text": [
            "[[13 14 15 16]\n",
            " [17 18 19 20]\n",
            " [21 22 23 24]]\n"
          ]
        }
      ],
      "source": [
        "b2 = np.arange(13, 25).reshape(3, 4)\n",
        "print(b2)"
      ]
    },
    {
      "cell_type": "code",
      "execution_count": 288,
      "metadata": {
        "colab": {
          "base_uri": "https://localhost:8080/"
        },
        "id": "yN6lc1gwoiPV",
        "outputId": "798f6cec-32ba-4807-f698-a4e609aecc35"
      },
      "outputs": [
        {
          "output_type": "stream",
          "name": "stdout",
          "text": [
            "[[ 3  4  5  6]\n",
            " [ 7  8  9 10]\n",
            " [11 12 13 14]]\n"
          ]
        }
      ],
      "source": [
        "# scalar operation - operating in an array with a scalar\n",
        "print(b1 + 2)"
      ]
    },
    {
      "cell_type": "code",
      "execution_count": 31,
      "metadata": {
        "colab": {
          "base_uri": "https://localhost:8080/"
        },
        "id": "fnI1WkuxowoN",
        "outputId": "3bca4056-f755-4763-b37b-8cf81397de4d"
      },
      "outputs": [
        {
          "output_type": "stream",
          "name": "stdout",
          "text": [
            "[[ 2  4  6  8]\n",
            " [10 12 14 16]\n",
            " [18 20 22 24]]\n"
          ]
        }
      ],
      "source": [
        "print(b1 * 2)"
      ]
    },
    {
      "cell_type": "code",
      "execution_count": 32,
      "metadata": {
        "colab": {
          "base_uri": "https://localhost:8080/"
        },
        "id": "TO3tSjGJpqj2",
        "outputId": "fa39c5c5-12d3-418e-fb3c-6bf1e23ca98d"
      },
      "outputs": [
        {
          "output_type": "stream",
          "name": "stdout",
          "text": [
            "[[0.5 1.  1.5 2. ]\n",
            " [2.5 3.  3.5 4. ]\n",
            " [4.5 5.  5.5 6. ]]\n"
          ]
        }
      ],
      "source": [
        "print(b1 / 2) # in division output datatype is always float"
      ]
    },
    {
      "cell_type": "code",
      "execution_count": 33,
      "metadata": {
        "colab": {
          "base_uri": "https://localhost:8080/"
        },
        "id": "o0AQ7GLUo0Yt",
        "outputId": "ad3b1bd4-ec16-451b-93a7-4cdaf2a770b6"
      },
      "outputs": [
        {
          "output_type": "stream",
          "name": "stdout",
          "text": [
            "[[  1   4   9  16]\n",
            " [ 25  36  49  64]\n",
            " [ 81 100 121 144]]\n"
          ]
        }
      ],
      "source": [
        "print(b1 ** 2)"
      ]
    },
    {
      "cell_type": "code",
      "execution_count": 34,
      "metadata": {
        "colab": {
          "base_uri": "https://localhost:8080/"
        },
        "id": "R7cDhQKto2p0",
        "outputId": "aa16f3b4-50d6-460f-cbc6-58495bf6828d"
      },
      "outputs": [
        {
          "output_type": "stream",
          "name": "stdout",
          "text": [
            "[[False False False False]\n",
            " [False  True  True  True]\n",
            " [ True  True  True  True]]\n"
          ]
        }
      ],
      "source": [
        "# relational operation\n",
        "print(b1 > 5)"
      ]
    },
    {
      "cell_type": "code",
      "execution_count": 35,
      "metadata": {
        "colab": {
          "base_uri": "https://localhost:8080/"
        },
        "id": "HMj5xtCQpD69",
        "outputId": "f3ceae9a-2a93-4d4f-b7a0-713642aa5079"
      },
      "outputs": [
        {
          "output_type": "stream",
          "name": "stdout",
          "text": [
            "[[False False False False]\n",
            " [False False  True False]\n",
            " [False False False False]]\n"
          ]
        }
      ],
      "source": [
        "print(b1 == 7)"
      ]
    },
    {
      "cell_type": "code",
      "execution_count": 36,
      "metadata": {
        "colab": {
          "base_uri": "https://localhost:8080/"
        },
        "id": "aHxVt1_spHTt",
        "outputId": "5eecd68a-e66e-4d2b-dd23-69d6114df078"
      },
      "outputs": [
        {
          "output_type": "stream",
          "name": "stdout",
          "text": [
            "[[ True  True False  True]\n",
            " [ True  True  True  True]\n",
            " [ True  True  True  True]]\n"
          ]
        }
      ],
      "source": [
        "print(b1 != 3)"
      ]
    },
    {
      "cell_type": "code",
      "execution_count": 37,
      "metadata": {
        "colab": {
          "base_uri": "https://localhost:8080/"
        },
        "id": "h2F7XDk7pMud",
        "outputId": "71c46e09-c64a-442e-fb23-8a039ccf997a"
      },
      "outputs": [
        {
          "output_type": "stream",
          "name": "stdout",
          "text": [
            "[[14 16 18 20]\n",
            " [22 24 26 28]\n",
            " [30 32 34 36]]\n"
          ]
        }
      ],
      "source": [
        "# vector operations\n",
        "print(b1 + b2) # itemwise addition"
      ]
    },
    {
      "cell_type": "code",
      "execution_count": 38,
      "metadata": {
        "colab": {
          "base_uri": "https://localhost:8080/"
        },
        "id": "xV6a0ryppWEm",
        "outputId": "685d0ad7-8a8b-4336-bfb1-1ffee6d8228d"
      },
      "outputs": [
        {
          "output_type": "stream",
          "name": "stdout",
          "text": [
            "[[ 13  28  45  64]\n",
            " [ 85 108 133 160]\n",
            " [189 220 253 288]]\n"
          ]
        }
      ],
      "source": [
        "print(b1 * b2) # itemwise multiplication"
      ]
    },
    {
      "cell_type": "code",
      "source": [
        "print(np.multiply(b1, b2)) # itemwise multiplication"
      ],
      "metadata": {
        "colab": {
          "base_uri": "https://localhost:8080/"
        },
        "id": "0wr3bRr8rIL3",
        "outputId": "e641c488-1193-40d0-f725-04b2703ce59a"
      },
      "execution_count": 289,
      "outputs": [
        {
          "output_type": "stream",
          "name": "stdout",
          "text": [
            "[[ 13  28  45  64]\n",
            " [ 85 108 133 160]\n",
            " [189 220 253 288]]\n"
          ]
        }
      ]
    },
    {
      "cell_type": "markdown",
      "metadata": {
        "id": "PtILWGZbqU0r"
      },
      "source": [
        "### Common Array Functions"
      ]
    },
    {
      "cell_type": "code",
      "execution_count": 268,
      "metadata": {
        "colab": {
          "base_uri": "https://localhost:8080/"
        },
        "id": "oszpvCvXpee9",
        "outputId": "9c9272e9-1577-4399-d22a-00190807d16e"
      },
      "outputs": [
        {
          "output_type": "stream",
          "name": "stdout",
          "text": [
            "[[92.75748965 14.98097611 29.5907649 ]\n",
            " [38.77346385 30.86493308 30.18082599]\n",
            " [23.30966687 33.75352394 19.79258916]]\n"
          ]
        }
      ],
      "source": [
        "c1 = np.random.random((3, 3))\n",
        "c1 = c1 * 100\n",
        "print(c1)"
      ]
    },
    {
      "cell_type": "code",
      "execution_count": 269,
      "metadata": {
        "colab": {
          "base_uri": "https://localhost:8080/"
        },
        "id": "WbHLjW3SGv__",
        "outputId": "ef422bc5-5623-4173-d303-6bed545e0ea6"
      },
      "outputs": [
        {
          "output_type": "stream",
          "name": "stdout",
          "text": [
            "[[92.76 14.98 29.59]\n",
            " [38.77 30.86 30.18]\n",
            " [23.31 33.75 19.79]]\n"
          ]
        }
      ],
      "source": [
        "# round()\n",
        "c1_rounded = np.round(c1, 2)\n",
        "print(c1_rounded)"
      ]
    },
    {
      "cell_type": "code",
      "execution_count": 41,
      "metadata": {
        "colab": {
          "base_uri": "https://localhost:8080/"
        },
        "id": "DF70c5j3OlLx",
        "outputId": "c86b1ef9-8c03-464a-f750-3a0a61444a2f"
      },
      "outputs": [
        {
          "output_type": "stream",
          "name": "stdout",
          "text": [
            "[[67. 90. 15.]\n",
            " [11.  2. 29.]\n",
            " [74. 96. 94.]]\n"
          ]
        }
      ],
      "source": [
        "# floor()\n",
        "print(np.floor(c1))"
      ]
    },
    {
      "cell_type": "code",
      "execution_count": 42,
      "metadata": {
        "colab": {
          "base_uri": "https://localhost:8080/"
        },
        "id": "sv7dbJkIOrFR",
        "outputId": "2c3cc7fa-1b68-4859-b268-3601cf341f39"
      },
      "outputs": [
        {
          "output_type": "stream",
          "name": "stdout",
          "text": [
            "[[68. 91. 16.]\n",
            " [12.  3. 30.]\n",
            " [75. 97. 95.]]\n"
          ]
        }
      ],
      "source": [
        "# ceil()\n",
        "print(np.ceil(c1))"
      ]
    },
    {
      "cell_type": "code",
      "execution_count": 43,
      "metadata": {
        "colab": {
          "base_uri": "https://localhost:8080/"
        },
        "id": "P-EJ_6tmHP4b",
        "outputId": "548e563d-c338-4953-93b1-56098d72dd37"
      },
      "outputs": [
        {
          "output_type": "stream",
          "name": "stdout",
          "text": [
            "96.37655522511461\n"
          ]
        }
      ],
      "source": [
        "# max()\n",
        "print(np.max(c1))"
      ]
    },
    {
      "cell_type": "code",
      "execution_count": 44,
      "metadata": {
        "colab": {
          "base_uri": "https://localhost:8080/"
        },
        "id": "bRVFAJ_FHT2L",
        "outputId": "73dc8052-c1b7-4bfa-ff7d-48945263e097"
      },
      "outputs": [
        {
          "output_type": "stream",
          "name": "stdout",
          "text": [
            "2.07654520093441\n"
          ]
        }
      ],
      "source": [
        "# min()\n",
        "print(np.min(c1))"
      ]
    },
    {
      "cell_type": "code",
      "execution_count": 45,
      "metadata": {
        "colab": {
          "base_uri": "https://localhost:8080/"
        },
        "id": "FdHAiz_JHV0q",
        "outputId": "c921f854-6f4f-4df1-b783-37089b70ca3e"
      },
      "outputs": [
        {
          "output_type": "stream",
          "name": "stdout",
          "text": [
            "482.9656271449079\n"
          ]
        }
      ],
      "source": [
        "# sum()\n",
        "print(np.sum(c1))"
      ]
    },
    {
      "cell_type": "code",
      "execution_count": 46,
      "metadata": {
        "colab": {
          "base_uri": "https://localhost:8080/"
        },
        "id": "SCQhWi7vHYHy",
        "outputId": "e88f0aa7-12c1-4cfe-b67d-ecbcd6b8076b"
      },
      "outputs": [
        {
          "output_type": "stream",
          "name": "stdout",
          "text": [
            "47133983821297.23\n"
          ]
        }
      ],
      "source": [
        "# prod()\n",
        "print(np.prod(c1))"
      ]
    },
    {
      "cell_type": "code",
      "source": [
        "# sqrt()\n",
        "print(np.sqrt(c1))"
      ],
      "metadata": {
        "colab": {
          "base_uri": "https://localhost:8080/"
        },
        "id": "ZB1yAKpOhJyN",
        "outputId": "6cf76932-7039-4d33-a8d1-f8f5975a538e"
      },
      "execution_count": 270,
      "outputs": [
        {
          "output_type": "stream",
          "name": "stdout",
          "text": [
            "[[9.63106898 3.87052659 5.43973942]\n",
            " [6.22683418 5.55562175 5.49370785]\n",
            " [4.82800858 5.8097783  4.44888628]]\n"
          ]
        }
      ]
    },
    {
      "cell_type": "markdown",
      "source": [
        "$\\bullet$ The $\\textit{axis}$ parameter is crucial for performing operations along specific dimensions of an array. It essentially tells NumPy which direction to perform a calculation.\n",
        "\n",
        "In a Numpy array,\n",
        "\n",
        "*   axis = 0 : outermost dimension\n",
        "*   axis = 1 : the second dimension\n",
        "*   axis = 2 : the third dimension and so on .....\n",
        "\n",
        "Each direction corresponds to an axis.\n",
        "\n",
        "When we apply some function on axis = 0, the function operates on the elements along the direction of axis 0 (i.e. vertically for a 2D array). Same is for other axes values.\n",
        "\n",
        "Suppose an array has shape (3, 5, 4). Then a function when axis is mentioned as 0 will operate on 3 elements, when axis is mentioned as 1 it will operate on 5 elements and when axis is 4 it will operate on 4 elements.\n",
        "\n"
      ],
      "metadata": {
        "id": "7pUtzz6yTXMv"
      }
    },
    {
      "cell_type": "code",
      "execution_count": 47,
      "metadata": {
        "colab": {
          "base_uri": "https://localhost:8080/"
        },
        "id": "WdxIwcJnHaeD",
        "outputId": "b8bbd951-c12b-4b1a-89cf-de039204b843"
      },
      "outputs": [
        {
          "output_type": "stream",
          "name": "stdout",
          "text": [
            "[74.86248234 96.37655523 94.51736356]\n"
          ]
        }
      ],
      "source": [
        "print(np.max(c1, axis = 0)) # maximum element in each column"
      ]
    },
    {
      "cell_type": "markdown",
      "source": [
        "In the above illustration, c1 is a 2D array. When $\\textit{axis}$ is specified as 0, max() calculates the maximum values along the outermost dimension i.e. the vertical dimension in case of a 2D array."
      ],
      "metadata": {
        "id": "h_DL5XGHgFQA"
      }
    },
    {
      "cell_type": "code",
      "execution_count": 48,
      "metadata": {
        "colab": {
          "base_uri": "https://localhost:8080/"
        },
        "id": "Sh89f17yHsJC",
        "outputId": "26488fdc-87ee-482d-cc2f-95a722abee4f"
      },
      "outputs": [
        {
          "output_type": "stream",
          "name": "stdout",
          "text": [
            "[90.75625687 29.73730195 96.37655523]\n"
          ]
        }
      ],
      "source": [
        "print(np.max(c1, axis = 1)) # maximum element in each row"
      ]
    },
    {
      "cell_type": "code",
      "execution_count": 49,
      "metadata": {
        "colab": {
          "base_uri": "https://localhost:8080/"
        },
        "id": "_W2S3KrkH8Bb",
        "outputId": "978106b3-fb03-41fe-8d00-b2b376285fb2"
      },
      "outputs": [
        {
          "output_type": "stream",
          "name": "stdout",
          "text": [
            "[153.7846439  189.2093573  139.97162595]\n"
          ]
        }
      ],
      "source": [
        "print(np.sum(c1, axis = 0)) # columnsums"
      ]
    },
    {
      "cell_type": "code",
      "execution_count": 50,
      "metadata": {
        "colab": {
          "base_uri": "https://localhost:8080/"
        },
        "id": "eRlJJKwfH_IU",
        "outputId": "28b6bfa1-ddbe-415f-a249-a9f539749a9d"
      },
      "outputs": [
        {
          "output_type": "stream",
          "name": "stdout",
          "text": [
            "[173.72792314  43.48130288 265.75640112]\n"
          ]
        }
      ],
      "source": [
        "print(np.sum(c1, axis = 1)) # rowsums"
      ]
    },
    {
      "cell_type": "code",
      "execution_count": 51,
      "metadata": {
        "colab": {
          "base_uri": "https://localhost:8080/"
        },
        "id": "6B7h_s_8IBRr",
        "outputId": "8feb6077-6628-4165-a53a-4e323542d7a2"
      },
      "outputs": [
        {
          "output_type": "stream",
          "name": "stdout",
          "text": [
            "53.66284746054532\n"
          ]
        }
      ],
      "source": [
        "# mean()\n",
        "print(np.mean(c1))"
      ]
    },
    {
      "cell_type": "code",
      "execution_count": 52,
      "metadata": {
        "colab": {
          "base_uri": "https://localhost:8080/"
        },
        "id": "368O83QrIQ1R",
        "outputId": "36014224-276d-45bf-ca35-31d9e5aab668"
      },
      "outputs": [
        {
          "output_type": "stream",
          "name": "stdout",
          "text": [
            "[57.90930771 14.49376763 88.58546704]\n"
          ]
        }
      ],
      "source": [
        "print(np.mean(c1, axis = 1)) # rowmeans"
      ]
    },
    {
      "cell_type": "code",
      "execution_count": 53,
      "metadata": {
        "colab": {
          "base_uri": "https://localhost:8080/"
        },
        "id": "bp8QfTo3IU3Z",
        "outputId": "bb776137-986e-437a-bc81-226dd833eeea"
      },
      "outputs": [
        {
          "output_type": "stream",
          "name": "stdout",
          "text": [
            "67.25470583252948\n"
          ]
        }
      ],
      "source": [
        "# median()\n",
        "print(np.median(c1))"
      ]
    },
    {
      "cell_type": "code",
      "execution_count": 54,
      "metadata": {
        "colab": {
          "base_uri": "https://localhost:8080/"
        },
        "id": "6p60aqBVIYnu",
        "outputId": "0c257604-48be-4c5a-f289-16cb837eb343"
      },
      "outputs": [
        {
          "output_type": "stream",
          "name": "stdout",
          "text": [
            "36.42453088040512\n"
          ]
        }
      ],
      "source": [
        "# std()\n",
        "print(np.std(c1)) # gives population standard deviation"
      ]
    },
    {
      "cell_type": "code",
      "execution_count": 55,
      "metadata": {
        "colab": {
          "base_uri": "https://localhost:8080/"
        },
        "id": "yhuss6rSIqSx",
        "outputId": "ccdfcda6-bd63-4f01-a9c7-61a87317aaeb"
      },
      "outputs": [
        {
          "output_type": "stream",
          "name": "stdout",
          "text": [
            "38.6340491806099\n"
          ]
        }
      ],
      "source": [
        "print(np.std(c1, ddof = 1)) # gives sample standard deviation"
      ]
    },
    {
      "cell_type": "code",
      "execution_count": 56,
      "metadata": {
        "colab": {
          "base_uri": "https://localhost:8080/"
        },
        "id": "TKHk4NhCKWc4",
        "outputId": "8a9c1a3f-603c-4988-9fc3-a4f7589dd10b"
      },
      "outputs": [
        {
          "output_type": "stream",
          "name": "stdout",
          "text": [
            "1326.7464498575864\n"
          ]
        }
      ],
      "source": [
        "# var()\n",
        "print(np.var(c1)) # gives population variance"
      ]
    },
    {
      "cell_type": "code",
      "execution_count": 57,
      "metadata": {
        "colab": {
          "base_uri": "https://localhost:8080/"
        },
        "id": "sZs0-c02LjCB",
        "outputId": "d7706e55-57ec-4746-b532-41f1dafc54c4"
      },
      "outputs": [
        {
          "output_type": "stream",
          "name": "stdout",
          "text": [
            "1492.5897560897847\n"
          ]
        }
      ],
      "source": [
        "print(np.var(c1, ddof = 1)) # gives sample variance"
      ]
    },
    {
      "cell_type": "code",
      "execution_count": 58,
      "metadata": {
        "colab": {
          "base_uri": "https://localhost:8080/"
        },
        "id": "tS84GrZ6LxRT",
        "outputId": "1d8d2a29-79d1-4032-ceb7-5eae3f5f264f"
      },
      "outputs": [
        {
          "output_type": "stream",
          "name": "stdout",
          "text": [
            "[[-0.95837639  0.34283213 -0.00899705]\n",
            " [-0.78265193  0.87481192 -0.99419216]\n",
            " [-0.51047866  0.84832675  0.26633044]]\n",
            "[[-0.28550778 -0.93939668 -0.99995953]\n",
            " [ 0.6224596  -0.4844627  -0.10761943]\n",
            " [ 0.85989042 -0.52947306  0.96388179]]\n",
            "[[ 3.35674353e+00 -3.64949266e-01  8.99741314e-03]\n",
            " [-1.25735378e+00 -1.80573637e+00  9.23803623e+00]\n",
            " [-5.93655478e-01 -1.60220948e+00  2.76310275e-01]]\n"
          ]
        }
      ],
      "source": [
        "# trigonometric functions\n",
        "\n",
        "print(np.sin(c1)) # sin()\n",
        "print(np.cos(c1)) # cos()\n",
        "print(np.tan(c1)) # tan()"
      ]
    },
    {
      "cell_type": "code",
      "execution_count": 59,
      "metadata": {
        "colab": {
          "base_uri": "https://localhost:8080/"
        },
        "id": "0YvuMezzMYw5",
        "outputId": "f4eedd33-92a8-4373-b2ad-e61e1e173a22"
      },
      "outputs": [
        {
          "output_type": "stream",
          "name": "stdout",
          "text": [
            "[[ 0  1  2  3]\n",
            " [ 4  5  6  7]\n",
            " [ 8  9 10 11]]\n",
            "(3, 4)\n",
            "[[11 10  9]\n",
            " [ 8  7  6]\n",
            " [ 5  4  3]\n",
            " [ 2  1  0]]\n",
            "(4, 3)\n"
          ]
        }
      ],
      "source": [
        "# dot() - matrix multiplication\n",
        "c2 = np.arange(12).reshape(3, 4)\n",
        "c3 = np.arange(11, -1, -1).reshape(4, 3)\n",
        "print(c2)\n",
        "print(c2.shape)\n",
        "print(c3)\n",
        "print(c3.shape)"
      ]
    },
    {
      "cell_type": "code",
      "execution_count": 60,
      "metadata": {
        "colab": {
          "base_uri": "https://localhost:8080/"
        },
        "id": "TkgivUJrN37Y",
        "outputId": "cf413e25-4f36-4374-c7d4-e2e34a554923"
      },
      "outputs": [
        {
          "output_type": "stream",
          "name": "stdout",
          "text": [
            "[[ 24  18  12]\n",
            " [128 106  84]\n",
            " [232 194 156]]\n"
          ]
        }
      ],
      "source": [
        "print(np.dot(c2, c3))"
      ]
    },
    {
      "cell_type": "code",
      "source": [
        "# matmul() - matrix multiplication\n",
        "print(np.matmul(c2, c3))"
      ],
      "metadata": {
        "colab": {
          "base_uri": "https://localhost:8080/"
        },
        "id": "ZVvXGakrqk66",
        "outputId": "5c43c9fd-2fa9-459d-a459-30429c67f0e6"
      },
      "execution_count": 284,
      "outputs": [
        {
          "output_type": "stream",
          "name": "stdout",
          "text": [
            "[[ 24  18  12]\n",
            " [128 106  84]\n",
            " [232 194 156]]\n"
          ]
        }
      ]
    },
    {
      "cell_type": "code",
      "execution_count": 61,
      "metadata": {
        "colab": {
          "base_uri": "https://localhost:8080/"
        },
        "id": "FHskHh9cOPPZ",
        "outputId": "8f7b2354-61e8-42cc-86c4-e06b23884d10"
      },
      "outputs": [
        {
          "output_type": "stream",
          "name": "stdout",
          "text": [
            "[[4.20848699 4.50817742 2.75474041]\n",
            " [2.4568034  0.73070555 3.39240222]\n",
            " [4.31565286 4.56826297 4.54878356]]\n"
          ]
        }
      ],
      "source": [
        "# log()\n",
        "print(np.log(c1))"
      ]
    },
    {
      "cell_type": "code",
      "execution_count": 62,
      "metadata": {
        "colab": {
          "base_uri": "https://localhost:8080/"
        },
        "id": "Wwmni-V_OScy",
        "outputId": "aed3d7de-500c-4f51-9edb-fa491cb1ac12"
      },
      "outputs": [
        {
          "output_type": "stream",
          "name": "stdout",
          "text": [
            "[[1.61565127e+29 2.59980968e+39 6.69559522e+06]\n",
            " [1.16710960e+05 7.97686280e+00 8.21762170e+12]\n",
            " [3.25359117e+32 7.17473920e+41 1.11781373e+41]]\n"
          ]
        }
      ],
      "source": [
        "# exp()\n",
        "print(np.exp(c1))"
      ]
    },
    {
      "cell_type": "markdown",
      "metadata": {
        "id": "GIiI4jHyQCx2"
      },
      "source": [
        "### Indexing"
      ]
    },
    {
      "cell_type": "code",
      "execution_count": 63,
      "metadata": {
        "colab": {
          "base_uri": "https://localhost:8080/"
        },
        "id": "qcgrFUX5OVUj",
        "outputId": "d13c5795-3dc6-4f3a-941c-e0193d2515ee"
      },
      "outputs": [
        {
          "output_type": "stream",
          "name": "stdout",
          "text": [
            "[0 1 2 3 4 5 6 7 8 9]\n"
          ]
        }
      ],
      "source": [
        "d1 = np.arange(10)\n",
        "print(d1)"
      ]
    },
    {
      "cell_type": "code",
      "execution_count": 64,
      "metadata": {
        "colab": {
          "base_uri": "https://localhost:8080/"
        },
        "id": "LrD-rhl8QW9i",
        "outputId": "19126a7a-d1b7-4ee1-894e-7b5f5fde5a07"
      },
      "outputs": [
        {
          "output_type": "stream",
          "name": "stdout",
          "text": [
            "0\n",
            "9\n"
          ]
        }
      ],
      "source": [
        "print(d1[0]) # first item\n",
        "print(d1[-1]) # last item"
      ]
    },
    {
      "cell_type": "code",
      "execution_count": 65,
      "metadata": {
        "colab": {
          "base_uri": "https://localhost:8080/"
        },
        "id": "t0IxnXj_QoJx",
        "outputId": "88e1c3cf-f2b0-4c2f-eef6-41bd5a471aaa"
      },
      "outputs": [
        {
          "output_type": "stream",
          "name": "stdout",
          "text": [
            "[[ 0  1  2  3]\n",
            " [ 4  5  6  7]\n",
            " [ 8  9 10 11]]\n"
          ]
        }
      ],
      "source": [
        "d2 = np.arange(12).reshape(3, 4)\n",
        "print(d2)"
      ]
    },
    {
      "cell_type": "code",
      "execution_count": 66,
      "metadata": {
        "colab": {
          "base_uri": "https://localhost:8080/"
        },
        "id": "tPHMo1YxQo9s",
        "outputId": "1896e058-d30a-4ba7-fcba-b42bb9afbdd3"
      },
      "outputs": [
        {
          "output_type": "stream",
          "name": "stdout",
          "text": [
            "6\n"
          ]
        }
      ],
      "source": [
        "print(d2[1, 2]) # gives element of 2nd row and 3rd column, remember than indexing in python starts from 0"
      ]
    },
    {
      "cell_type": "code",
      "execution_count": 67,
      "metadata": {
        "colab": {
          "base_uri": "https://localhost:8080/"
        },
        "id": "x2SAXniYRG5q",
        "outputId": "cbe648cb-cdf4-48cd-8121-46400ac6d1ff"
      },
      "outputs": [
        {
          "output_type": "stream",
          "name": "stdout",
          "text": [
            "10\n"
          ]
        }
      ],
      "source": [
        "print(d2[2, 2])"
      ]
    },
    {
      "cell_type": "code",
      "execution_count": 68,
      "metadata": {
        "colab": {
          "base_uri": "https://localhost:8080/"
        },
        "id": "89WvOzf2RKqp",
        "outputId": "bcc6cfc9-850d-48fd-9307-308352c53423"
      },
      "outputs": [
        {
          "output_type": "stream",
          "name": "stdout",
          "text": [
            "7\n"
          ]
        }
      ],
      "source": [
        "print(d2[1, 3])"
      ]
    },
    {
      "cell_type": "code",
      "execution_count": 69,
      "metadata": {
        "colab": {
          "base_uri": "https://localhost:8080/"
        },
        "id": "3Vob3y6WR6dg",
        "outputId": "49fc2e4a-c52f-461e-ab97-a87d533e64f8"
      },
      "outputs": [
        {
          "output_type": "stream",
          "name": "stdout",
          "text": [
            "[[[0 1]\n",
            "  [2 3]]\n",
            "\n",
            " [[4 5]\n",
            "  [6 7]]]\n"
          ]
        }
      ],
      "source": [
        "d3 = np.arange(8).reshape(2, 2, 2)\n",
        "print(d3)"
      ]
    },
    {
      "cell_type": "code",
      "execution_count": 70,
      "metadata": {
        "colab": {
          "base_uri": "https://localhost:8080/"
        },
        "id": "doAfun6lR8iF",
        "outputId": "7180dc53-e05e-4b43-d691-602fdf7adbb5"
      },
      "outputs": [
        {
          "output_type": "stream",
          "name": "stdout",
          "text": [
            "5\n"
          ]
        }
      ],
      "source": [
        "print(d3[1, 0, 1])"
      ]
    },
    {
      "cell_type": "code",
      "execution_count": 71,
      "metadata": {
        "colab": {
          "base_uri": "https://localhost:8080/"
        },
        "id": "ZpKH5KeySETX",
        "outputId": "f6d4c389-a907-4479-e325-443ce194795c"
      },
      "outputs": [
        {
          "output_type": "stream",
          "name": "stdout",
          "text": [
            "3\n"
          ]
        }
      ],
      "source": [
        "print(d3[0, 1, 1])"
      ]
    },
    {
      "cell_type": "code",
      "execution_count": 72,
      "metadata": {
        "colab": {
          "base_uri": "https://localhost:8080/"
        },
        "id": "XR-kcckLSIBS",
        "outputId": "44897bf9-4d90-468e-c674-a8fb6c9bb949"
      },
      "outputs": [
        {
          "output_type": "stream",
          "name": "stdout",
          "text": [
            "7\n"
          ]
        }
      ],
      "source": [
        "print(d3[1, 1, 1])"
      ]
    },
    {
      "cell_type": "code",
      "execution_count": 73,
      "metadata": {
        "colab": {
          "base_uri": "https://localhost:8080/"
        },
        "id": "9hhQKuWiSOOa",
        "outputId": "16830f8e-8d28-4585-df0e-73ed7c76029a"
      },
      "outputs": [
        {
          "output_type": "stream",
          "name": "stdout",
          "text": [
            "2\n"
          ]
        }
      ],
      "source": [
        "print(d3[0, 1, 0])"
      ]
    },
    {
      "cell_type": "code",
      "execution_count": 74,
      "metadata": {
        "colab": {
          "base_uri": "https://localhost:8080/"
        },
        "id": "SeUsBYhYSkXF",
        "outputId": "f9b081c1-43a4-453d-ebd2-daf2bdaae29c"
      },
      "outputs": [
        {
          "output_type": "stream",
          "name": "stdout",
          "text": [
            "6\n"
          ]
        }
      ],
      "source": [
        "print(d3[1, 1, 0])"
      ]
    },
    {
      "cell_type": "markdown",
      "metadata": {
        "id": "l3dHMLE_TAs_"
      },
      "source": [
        "### Slicing"
      ]
    },
    {
      "cell_type": "code",
      "execution_count": 75,
      "metadata": {
        "colab": {
          "base_uri": "https://localhost:8080/"
        },
        "id": "RDrspCzwS_w6",
        "outputId": "120fb571-5448-485d-ff5f-a8bb30e39436"
      },
      "outputs": [
        {
          "output_type": "stream",
          "name": "stdout",
          "text": [
            "[0 1 2 3 4 5 6 7 8 9]\n",
            "[1 2 3 4 5 6]\n"
          ]
        }
      ],
      "source": [
        "print(d1)\n",
        "print(d1[1:7]) # gives elements from index 1 to index 6 of d1"
      ]
    },
    {
      "cell_type": "code",
      "execution_count": 76,
      "metadata": {
        "colab": {
          "base_uri": "https://localhost:8080/"
        },
        "id": "MejTmTmYTWei",
        "outputId": "2c4e40cb-d1cc-4c10-95e3-829b42df3340"
      },
      "outputs": [
        {
          "output_type": "stream",
          "name": "stdout",
          "text": [
            "[1 3 5]\n"
          ]
        }
      ],
      "source": [
        "print(d1[1:7:2]) # gives alternate elements from index 1 to index 6 of d1"
      ]
    },
    {
      "cell_type": "code",
      "execution_count": 77,
      "metadata": {
        "colab": {
          "base_uri": "https://localhost:8080/"
        },
        "id": "9mh6gFV_TorY",
        "outputId": "83dcca3d-0aa9-43e8-d86e-bd046f315f69"
      },
      "outputs": [
        {
          "output_type": "stream",
          "name": "stdout",
          "text": [
            "[1 4 7]\n"
          ]
        }
      ],
      "source": [
        "print(d1[1:8:3])"
      ]
    },
    {
      "cell_type": "code",
      "execution_count": 78,
      "metadata": {
        "colab": {
          "base_uri": "https://localhost:8080/"
        },
        "id": "XlfHmm2FTu46",
        "outputId": "0661aefa-f1d8-4db9-da25-70dc82535b05"
      },
      "outputs": [
        {
          "output_type": "stream",
          "name": "stdout",
          "text": [
            "[[ 0  1  2  3]\n",
            " [ 4  5  6  7]\n",
            " [ 8  9 10 11]]\n"
          ]
        }
      ],
      "source": [
        "print(d2)"
      ]
    },
    {
      "cell_type": "code",
      "execution_count": 79,
      "metadata": {
        "colab": {
          "base_uri": "https://localhost:8080/"
        },
        "id": "Lc93LWNRT3Gv",
        "outputId": "9edcd778-7a28-4ad9-9f2e-e572e330bf10"
      },
      "outputs": [
        {
          "output_type": "stream",
          "name": "stdout",
          "text": [
            "[0 1 2 3]\n"
          ]
        }
      ],
      "source": [
        "print(d2[0, :]) # gives first row of d2\n",
        "# print(d2[0]) # also works"
      ]
    },
    {
      "cell_type": "code",
      "execution_count": 80,
      "metadata": {
        "colab": {
          "base_uri": "https://localhost:8080/"
        },
        "id": "OwhKyXRKUANR",
        "outputId": "58fbd726-272b-4aed-db79-32d1766eb96a"
      },
      "outputs": [
        {
          "output_type": "stream",
          "name": "stdout",
          "text": [
            "[ 8  9 10 11]\n"
          ]
        }
      ],
      "source": [
        "print(d2[2, :])"
      ]
    },
    {
      "cell_type": "code",
      "execution_count": 81,
      "metadata": {
        "colab": {
          "base_uri": "https://localhost:8080/"
        },
        "id": "ACkgh7geWfWY",
        "outputId": "0a4f5b88-8b55-4f25-f93c-565a64eb026d"
      },
      "outputs": [
        {
          "output_type": "stream",
          "name": "stdout",
          "text": [
            "[[0 1 2 3]\n",
            " [4 5 6 7]]\n"
          ]
        }
      ],
      "source": [
        "print(d2[0:2, ]) # gives rows with indices 0 and 1"
      ]
    },
    {
      "cell_type": "code",
      "execution_count": 82,
      "metadata": {
        "colab": {
          "base_uri": "https://localhost:8080/"
        },
        "id": "-EPBqYlrWxdA",
        "outputId": "4c0e8ef1-b1ed-46b4-d053-751612f2b7c7"
      },
      "outputs": [
        {
          "output_type": "stream",
          "name": "stdout",
          "text": [
            "[[ 0  1  2  3]\n",
            " [ 8  9 10 11]]\n"
          ]
        }
      ],
      "source": [
        "print(d2[[0, 2], :]) # gives rows with indices 0 and 2"
      ]
    },
    {
      "cell_type": "code",
      "execution_count": 83,
      "metadata": {
        "colab": {
          "base_uri": "https://localhost:8080/"
        },
        "id": "euyV5jK8UjYg",
        "outputId": "eafeb76c-62cb-471d-dca1-38004df49a80"
      },
      "outputs": [
        {
          "output_type": "stream",
          "name": "stdout",
          "text": [
            "[ 3  7 11]\n"
          ]
        }
      ],
      "source": [
        "print(d2[:, 3]) # gives 4th column of d2"
      ]
    },
    {
      "cell_type": "code",
      "execution_count": 84,
      "metadata": {
        "colab": {
          "base_uri": "https://localhost:8080/"
        },
        "id": "_p4Y_460W_bQ",
        "outputId": "9e6ce2ff-97c4-4a39-f0d5-d7f227b12375"
      },
      "outputs": [
        {
          "output_type": "stream",
          "name": "stdout",
          "text": [
            "[[ 0  1  2]\n",
            " [ 4  5  6]\n",
            " [ 8  9 10]]\n"
          ]
        }
      ],
      "source": [
        "print(d2[:, 0:3]) # gives columns with indices 0, 1, 2"
      ]
    },
    {
      "cell_type": "code",
      "execution_count": 85,
      "metadata": {
        "colab": {
          "base_uri": "https://localhost:8080/"
        },
        "id": "s-Fjh_yKXKqe",
        "outputId": "73f14664-4589-494b-fb5d-92df7498b5c7"
      },
      "outputs": [
        {
          "output_type": "stream",
          "name": "stdout",
          "text": [
            "[[ 0  3]\n",
            " [ 4  7]\n",
            " [ 8 11]]\n"
          ]
        }
      ],
      "source": [
        "print(d2[:, [0, 3]]) # gives columns with indices 0 and 3"
      ]
    },
    {
      "cell_type": "code",
      "execution_count": 86,
      "metadata": {
        "colab": {
          "base_uri": "https://localhost:8080/"
        },
        "id": "K826VSE5VIuJ",
        "outputId": "1c8fd107-f394-4863-de49-2b4a0ea7ca06"
      },
      "outputs": [
        {
          "output_type": "stream",
          "name": "stdout",
          "text": [
            "[[ 5  6]\n",
            " [ 9 10]]\n"
          ]
        }
      ],
      "source": [
        "print(d2[1:, 1:3]) # gives a submatrix with 2nd, 3rd row and 2nd, 3rd column"
      ]
    },
    {
      "cell_type": "code",
      "execution_count": 87,
      "metadata": {
        "colab": {
          "base_uri": "https://localhost:8080/"
        },
        "id": "CbjNB1QsWRZo",
        "outputId": "2786ef09-5cca-4f9d-ecc2-e62cf462ada6"
      },
      "outputs": [
        {
          "output_type": "stream",
          "name": "stdout",
          "text": [
            "[[ 0  3]\n",
            " [ 8 11]]\n"
          ]
        }
      ],
      "source": [
        "print(d2[::2, ::3])"
      ]
    },
    {
      "cell_type": "code",
      "source": [
        "print(d2[::2, 1:4:2])"
      ],
      "metadata": {
        "colab": {
          "base_uri": "https://localhost:8080/"
        },
        "id": "0vxEJHP4Nfdq",
        "outputId": "c13b34d3-c654-426c-c759-3841fc2391ec"
      },
      "execution_count": 88,
      "outputs": [
        {
          "output_type": "stream",
          "name": "stdout",
          "text": [
            "[[ 1  3]\n",
            " [ 9 11]]\n"
          ]
        }
      ]
    },
    {
      "cell_type": "code",
      "source": [
        "print(d2[1, 0:4:3])"
      ],
      "metadata": {
        "colab": {
          "base_uri": "https://localhost:8080/"
        },
        "id": "PMzbZdjfYWJR",
        "outputId": "0d85f63d-c077-4e23-9434-0ef3c9eb3c41"
      },
      "execution_count": 89,
      "outputs": [
        {
          "output_type": "stream",
          "name": "stdout",
          "text": [
            "[4 7]\n"
          ]
        }
      ]
    },
    {
      "cell_type": "code",
      "source": [
        "print(d2[0:2, 1:4])"
      ],
      "metadata": {
        "colab": {
          "base_uri": "https://localhost:8080/"
        },
        "id": "HCiVg33MYmO8",
        "outputId": "c0ab9fd6-0a9e-4af5-c6a0-903fa49d8f89"
      },
      "execution_count": 90,
      "outputs": [
        {
          "output_type": "stream",
          "name": "stdout",
          "text": [
            "[[1 2 3]\n",
            " [5 6 7]]\n"
          ]
        }
      ]
    },
    {
      "cell_type": "code",
      "source": [
        "d4 = np.arange(27).reshape(3, 3, 3)\n",
        "print(d4)"
      ],
      "metadata": {
        "colab": {
          "base_uri": "https://localhost:8080/"
        },
        "id": "f-xaYkkIbcs8",
        "outputId": "16f70d94-5df4-4cef-e102-2001dbde4a22"
      },
      "execution_count": 91,
      "outputs": [
        {
          "output_type": "stream",
          "name": "stdout",
          "text": [
            "[[[ 0  1  2]\n",
            "  [ 3  4  5]\n",
            "  [ 6  7  8]]\n",
            "\n",
            " [[ 9 10 11]\n",
            "  [12 13 14]\n",
            "  [15 16 17]]\n",
            "\n",
            " [[18 19 20]\n",
            "  [21 22 23]\n",
            "  [24 25 26]]]\n"
          ]
        }
      ]
    },
    {
      "cell_type": "code",
      "source": [
        "print(d4[1, :, :])"
      ],
      "metadata": {
        "colab": {
          "base_uri": "https://localhost:8080/"
        },
        "id": "BDSxYZyfbeFA",
        "outputId": "90f6b2f2-fd33-40f4-b9af-66b316f64a5f"
      },
      "execution_count": 92,
      "outputs": [
        {
          "output_type": "stream",
          "name": "stdout",
          "text": [
            "[[ 9 10 11]\n",
            " [12 13 14]\n",
            " [15 16 17]]\n"
          ]
        }
      ]
    },
    {
      "cell_type": "code",
      "source": [
        "print(d4[0:3:2, :, :])"
      ],
      "metadata": {
        "colab": {
          "base_uri": "https://localhost:8080/"
        },
        "id": "MjDcZDiYcJin",
        "outputId": "d6a6541d-1cef-496b-8b9d-e80423ad5773"
      },
      "execution_count": 93,
      "outputs": [
        {
          "output_type": "stream",
          "name": "stdout",
          "text": [
            "[[[ 0  1  2]\n",
            "  [ 3  4  5]\n",
            "  [ 6  7  8]]\n",
            "\n",
            " [[18 19 20]\n",
            "  [21 22 23]\n",
            "  [24 25 26]]]\n"
          ]
        }
      ]
    },
    {
      "cell_type": "code",
      "source": [
        "print(d4[0, 1, :])"
      ],
      "metadata": {
        "colab": {
          "base_uri": "https://localhost:8080/"
        },
        "id": "85odAShMcS6z",
        "outputId": "7bb7c4f1-5019-499d-85be-ce5e9af60db4"
      },
      "execution_count": 94,
      "outputs": [
        {
          "output_type": "stream",
          "name": "stdout",
          "text": [
            "[3 4 5]\n"
          ]
        }
      ]
    },
    {
      "cell_type": "code",
      "source": [
        "print(d4[1, :, 1])"
      ],
      "metadata": {
        "colab": {
          "base_uri": "https://localhost:8080/"
        },
        "id": "To11y-X0celr",
        "outputId": "574c559b-d9fb-4ff7-fae9-d433dd0c1ce7"
      },
      "execution_count": 95,
      "outputs": [
        {
          "output_type": "stream",
          "name": "stdout",
          "text": [
            "[10 13 16]\n"
          ]
        }
      ]
    },
    {
      "cell_type": "code",
      "source": [
        "print(d4[2, 1:3, 1:3])"
      ],
      "metadata": {
        "colab": {
          "base_uri": "https://localhost:8080/"
        },
        "id": "l7tZkXEAcpn5",
        "outputId": "d5e8687e-8548-4901-f1ce-ae7972b609e0"
      },
      "execution_count": 96,
      "outputs": [
        {
          "output_type": "stream",
          "name": "stdout",
          "text": [
            "[[22 23]\n",
            " [25 26]]\n"
          ]
        }
      ]
    },
    {
      "cell_type": "code",
      "source": [
        "print(d4[0:3:2, 0, 0:3:2])"
      ],
      "metadata": {
        "colab": {
          "base_uri": "https://localhost:8080/"
        },
        "id": "Dwef5jf_c5kC",
        "outputId": "80ccc7a6-1d76-4294-8df0-8247ead61752"
      },
      "execution_count": 97,
      "outputs": [
        {
          "output_type": "stream",
          "name": "stdout",
          "text": [
            "[[ 0  2]\n",
            " [18 20]]\n"
          ]
        }
      ]
    },
    {
      "cell_type": "markdown",
      "source": [
        "### Iterating"
      ],
      "metadata": {
        "id": "ZnXnZ9v_eLM6"
      }
    },
    {
      "cell_type": "code",
      "source": [
        "print(d1)"
      ],
      "metadata": {
        "colab": {
          "base_uri": "https://localhost:8080/"
        },
        "id": "bG-p17w_eMlo",
        "outputId": "121b9458-02ee-4c71-c436-ae7f6bd62743"
      },
      "execution_count": 98,
      "outputs": [
        {
          "output_type": "stream",
          "name": "stdout",
          "text": [
            "[0 1 2 3 4 5 6 7 8 9]\n"
          ]
        }
      ]
    },
    {
      "cell_type": "code",
      "source": [
        "for i in d1:\n",
        "  print(i)"
      ],
      "metadata": {
        "colab": {
          "base_uri": "https://localhost:8080/"
        },
        "id": "bsXuyeTBeXcN",
        "outputId": "111d4f96-01fe-4e06-b993-49ce6d6419da"
      },
      "execution_count": 99,
      "outputs": [
        {
          "output_type": "stream",
          "name": "stdout",
          "text": [
            "0\n",
            "1\n",
            "2\n",
            "3\n",
            "4\n",
            "5\n",
            "6\n",
            "7\n",
            "8\n",
            "9\n"
          ]
        }
      ]
    },
    {
      "cell_type": "code",
      "source": [
        "print(d2)"
      ],
      "metadata": {
        "colab": {
          "base_uri": "https://localhost:8080/"
        },
        "id": "CfXaBDWJeQDC",
        "outputId": "7d301cae-198b-4c9f-b06e-768223ca5714"
      },
      "execution_count": 100,
      "outputs": [
        {
          "output_type": "stream",
          "name": "stdout",
          "text": [
            "[[ 0  1  2  3]\n",
            " [ 4  5  6  7]\n",
            " [ 8  9 10 11]]\n"
          ]
        }
      ]
    },
    {
      "cell_type": "code",
      "source": [
        "for i in d2:\n",
        "  print(i) # prints a 1D array"
      ],
      "metadata": {
        "colab": {
          "base_uri": "https://localhost:8080/"
        },
        "id": "jVZiLuWDebu3",
        "outputId": "37f718ee-7873-4726-ca58-c1763dfa2fb2"
      },
      "execution_count": 101,
      "outputs": [
        {
          "output_type": "stream",
          "name": "stdout",
          "text": [
            "[0 1 2 3]\n",
            "[4 5 6 7]\n",
            "[ 8  9 10 11]\n"
          ]
        }
      ]
    },
    {
      "cell_type": "code",
      "source": [
        "# iterating over each element\n",
        "\n",
        "for i in np.nditer(d2):\n",
        "  print(i)"
      ],
      "metadata": {
        "colab": {
          "base_uri": "https://localhost:8080/"
        },
        "id": "pLcWdeuxesQw",
        "outputId": "24c5b8c5-521e-48a2-a3a3-910050e5a596"
      },
      "execution_count": 102,
      "outputs": [
        {
          "output_type": "stream",
          "name": "stdout",
          "text": [
            "0\n",
            "1\n",
            "2\n",
            "3\n",
            "4\n",
            "5\n",
            "6\n",
            "7\n",
            "8\n",
            "9\n",
            "10\n",
            "11\n"
          ]
        }
      ]
    },
    {
      "cell_type": "code",
      "source": [
        "# iterating over each element - another method\n",
        "\n",
        "# flat\n",
        "\n",
        "for item in d2.flat :\n",
        "    print(item)"
      ],
      "metadata": {
        "colab": {
          "base_uri": "https://localhost:8080/"
        },
        "id": "d07ELApNgZyw",
        "outputId": "cb587403-dd27-4134-f65e-63c8269665b0"
      },
      "execution_count": 266,
      "outputs": [
        {
          "output_type": "stream",
          "name": "stdout",
          "text": [
            "0\n",
            "1\n",
            "2\n",
            "3\n",
            "4\n",
            "5\n",
            "6\n",
            "7\n",
            "8\n",
            "9\n",
            "10\n",
            "11\n"
          ]
        }
      ]
    },
    {
      "cell_type": "code",
      "source": [
        "print(d4)"
      ],
      "metadata": {
        "colab": {
          "base_uri": "https://localhost:8080/"
        },
        "id": "atTDQIGLeQzD",
        "outputId": "6d825c49-eeb7-4503-dc17-d47297ccb4b7"
      },
      "execution_count": 103,
      "outputs": [
        {
          "output_type": "stream",
          "name": "stdout",
          "text": [
            "[[[ 0  1  2]\n",
            "  [ 3  4  5]\n",
            "  [ 6  7  8]]\n",
            "\n",
            " [[ 9 10 11]\n",
            "  [12 13 14]\n",
            "  [15 16 17]]\n",
            "\n",
            " [[18 19 20]\n",
            "  [21 22 23]\n",
            "  [24 25 26]]]\n"
          ]
        }
      ]
    },
    {
      "cell_type": "code",
      "source": [
        "for i in d4:\n",
        "  print(i) # prints a 2D array"
      ],
      "metadata": {
        "colab": {
          "base_uri": "https://localhost:8080/"
        },
        "id": "-8vDz2TPekwg",
        "outputId": "4c9ba039-2935-48d2-9297-9fe7740a4cbf"
      },
      "execution_count": 104,
      "outputs": [
        {
          "output_type": "stream",
          "name": "stdout",
          "text": [
            "[[0 1 2]\n",
            " [3 4 5]\n",
            " [6 7 8]]\n",
            "[[ 9 10 11]\n",
            " [12 13 14]\n",
            " [15 16 17]]\n",
            "[[18 19 20]\n",
            " [21 22 23]\n",
            " [24 25 26]]\n"
          ]
        }
      ]
    },
    {
      "cell_type": "code",
      "source": [
        "for i in np.nditer(d4):\n",
        "  print(i)"
      ],
      "metadata": {
        "colab": {
          "base_uri": "https://localhost:8080/"
        },
        "id": "Y_cOcfEqe6S4",
        "outputId": "fa6e0019-02e7-4d57-f9bb-384d75242e4a"
      },
      "execution_count": 105,
      "outputs": [
        {
          "output_type": "stream",
          "name": "stdout",
          "text": [
            "0\n",
            "1\n",
            "2\n",
            "3\n",
            "4\n",
            "5\n",
            "6\n",
            "7\n",
            "8\n",
            "9\n",
            "10\n",
            "11\n",
            "12\n",
            "13\n",
            "14\n",
            "15\n",
            "16\n",
            "17\n",
            "18\n",
            "19\n",
            "20\n",
            "21\n",
            "22\n",
            "23\n",
            "24\n",
            "25\n",
            "26\n"
          ]
        }
      ]
    },
    {
      "cell_type": "markdown",
      "source": [
        "### Reshaping"
      ],
      "metadata": {
        "id": "YU6gec7jfMAf"
      }
    },
    {
      "cell_type": "code",
      "source": [
        "print(d2)"
      ],
      "metadata": {
        "colab": {
          "base_uri": "https://localhost:8080/"
        },
        "id": "6dnYDH-ufNga",
        "outputId": "8ac1ec30-a462-43e7-a7b1-2d2e09eeb787"
      },
      "execution_count": 106,
      "outputs": [
        {
          "output_type": "stream",
          "name": "stdout",
          "text": [
            "[[ 0  1  2  3]\n",
            " [ 4  5  6  7]\n",
            " [ 8  9 10 11]]\n"
          ]
        }
      ]
    },
    {
      "cell_type": "code",
      "source": [
        "# reshape()\n",
        "d2_reshaped = d2.reshape(4, 3)\n",
        "print(d2_reshaped)"
      ],
      "metadata": {
        "colab": {
          "base_uri": "https://localhost:8080/"
        },
        "id": "XtPqg7B7fV2o",
        "outputId": "ee6bd38c-3fac-49be-db9b-154b0e11c737"
      },
      "execution_count": 107,
      "outputs": [
        {
          "output_type": "stream",
          "name": "stdout",
          "text": [
            "[[ 0  1  2]\n",
            " [ 3  4  5]\n",
            " [ 6  7  8]\n",
            " [ 9 10 11]]\n"
          ]
        }
      ]
    },
    {
      "cell_type": "code",
      "source": [
        "# transpose\n",
        "d2_transposed = np.transpose(d2)\n",
        "print(d2_transposed)"
      ],
      "metadata": {
        "colab": {
          "base_uri": "https://localhost:8080/"
        },
        "id": "k86mt4NGfdjh",
        "outputId": "302f969d-8781-4895-9e1d-e57f93acf99f"
      },
      "execution_count": 108,
      "outputs": [
        {
          "output_type": "stream",
          "name": "stdout",
          "text": [
            "[[ 0  4  8]\n",
            " [ 1  5  9]\n",
            " [ 2  6 10]\n",
            " [ 3  7 11]]\n"
          ]
        }
      ]
    },
    {
      "cell_type": "code",
      "source": [
        "print(d2.T)"
      ],
      "metadata": {
        "colab": {
          "base_uri": "https://localhost:8080/"
        },
        "id": "mfD5PfiSfreJ",
        "outputId": "93efb179-ad5c-445d-bb95-b28362771e10"
      },
      "execution_count": 109,
      "outputs": [
        {
          "output_type": "stream",
          "name": "stdout",
          "text": [
            "[[ 0  4  8]\n",
            " [ 1  5  9]\n",
            " [ 2  6 10]\n",
            " [ 3  7 11]]\n"
          ]
        }
      ]
    },
    {
      "cell_type": "code",
      "source": [
        "# ravel() - converts any dimensional array to 1D array\n",
        "d4_raveled = np.ravel(d4)\n",
        "print(d4_raveled)"
      ],
      "metadata": {
        "colab": {
          "base_uri": "https://localhost:8080/"
        },
        "id": "hCtmAfMnf1IJ",
        "outputId": "f83fc50e-b757-45ee-b178-aa3f1f42b560"
      },
      "execution_count": 110,
      "outputs": [
        {
          "output_type": "stream",
          "name": "stdout",
          "text": [
            "[ 0  1  2  3  4  5  6  7  8  9 10 11 12 13 14 15 16 17 18 19 20 21 22 23\n",
            " 24 25 26]\n"
          ]
        }
      ]
    },
    {
      "cell_type": "markdown",
      "source": [
        "$\\bullet$ All these functions create a new array, do not change the existing array."
      ],
      "metadata": {
        "id": "2h3L8B_ugKBD"
      }
    },
    {
      "cell_type": "markdown",
      "source": [
        "### Stacking"
      ],
      "metadata": {
        "id": "JYhuyBENgT_l"
      }
    },
    {
      "cell_type": "markdown",
      "source": [
        "$\\bullet$ Stacking is useful in merging data."
      ],
      "metadata": {
        "id": "uCBJOCjEhdPp"
      }
    },
    {
      "cell_type": "code",
      "source": [
        "e1 = np.arange(12).reshape(3, 4)\n",
        "print(e1)\n",
        "e2 = np.arange(12, 24).reshape(3, 4)\n",
        "print(e2)\n",
        "e3 = np.arange(24, 36).reshape(3, 4)\n",
        "print(e3)"
      ],
      "metadata": {
        "colab": {
          "base_uri": "https://localhost:8080/"
        },
        "id": "JjiCHKO4gVyA",
        "outputId": "c1103c6e-ef9d-44c9-b5a6-5cc90d39d413"
      },
      "execution_count": 111,
      "outputs": [
        {
          "output_type": "stream",
          "name": "stdout",
          "text": [
            "[[ 0  1  2  3]\n",
            " [ 4  5  6  7]\n",
            " [ 8  9 10 11]]\n",
            "[[12 13 14 15]\n",
            " [16 17 18 19]\n",
            " [20 21 22 23]]\n",
            "[[24 25 26 27]\n",
            " [28 29 30 31]\n",
            " [32 33 34 35]]\n"
          ]
        }
      ]
    },
    {
      "cell_type": "code",
      "source": [
        "# horizontal stacking - hstack()\n",
        "print(np.hstack((e1, e2, e3))) # remember that its inputs is a tuple"
      ],
      "metadata": {
        "colab": {
          "base_uri": "https://localhost:8080/"
        },
        "id": "UMTdhgXUgSCw",
        "outputId": "e28971e7-1995-44ed-f569-7105b8a9f7d7"
      },
      "execution_count": 112,
      "outputs": [
        {
          "output_type": "stream",
          "name": "stdout",
          "text": [
            "[[ 0  1  2  3 12 13 14 15 24 25 26 27]\n",
            " [ 4  5  6  7 16 17 18 19 28 29 30 31]\n",
            " [ 8  9 10 11 20 21 22 23 32 33 34 35]]\n"
          ]
        }
      ]
    },
    {
      "cell_type": "code",
      "source": [
        "# vertical stacking - vstack()\n",
        "print(np.vstack((e1, e2, e3)))"
      ],
      "metadata": {
        "colab": {
          "base_uri": "https://localhost:8080/"
        },
        "id": "xcb66zr5hNVQ",
        "outputId": "43b6b968-62b2-4a69-fbe2-5fa8bf23346b"
      },
      "execution_count": 113,
      "outputs": [
        {
          "output_type": "stream",
          "name": "stdout",
          "text": [
            "[[ 0  1  2  3]\n",
            " [ 4  5  6  7]\n",
            " [ 8  9 10 11]\n",
            " [12 13 14 15]\n",
            " [16 17 18 19]\n",
            " [20 21 22 23]\n",
            " [24 25 26 27]\n",
            " [28 29 30 31]\n",
            " [32 33 34 35]]\n"
          ]
        }
      ]
    },
    {
      "cell_type": "markdown",
      "source": [
        "### Splitting"
      ],
      "metadata": {
        "id": "jNIzuBp8hurK"
      }
    },
    {
      "cell_type": "code",
      "source": [
        "print(d2)"
      ],
      "metadata": {
        "colab": {
          "base_uri": "https://localhost:8080/"
        },
        "id": "3qSreNCuhAe4",
        "outputId": "ad888825-8492-4929-e791-ce07d1be27a7"
      },
      "execution_count": 114,
      "outputs": [
        {
          "output_type": "stream",
          "name": "stdout",
          "text": [
            "[[ 0  1  2  3]\n",
            " [ 4  5  6  7]\n",
            " [ 8  9 10 11]]\n"
          ]
        }
      ]
    },
    {
      "cell_type": "code",
      "source": [
        "# horizontal splitting - hsplit()\n",
        "print(np.hsplit(d2, 2))"
      ],
      "metadata": {
        "colab": {
          "base_uri": "https://localhost:8080/"
        },
        "id": "p3rDvZrciHkZ",
        "outputId": "bca33c09-2370-440b-ce2a-315fd58e35ed"
      },
      "execution_count": 115,
      "outputs": [
        {
          "output_type": "stream",
          "name": "stdout",
          "text": [
            "[array([[0, 1],\n",
            "       [4, 5],\n",
            "       [8, 9]]), array([[ 2,  3],\n",
            "       [ 6,  7],\n",
            "       [10, 11]])]\n"
          ]
        }
      ]
    },
    {
      "cell_type": "code",
      "source": [
        "# vertical splitting - vsplit()\n",
        "print(d2_reshaped)"
      ],
      "metadata": {
        "colab": {
          "base_uri": "https://localhost:8080/"
        },
        "id": "N7AZZeBfiZ1N",
        "outputId": "f54e038e-7f34-4a84-9e60-f53eaea3da72"
      },
      "execution_count": 116,
      "outputs": [
        {
          "output_type": "stream",
          "name": "stdout",
          "text": [
            "[[ 0  1  2]\n",
            " [ 3  4  5]\n",
            " [ 6  7  8]\n",
            " [ 9 10 11]]\n"
          ]
        }
      ]
    },
    {
      "cell_type": "code",
      "source": [
        "print(np.vsplit(d2_reshaped, 2))"
      ],
      "metadata": {
        "colab": {
          "base_uri": "https://localhost:8080/"
        },
        "id": "5Rkwco0vinEg",
        "outputId": "0dfa2c7c-ea21-4414-97ce-5b37fcced8aa"
      },
      "execution_count": 117,
      "outputs": [
        {
          "output_type": "stream",
          "name": "stdout",
          "text": [
            "[array([[0, 1, 2],\n",
            "       [3, 4, 5]]), array([[ 6,  7,  8],\n",
            "       [ 9, 10, 11]])]\n"
          ]
        }
      ]
    },
    {
      "cell_type": "code",
      "source": [
        "print(np.vsplit(d2, 3))"
      ],
      "metadata": {
        "colab": {
          "base_uri": "https://localhost:8080/"
        },
        "id": "6CgXTZrSi-W6",
        "outputId": "4ca1f837-df22-4e24-8421-5147967c0ba6"
      },
      "execution_count": 118,
      "outputs": [
        {
          "output_type": "stream",
          "name": "stdout",
          "text": [
            "[array([[0, 1, 2, 3]]), array([[4, 5, 6, 7]]), array([[ 8,  9, 10, 11]])]\n"
          ]
        }
      ]
    },
    {
      "cell_type": "markdown",
      "source": [
        "$\\bullet$ $\\textit{hsplit()}$ and $\\textit{vsplit()}$ support equal splitting only."
      ],
      "metadata": {
        "id": "PjuHxUWDisX1"
      }
    },
    {
      "cell_type": "markdown",
      "source": [
        "### NumPy array vs Python list"
      ],
      "metadata": {
        "id": "aS06zr35vAVv"
      }
    },
    {
      "cell_type": "code",
      "source": [
        "# speed\n",
        "\n",
        "import time\n",
        "\n",
        "# on python list\n",
        "\n",
        "a = [i for i in range(10000000)]\n",
        "b = [i for i in range(10000000, 20000000)]\n",
        "\n",
        "c = []\n",
        "\n",
        "start = time.time()\n",
        "\n",
        "for i in range(len(a)):\n",
        "  c.append(a[i] + b[i])\n",
        "\n",
        "stop = time.time()\n",
        "\n",
        "print(f\"time on python list :{stop - start}\")\n",
        "\n",
        "\n",
        "# on numpy array\n",
        "\n",
        "a1 = np.arange(10000000)\n",
        "b1 = np.arange(10000000, 20000000)\n",
        "\n",
        "start = time.time()\n",
        "\n",
        "c1 = a1 + b1\n",
        "\n",
        "stop = time.time()\n",
        "\n",
        "print(f\"time on Numpy array :{stop - start}\")"
      ],
      "metadata": {
        "colab": {
          "base_uri": "https://localhost:8080/"
        },
        "id": "tZvMC3xavEsL",
        "outputId": "4d5a0241-3bd6-41d5-a895-72608666e9c7"
      },
      "execution_count": 119,
      "outputs": [
        {
          "output_type": "stream",
          "name": "stdout",
          "text": [
            "time on python list :7.204676151275635\n",
            "time on Numpy array :0.05275535583496094\n"
          ]
        }
      ]
    },
    {
      "cell_type": "code",
      "source": [
        "# memory\n",
        "\n",
        "import sys\n",
        "# python list\n",
        "\n",
        "print(sys.getsizeof(a)) # tells number of bytes occupied by 'a'\n",
        "\n",
        "print(sys.getsizeof(a1))\n",
        "\n",
        "a1 = np.arange(10000000, dtype = np.int32)\n",
        "print(sys.getsizeof(a1))"
      ],
      "metadata": {
        "colab": {
          "base_uri": "https://localhost:8080/"
        },
        "id": "kPo1Xpqvzs0c",
        "outputId": "a35550a8-cfef-4e91-d8df-0b7969beb5e7"
      },
      "execution_count": 120,
      "outputs": [
        {
          "output_type": "stream",
          "name": "stdout",
          "text": [
            "89095160\n",
            "80000112\n",
            "40000112\n"
          ]
        }
      ]
    },
    {
      "cell_type": "code",
      "source": [
        "# convenience\n",
        "# python list does not support addition etc. You have to do explicit coding.\n",
        "# numpy array supports addition, subtraction etc."
      ],
      "metadata": {
        "id": "noKEz5JA0d0n"
      },
      "execution_count": 121,
      "outputs": []
    },
    {
      "cell_type": "markdown",
      "source": [
        "### Advanced Indexing"
      ],
      "metadata": {
        "id": "ZHyMckrU1JbC"
      }
    },
    {
      "cell_type": "code",
      "source": [
        "# Fancy indexing\n",
        "a = np.arange(24).reshape(6, 4)\n",
        "print(a)\n",
        "\n",
        "print(a[[0, 1, 4]])\n",
        "\n",
        "print(a[:, [0, 2, 3]])"
      ],
      "metadata": {
        "colab": {
          "base_uri": "https://localhost:8080/"
        },
        "id": "SruEN4xi0vNi",
        "outputId": "07de7d43-d36d-4461-ea8e-fc6d51a78160"
      },
      "execution_count": 122,
      "outputs": [
        {
          "output_type": "stream",
          "name": "stdout",
          "text": [
            "[[ 0  1  2  3]\n",
            " [ 4  5  6  7]\n",
            " [ 8  9 10 11]\n",
            " [12 13 14 15]\n",
            " [16 17 18 19]\n",
            " [20 21 22 23]]\n",
            "[[ 0  1  2  3]\n",
            " [ 4  5  6  7]\n",
            " [16 17 18 19]]\n",
            "[[ 0  2  3]\n",
            " [ 4  6  7]\n",
            " [ 8 10 11]\n",
            " [12 14 15]\n",
            " [16 18 19]\n",
            " [20 22 23]]\n"
          ]
        }
      ]
    },
    {
      "cell_type": "code",
      "source": [
        "# Boolean indexing\n",
        "a = np.random.randint(1, 100, 24).reshape(6, 4)\n",
        "print(a)"
      ],
      "metadata": {
        "colab": {
          "base_uri": "https://localhost:8080/"
        },
        "id": "u-tSOQ2p1Iod",
        "outputId": "1dad524c-a271-400f-b6cc-3bf852a2347f"
      },
      "execution_count": 123,
      "outputs": [
        {
          "output_type": "stream",
          "name": "stdout",
          "text": [
            "[[31 28 94 89]\n",
            " [85 70 33 23]\n",
            " [18 96 73  1]\n",
            " [26 51 20  8]\n",
            " [91 69 41 96]\n",
            " [21 46 18 89]]\n"
          ]
        }
      ]
    },
    {
      "cell_type": "code",
      "source": [
        "# find all the numbers greater than 50\n",
        "print(a > 50) # output will be a boolean array\n",
        "print(a[a > 50])"
      ],
      "metadata": {
        "colab": {
          "base_uri": "https://localhost:8080/"
        },
        "id": "lw2UxCbmJQmz",
        "outputId": "0c20e244-48fc-43f6-9ce3-77d28670a367"
      },
      "execution_count": 124,
      "outputs": [
        {
          "output_type": "stream",
          "name": "stdout",
          "text": [
            "[[False False  True  True]\n",
            " [ True  True False False]\n",
            " [False  True  True False]\n",
            " [False  True False False]\n",
            " [ True  True False  True]\n",
            " [False False False  True]]\n",
            "[94 89 85 70 96 73 51 91 69 96 89]\n"
          ]
        }
      ]
    },
    {
      "cell_type": "code",
      "source": [
        "# find all even numbers\n",
        "print(a[a % 2 == 0])"
      ],
      "metadata": {
        "colab": {
          "base_uri": "https://localhost:8080/"
        },
        "id": "T0dnt2Z0J0iK",
        "outputId": "2cb57eb7-0569-41b8-99f3-c29ef70d9f0f"
      },
      "execution_count": 125,
      "outputs": [
        {
          "output_type": "stream",
          "name": "stdout",
          "text": [
            "[28 94 70 18 96 26 20  8 96 46 18]\n"
          ]
        }
      ]
    },
    {
      "cell_type": "code",
      "source": [
        "# find the numbers greater than 50 and even\n",
        "print(a[(a > 50) & (a % 2 == 0)])"
      ],
      "metadata": {
        "colab": {
          "base_uri": "https://localhost:8080/"
        },
        "id": "a2S2p8EBKBot",
        "outputId": "3d814ce0-773b-4553-b4c2-aaab388d9ad9"
      },
      "execution_count": 126,
      "outputs": [
        {
          "output_type": "stream",
          "name": "stdout",
          "text": [
            "[94 70 96 96]\n"
          ]
        }
      ]
    },
    {
      "cell_type": "code",
      "source": [
        "# find the numbers divisible by 7\n",
        "print(a[a % 7 == 0])"
      ],
      "metadata": {
        "colab": {
          "base_uri": "https://localhost:8080/"
        },
        "id": "0d5dw8JSKXeR",
        "outputId": "c7cc79ff-1c40-4197-eec6-a31d28f6cb5e"
      },
      "execution_count": 127,
      "outputs": [
        {
          "output_type": "stream",
          "name": "stdout",
          "text": [
            "[28 70 91 21]\n"
          ]
        }
      ]
    },
    {
      "cell_type": "code",
      "source": [
        "# find the numbers not divisible by 7\n",
        "print(a[~(a % 7 == 0)]) # ~ is the negation operator\n",
        "# print(a[a % 7 != 0])"
      ],
      "metadata": {
        "colab": {
          "base_uri": "https://localhost:8080/"
        },
        "id": "eyQ2Gb3NKcha",
        "outputId": "bb7efcb9-2773-4135-c8da-f1b361e9186f"
      },
      "execution_count": 128,
      "outputs": [
        {
          "output_type": "stream",
          "name": "stdout",
          "text": [
            "[31 94 89 85 33 23 18 96 73  1 26 51 20  8 69 41 96 46 18 89]\n"
          ]
        }
      ]
    },
    {
      "cell_type": "markdown",
      "source": [
        "### Broadcasting"
      ],
      "metadata": {
        "id": "4w4fff42RMeY"
      }
    },
    {
      "cell_type": "markdown",
      "source": [
        "$\\bullet$ Broadcasting describes how NumPy treats arrays with different shapes during arithmetic operations. The smaller array is broadcast across the larger array so that they are compatible for operations."
      ],
      "metadata": {
        "id": "QTNtErjHRTrT"
      }
    },
    {
      "cell_type": "code",
      "source": [
        "a = np.arange(6).reshape(2, 3)\n",
        "b = np.arange(3).reshape(1, 3)\n",
        "\n",
        "print(a)\n",
        "print(b)\n",
        "\n",
        "print(a + b)"
      ],
      "metadata": {
        "colab": {
          "base_uri": "https://localhost:8080/"
        },
        "id": "Ru9D71PlRrHr",
        "outputId": "ef5fa51c-c757-48f7-cb41-5bc3e8ad124d"
      },
      "execution_count": 129,
      "outputs": [
        {
          "output_type": "stream",
          "name": "stdout",
          "text": [
            "[[0 1 2]\n",
            " [3 4 5]]\n",
            "[[0 1 2]]\n",
            "[[0 2 4]\n",
            " [3 5 7]]\n"
          ]
        }
      ]
    },
    {
      "cell_type": "code",
      "source": [
        "a = np.arange(6).reshape(2, 3)\n",
        "b = np.arange(2).reshape(2, 1)\n",
        "\n",
        "print(a)\n",
        "print(b)\n",
        "\n",
        "print(a + b)"
      ],
      "metadata": {
        "colab": {
          "base_uri": "https://localhost:8080/"
        },
        "id": "QW-0wJoTS7px",
        "outputId": "d8acd3ee-6c07-4b16-8a22-87670555138a"
      },
      "execution_count": 130,
      "outputs": [
        {
          "output_type": "stream",
          "name": "stdout",
          "text": [
            "[[0 1 2]\n",
            " [3 4 5]]\n",
            "[[0]\n",
            " [1]]\n",
            "[[0 1 2]\n",
            " [4 5 6]]\n"
          ]
        }
      ]
    },
    {
      "cell_type": "code",
      "source": [
        "a = np.arange(3).reshape(3, 1)\n",
        "b = np.arange(3).reshape(1, 3)\n",
        "\n",
        "print(a)\n",
        "print(b)\n",
        "\n",
        "print(a + b)"
      ],
      "metadata": {
        "colab": {
          "base_uri": "https://localhost:8080/"
        },
        "id": "vTfc_5onROM3",
        "outputId": "edde7b34-1e31-43c9-f642-6afc5f8782a2"
      },
      "execution_count": 131,
      "outputs": [
        {
          "output_type": "stream",
          "name": "stdout",
          "text": [
            "[[0]\n",
            " [1]\n",
            " [2]]\n",
            "[[0 1 2]]\n",
            "[[0 1 2]\n",
            " [1 2 3]\n",
            " [2 3 4]]\n"
          ]
        }
      ]
    },
    {
      "cell_type": "markdown",
      "source": [
        "$\\bullet$ Broadcasting rules\n",
        "1. If the number of dimensions of the two arrays are different, NumPy adds new dimension of size 1 to the head of the array with smaller number of dimensions. For example, if there are two arrays with dimensions (2, 3) and (3,) respectively, new dimension of the second array will be (1, 3); if there are two arrays with dimensions (3, 3, 5) and (5,), new dimension of the second array will be (1, 1, 5).\n",
        "2. If the sizes of each dimension of two arrays do not match, dimensions with size 1 are stretched to the size of the other array. But if any of the mismatching dimension size is not 1, broadcasting is not possible and an error will be raised. In the previous examples, (1, 3) will now be converted to (2, 3); (1, 1, 5) will now be converted to (3, 3, 5)."
      ],
      "metadata": {
        "id": "RUVqw4OEcOPw"
      }
    },
    {
      "cell_type": "markdown",
      "source": [
        "<img src = \"https://jakevdp.github.io/PythonDataScienceHandbook/figures/02.05-broadcasting.png\">"
      ],
      "metadata": {
        "id": "bu000RTg8bc2"
      }
    },
    {
      "cell_type": "code",
      "source": [
        "a = np.arange(12).reshape(4, 3)\n",
        "b = np.arange(3)\n",
        "\n",
        "print(a)\n",
        "print(b)\n",
        "\n",
        "print(a + b)"
      ],
      "metadata": {
        "colab": {
          "base_uri": "https://localhost:8080/"
        },
        "id": "Ezg05x8jgG9J",
        "outputId": "0f438553-7d9b-43e0-f158-8b4e6c245bad"
      },
      "execution_count": 132,
      "outputs": [
        {
          "output_type": "stream",
          "name": "stdout",
          "text": [
            "[[ 0  1  2]\n",
            " [ 3  4  5]\n",
            " [ 6  7  8]\n",
            " [ 9 10 11]]\n",
            "[0 1 2]\n",
            "[[ 0  2  4]\n",
            " [ 3  5  7]\n",
            " [ 6  8 10]\n",
            " [ 9 11 13]]\n"
          ]
        }
      ]
    },
    {
      "cell_type": "code",
      "source": [
        "a = np.arange(12).reshape(3, 4)\n",
        "b = np.arange(3)\n",
        "\n",
        "print(a)\n",
        "print(b)\n",
        "\n",
        "# print(a + b) # will raise an error"
      ],
      "metadata": {
        "colab": {
          "base_uri": "https://localhost:8080/"
        },
        "id": "nguvDCWgghPu",
        "outputId": "bbdd90ed-119b-426f-8da7-397e0d2d4637"
      },
      "execution_count": 133,
      "outputs": [
        {
          "output_type": "stream",
          "name": "stdout",
          "text": [
            "[[ 0  1  2  3]\n",
            " [ 4  5  6  7]\n",
            " [ 8  9 10 11]]\n",
            "[0 1 2]\n"
          ]
        }
      ]
    },
    {
      "cell_type": "code",
      "source": [
        "a = np.arange(3).reshape(1, 3)\n",
        "b = np.arange(4).reshape(4, 1)\n",
        "\n",
        "print(a)\n",
        "print(b)\n",
        "\n",
        "print(a + b)"
      ],
      "metadata": {
        "colab": {
          "base_uri": "https://localhost:8080/"
        },
        "id": "PtdTpgreg3DP",
        "outputId": "a5c4467b-7688-4208-b258-029455643898"
      },
      "execution_count": 134,
      "outputs": [
        {
          "output_type": "stream",
          "name": "stdout",
          "text": [
            "[[0 1 2]]\n",
            "[[0]\n",
            " [1]\n",
            " [2]\n",
            " [3]]\n",
            "[[0 1 2]\n",
            " [1 2 3]\n",
            " [2 3 4]\n",
            " [3 4 5]]\n"
          ]
        }
      ]
    },
    {
      "cell_type": "code",
      "source": [
        "a = np.array([1])\n",
        "b = np.arange(4).reshape(2, 2)\n",
        "\n",
        "print(a)\n",
        "print(b)\n",
        "\n",
        "print(a + b)"
      ],
      "metadata": {
        "colab": {
          "base_uri": "https://localhost:8080/"
        },
        "id": "cmoIHsvQhgN7",
        "outputId": "7b62e6cf-cb12-4209-f5b6-2113f8df8578"
      },
      "execution_count": 135,
      "outputs": [
        {
          "output_type": "stream",
          "name": "stdout",
          "text": [
            "[1]\n",
            "[[0 1]\n",
            " [2 3]]\n",
            "[[1 2]\n",
            " [3 4]]\n"
          ]
        }
      ]
    },
    {
      "cell_type": "markdown",
      "source": [
        "### Working with mathematical formulas"
      ],
      "metadata": {
        "id": "gkkkG8DroEP2"
      }
    },
    {
      "cell_type": "code",
      "source": [
        "# sigmoid\n",
        "\n",
        "def sigmoid(array):\n",
        "  return(1 / (1 + np.exp((-1) * array)))\n",
        "\n",
        "a = np.arange(10)\n",
        "\n",
        "print(sigmoid(a))"
      ],
      "metadata": {
        "colab": {
          "base_uri": "https://localhost:8080/"
        },
        "id": "9-UyiFdXoH9Y",
        "outputId": "c0a1f17f-782d-4ae8-9149-7524700a15f1"
      },
      "execution_count": 136,
      "outputs": [
        {
          "output_type": "stream",
          "name": "stdout",
          "text": [
            "[0.5        0.73105858 0.88079708 0.95257413 0.98201379 0.99330715\n",
            " 0.99752738 0.99908895 0.99966465 0.99987661]\n"
          ]
        }
      ]
    },
    {
      "cell_type": "code",
      "source": [
        "# mean squared error\n",
        "\n",
        "actual = np.random.randint(1, 50, 25)\n",
        "predicted = np.random.randint(1, 50, 25)\n",
        "\n",
        "print(actual)\n",
        "print(predicted)\n",
        "\n",
        "def MSE(y, y_hat):\n",
        "  return(np.mean((y - y_hat)**2))\n",
        "\n",
        "print(MSE(actual, predicted))"
      ],
      "metadata": {
        "colab": {
          "base_uri": "https://localhost:8080/"
        },
        "id": "8co90BZOqPmS",
        "outputId": "eda52556-0b8b-40e0-e538-3fe81f29b3c6"
      },
      "execution_count": 137,
      "outputs": [
        {
          "output_type": "stream",
          "name": "stdout",
          "text": [
            "[19  4 13 36 26  4 23 14 17 27 25  2 24 25 22 29  5 19 47 40  2 33 40 41\n",
            "  5]\n",
            "[46 35  7 11 13 20 13 37 34 29 14 25 15 38 43 28  1  6 14  4 15 39  3 33\n",
            " 20]\n",
            "378.92\n"
          ]
        }
      ]
    },
    {
      "cell_type": "markdown",
      "source": [
        "### Working with missing values"
      ],
      "metadata": {
        "id": "V_EvidhGtO4C"
      }
    },
    {
      "cell_type": "code",
      "source": [
        "# nan ['none' is different]\n",
        "\n",
        "a = np.array([1, 2, np.nan, 4, 5, np.nan, 7])\n",
        "print(a)"
      ],
      "metadata": {
        "colab": {
          "base_uri": "https://localhost:8080/"
        },
        "id": "gFOAhwLEtQ9Z",
        "outputId": "bf9503b1-5317-4a2d-9959-8c4d47f30161"
      },
      "execution_count": 138,
      "outputs": [
        {
          "output_type": "stream",
          "name": "stdout",
          "text": [
            "[ 1.  2. nan  4.  5. nan  7.]\n"
          ]
        }
      ]
    },
    {
      "cell_type": "code",
      "source": [
        "# isnan()\n",
        "\n",
        "print(np.isnan(a))"
      ],
      "metadata": {
        "colab": {
          "base_uri": "https://localhost:8080/"
        },
        "id": "U36o5v_UuD96",
        "outputId": "04387f80-46fa-46f3-d948-005bf37e5c39"
      },
      "execution_count": 139,
      "outputs": [
        {
          "output_type": "stream",
          "name": "stdout",
          "text": [
            "[False False  True False False  True False]\n"
          ]
        }
      ]
    },
    {
      "cell_type": "code",
      "source": [
        "# removing the missing values\n",
        "print(a[~np.isnan(a)])"
      ],
      "metadata": {
        "colab": {
          "base_uri": "https://localhost:8080/"
        },
        "id": "0_XXMkjiuHsT",
        "outputId": "28e251aa-a9f7-4d32-c0e7-3206cabc3747"
      },
      "execution_count": 140,
      "outputs": [
        {
          "output_type": "stream",
          "name": "stdout",
          "text": [
            "[1. 2. 4. 5. 7.]\n"
          ]
        }
      ]
    },
    {
      "cell_type": "markdown",
      "source": [
        "### Plotting Graphs"
      ],
      "metadata": {
        "id": "2vhAbwV7uf5K"
      }
    },
    {
      "cell_type": "code",
      "source": [
        "from matplotlib import pyplot as plt"
      ],
      "metadata": {
        "id": "0cR4rO8xvKlm"
      },
      "execution_count": 141,
      "outputs": []
    },
    {
      "cell_type": "code",
      "source": [
        "# y = x\n",
        "x = np.linspace(-10, 10, 100)\n",
        "y = x\n",
        "\n",
        "plt.plot(x, y)"
      ],
      "metadata": {
        "colab": {
          "base_uri": "https://localhost:8080/",
          "height": 447
        },
        "id": "ytmbAqB6uqVo",
        "outputId": "c3017f3f-66c5-4b65-9f70-0dbaa142b174"
      },
      "execution_count": 142,
      "outputs": [
        {
          "output_type": "execute_result",
          "data": {
            "text/plain": [
              "[<matplotlib.lines.Line2D at 0x7a6d1065a310>]"
            ]
          },
          "metadata": {},
          "execution_count": 142
        },
        {
          "output_type": "display_data",
          "data": {
            "text/plain": [
              "<Figure size 640x480 with 1 Axes>"
            ],
            "image/png": "[encoded data removed]"
          },
          "metadata": {}
        }
      ]
    },
    {
      "cell_type": "code",
      "source": [
        "# y = x^2\n",
        "\n",
        "x = np.linspace(-10, 10, 1000)\n",
        "y = x**2\n",
        "\n",
        "plt.plot(x, y)"
      ],
      "metadata": {
        "colab": {
          "base_uri": "https://localhost:8080/",
          "height": 447
        },
        "id": "5ndDbVzAui2G",
        "outputId": "64b1090f-f926-46af-fc8f-1deedc41e7d2"
      },
      "execution_count": 143,
      "outputs": [
        {
          "output_type": "execute_result",
          "data": {
            "text/plain": [
              "[<matplotlib.lines.Line2D at 0x7a6cc55d6110>]"
            ]
          },
          "metadata": {},
          "execution_count": 143
        },
        {
          "output_type": "display_data",
          "data": {
            "text/plain": [
              "<Figure size 640x480 with 1 Axes>"
            ],
            "image/png": "[encoded data removed]"
          },
          "metadata": {}
        }
      ]
    },
    {
      "cell_type": "code",
      "source": [
        "# y = sin(x)\n",
        "\n",
        "x = np.linspace(-10, 10, 1000)\n",
        "y = np.sin(x)\n",
        "\n",
        "plt.plot(x, y)"
      ],
      "metadata": {
        "colab": {
          "base_uri": "https://localhost:8080/",
          "height": 447
        },
        "id": "pmXcEtaevoh2",
        "outputId": "13a38a9f-4b86-4b87-d687-880e4cb82011"
      },
      "execution_count": 144,
      "outputs": [
        {
          "output_type": "execute_result",
          "data": {
            "text/plain": [
              "[<matplotlib.lines.Line2D at 0x7a6cc5688510>]"
            ]
          },
          "metadata": {},
          "execution_count": 144
        },
        {
          "output_type": "display_data",
          "data": {
            "text/plain": [
              "<Figure size 640x480 with 1 Axes>"
            ],
            "image/png": "[encoded data removed]"
          },
          "metadata": {}
        }
      ]
    },
    {
      "cell_type": "code",
      "source": [
        "# y = x*log(x)\n",
        "\n",
        "x = np.linspace(1, 20, 50)\n",
        "y = x * np.log(x)\n",
        "\n",
        "plt.plot(x, y)"
      ],
      "metadata": {
        "colab": {
          "base_uri": "https://localhost:8080/",
          "height": 447
        },
        "id": "zfy6p4mov2Az",
        "outputId": "b2623b21-c843-4789-9075-227af0e28f40"
      },
      "execution_count": 145,
      "outputs": [
        {
          "output_type": "execute_result",
          "data": {
            "text/plain": [
              "[<matplotlib.lines.Line2D at 0x7a6cc567fe90>]"
            ]
          },
          "metadata": {},
          "execution_count": 145
        },
        {
          "output_type": "display_data",
          "data": {
            "text/plain": [
              "<Figure size 640x480 with 1 Axes>"
            ],
            "image/png": "[encoded data removed]"
          },
          "metadata": {}
        }
      ]
    },
    {
      "cell_type": "code",
      "source": [
        "# sigmoid()\n",
        "\n",
        "x = np.linspace(-10, 10, 100)\n",
        "y = sigmoid(x)\n",
        "\n",
        "plt.plot(x, y)"
      ],
      "metadata": {
        "colab": {
          "base_uri": "https://localhost:8080/",
          "height": 447
        },
        "id": "9uwZlsctwgLx",
        "outputId": "9fd03deb-a0f4-494c-b4db-fb97e815b0d4"
      },
      "execution_count": 146,
      "outputs": [
        {
          "output_type": "execute_result",
          "data": {
            "text/plain": [
              "[<matplotlib.lines.Line2D at 0x7a6cba112510>]"
            ]
          },
          "metadata": {},
          "execution_count": 146
        },
        {
          "output_type": "display_data",
          "data": {
            "text/plain": [
              "<Figure size 640x480 with 1 Axes>"
            ],
            "image/png": "[encoded data removed]"
          },
          "metadata": {}
        }
      ]
    },
    {
      "cell_type": "markdown",
      "source": [
        "### More Functions"
      ],
      "metadata": {
        "id": "gqoHQUwtNide"
      }
    },
    {
      "cell_type": "markdown",
      "source": [
        "$\\bullet$ $\\textit{sort()}$ - returns a sorted copy of an array."
      ],
      "metadata": {
        "id": "hKX6l7cJOK7z"
      }
    },
    {
      "cell_type": "code",
      "source": [
        "a = np.random.randint(1, 100, 20)\n",
        "b = np.random.randint(1, 100, 24).reshape(6, 4)\n",
        "\n",
        "print(a)\n",
        "print(b)"
      ],
      "metadata": {
        "colab": {
          "base_uri": "https://localhost:8080/"
        },
        "id": "MUP6-J43Nlrg",
        "outputId": "203a1566-b590-4c65-ae51-54faf793edc5"
      },
      "execution_count": 147,
      "outputs": [
        {
          "output_type": "stream",
          "name": "stdout",
          "text": [
            "[72 20 70 87 59 53 87 23 69 79  6 16 40 70 45 40 71 41 14  9]\n",
            "[[85 53 95 42]\n",
            " [75 56 68 45]\n",
            " [87 85 99 34]\n",
            " [93 62 58 75]\n",
            " [53 57 75 66]\n",
            " [93 45 44 36]]\n"
          ]
        }
      ]
    },
    {
      "cell_type": "code",
      "source": [
        "print(np.sort(a))"
      ],
      "metadata": {
        "colab": {
          "base_uri": "https://localhost:8080/"
        },
        "id": "pzfzqqkcOaKz",
        "outputId": "ffa7b14c-13c8-4afe-8c03-fb7474f40456"
      },
      "execution_count": 148,
      "outputs": [
        {
          "output_type": "stream",
          "name": "stdout",
          "text": [
            "[ 6  9 14 16 20 23 40 40 41 45 53 59 69 70 70 71 72 79 87 87]\n"
          ]
        }
      ]
    },
    {
      "cell_type": "code",
      "source": [
        "print(np.sort(b)) # does row-wise sorting in ascending order"
      ],
      "metadata": {
        "colab": {
          "base_uri": "https://localhost:8080/"
        },
        "id": "EQdspqoPOxNC",
        "outputId": "c00de265-7966-4205-b9e3-087019d9fb78"
      },
      "execution_count": 149,
      "outputs": [
        {
          "output_type": "stream",
          "name": "stdout",
          "text": [
            "[[42 53 85 95]\n",
            " [45 56 68 75]\n",
            " [34 85 87 99]\n",
            " [58 62 75 93]\n",
            " [53 57 66 75]\n",
            " [36 44 45 93]]\n"
          ]
        }
      ]
    },
    {
      "cell_type": "code",
      "source": [
        "print(np.sort(b, axis = 0)) # does column-wise sorting in ascending order"
      ],
      "metadata": {
        "colab": {
          "base_uri": "https://localhost:8080/"
        },
        "id": "NrJjBVVUPFtK",
        "outputId": "7eaad6ca-eb30-4412-e410-61872327d353"
      },
      "execution_count": 150,
      "outputs": [
        {
          "output_type": "stream",
          "name": "stdout",
          "text": [
            "[[53 45 44 34]\n",
            " [75 53 58 36]\n",
            " [85 56 68 42]\n",
            " [87 57 75 45]\n",
            " [93 62 95 66]\n",
            " [93 85 99 75]]\n"
          ]
        }
      ]
    },
    {
      "cell_type": "markdown",
      "source": [
        "By default there is no option to sort in descending order."
      ],
      "metadata": {
        "id": "9uuYTdWYPnvP"
      }
    },
    {
      "cell_type": "code",
      "source": [
        "# sorting in descending order\n",
        "# we sort the array in ascending order and then reverse the array by indexing\n",
        "print(a)\n",
        "print(np.sort(a)[::-1])"
      ],
      "metadata": {
        "colab": {
          "base_uri": "https://localhost:8080/"
        },
        "id": "MIZJrJeTPwT_",
        "outputId": "0df1a009-d3d5-44da-be98-90c80c2fdde8"
      },
      "execution_count": 151,
      "outputs": [
        {
          "output_type": "stream",
          "name": "stdout",
          "text": [
            "[72 20 70 87 59 53 87 23 69 79  6 16 40 70 45 40 71 41 14  9]\n",
            "[87 87 79 72 71 70 70 69 59 53 45 41 40 40 23 20 16 14  9  6]\n"
          ]
        }
      ]
    },
    {
      "cell_type": "code",
      "source": [
        "# another way to sort in descending order\n",
        "print(-np.sort(-a))"
      ],
      "metadata": {
        "colab": {
          "base_uri": "https://localhost:8080/"
        },
        "id": "AErNweuSoEYa",
        "outputId": "7883067b-bfcb-4792-9309-6290657f42a0"
      },
      "execution_count": 274,
      "outputs": [
        {
          "output_type": "stream",
          "name": "stdout",
          "text": [
            "[19 16 11 10  7  5  4  4  0  0]\n"
          ]
        }
      ]
    },
    {
      "cell_type": "markdown",
      "source": [
        "$\\bullet$ $\\textit{append()}$ - appends values at the mentioned axis."
      ],
      "metadata": {
        "id": "E5xvAovvQHv3"
      }
    },
    {
      "cell_type": "code",
      "source": [
        "print(a)\n",
        "print(np.append(a, 100))"
      ],
      "metadata": {
        "colab": {
          "base_uri": "https://localhost:8080/"
        },
        "id": "WWJvVoTDPlA6",
        "outputId": "de6329b8-0b14-4e48-f22b-48d81d508f49"
      },
      "execution_count": 152,
      "outputs": [
        {
          "output_type": "stream",
          "name": "stdout",
          "text": [
            "[72 20 70 87 59 53 87 23 69 79  6 16 40 70 45 40 71 41 14  9]\n",
            "[ 72  20  70  87  59  53  87  23  69  79   6  16  40  70  45  40  71  41\n",
            "  14   9 100]\n"
          ]
        }
      ]
    },
    {
      "cell_type": "code",
      "source": [
        "print(b)\n",
        "print(np.append(b, np.ones((b.shape[0], 1)), axis = 1)) # appends along the second direction(as axis = 1), the horizontal direction in case of a 2D array"
      ],
      "metadata": {
        "colab": {
          "base_uri": "https://localhost:8080/"
        },
        "id": "ayw9CPVVRyIJ",
        "outputId": "7a47e5b0-de66-448d-b6de-76540921e663"
      },
      "execution_count": 157,
      "outputs": [
        {
          "output_type": "stream",
          "name": "stdout",
          "text": [
            "[[85 53 95 42]\n",
            " [75 56 68 45]\n",
            " [87 85 99 34]\n",
            " [93 62 58 75]\n",
            " [53 57 75 66]\n",
            " [93 45 44 36]]\n",
            "[[85. 53. 95. 42.  1.]\n",
            " [75. 56. 68. 45.  1.]\n",
            " [87. 85. 99. 34.  1.]\n",
            " [93. 62. 58. 75.  1.]\n",
            " [53. 57. 75. 66.  1.]\n",
            " [93. 45. 44. 36.  1.]]\n"
          ]
        }
      ]
    },
    {
      "cell_type": "markdown",
      "source": [
        "$\\bullet$ $\\textit{concatenate()}$ - concatenates a sequence of arrays along an existing axis."
      ],
      "metadata": {
        "id": "QMydp-E7NQpn"
      }
    },
    {
      "cell_type": "code",
      "source": [
        "c = np.arange(6).reshape(2, 3)\n",
        "d = np.arange(6, 12).reshape(2, 3)\n",
        "e = np.arange(12, 18).reshape(2, 3)\n",
        "\n",
        "print(c)\n",
        "print(d)\n",
        "print(e)\n",
        "\n",
        "print(np.concatenate((c, d, e), axis = 0))\n",
        "print(np.concatenate((c, d, e), axis = 1))"
      ],
      "metadata": {
        "colab": {
          "base_uri": "https://localhost:8080/"
        },
        "id": "jnKYw96JTA2Q",
        "outputId": "db3241c4-ab26-485a-bf2b-a9c63404adab"
      },
      "execution_count": 158,
      "outputs": [
        {
          "output_type": "stream",
          "name": "stdout",
          "text": [
            "[[0 1 2]\n",
            " [3 4 5]]\n",
            "[[ 6  7  8]\n",
            " [ 9 10 11]]\n",
            "[[12 13 14]\n",
            " [15 16 17]]\n",
            "[[ 0  1  2]\n",
            " [ 3  4  5]\n",
            " [ 6  7  8]\n",
            " [ 9 10 11]\n",
            " [12 13 14]\n",
            " [15 16 17]]\n",
            "[[ 0  1  2  6  7  8 12 13 14]\n",
            " [ 3  4  5  9 10 11 15 16 17]]\n"
          ]
        }
      ]
    },
    {
      "cell_type": "markdown",
      "source": [
        "$\\bullet$ $\\textit{unique()}$ - gives unique values of an array"
      ],
      "metadata": {
        "id": "wAg5VU4WObiE"
      }
    },
    {
      "cell_type": "code",
      "source": [
        "a = np.array([7, 14, 1, 2, 1, 3, 5, 4, 4, 1, 3, 2, 2, 1, 4, 5, 5, 5, 1, 2, 3])\n",
        "\n",
        "print(np.unique(a)) # notice that the unique values are produced in ascending order"
      ],
      "metadata": {
        "colab": {
          "base_uri": "https://localhost:8080/"
        },
        "id": "Toi0RC-QOhfh",
        "outputId": "ac01d38d-d468-4c56-d4f9-31e653bb6891"
      },
      "execution_count": 165,
      "outputs": [
        {
          "output_type": "stream",
          "name": "stdout",
          "text": [
            "[ 1  2  3  4  5  7 14]\n"
          ]
        }
      ]
    },
    {
      "cell_type": "markdown",
      "source": [
        "$\\bullet$ $\\textit{expand_dims()}$ - expands dimension by 1"
      ],
      "metadata": {
        "id": "_ZRWDBYFPGox"
      }
    },
    {
      "cell_type": "code",
      "source": [
        "print(a.ndim)\n",
        "print(a.shape)\n",
        "\n",
        "print(np.expand_dims(a, axis = 0)) # its dimension will be (1, 21)\n",
        "\n",
        "print(np.expand_dims(a, axis = 1)) # its dimension will be (21, 1)\n",
        "\n",
        "# If the axis value is negative, it counts from the last dimension.\n",
        "print(c)\n",
        "print(c.shape)\n",
        "print(np.expand_dims(c, axis = -1)) # its dimension will be (2, 3, 1)"
      ],
      "metadata": {
        "colab": {
          "base_uri": "https://localhost:8080/"
        },
        "id": "RFq24kbQPNz4",
        "outputId": "4f8fd515-3a68-415a-ff14-00a1150623a6"
      },
      "execution_count": 176,
      "outputs": [
        {
          "output_type": "stream",
          "name": "stdout",
          "text": [
            "1\n",
            "(21,)\n",
            "[[ 7 14  1  2  1  3  5  4  4  1  3  2  2  1  4  5  5  5  1  2  3]]\n",
            "[[ 7]\n",
            " [14]\n",
            " [ 1]\n",
            " [ 2]\n",
            " [ 1]\n",
            " [ 3]\n",
            " [ 5]\n",
            " [ 4]\n",
            " [ 4]\n",
            " [ 1]\n",
            " [ 3]\n",
            " [ 2]\n",
            " [ 2]\n",
            " [ 1]\n",
            " [ 4]\n",
            " [ 5]\n",
            " [ 5]\n",
            " [ 5]\n",
            " [ 1]\n",
            " [ 2]\n",
            " [ 3]]\n",
            "[[0 1 2]\n",
            " [3 4 5]]\n",
            "(2, 3)\n",
            "[[[0]\n",
            "  [1]\n",
            "  [2]]\n",
            "\n",
            " [[3]\n",
            "  [4]\n",
            "  [5]]]\n"
          ]
        }
      ]
    },
    {
      "cell_type": "markdown",
      "source": [
        "$\\bullet$ $\\textit{where()}$ - returns indices of elements when a given condition is satisfied."
      ],
      "metadata": {
        "id": "lGFr5yhBTZ6M"
      }
    },
    {
      "cell_type": "code",
      "source": [
        "a = np.random.randint(0, 100, 30)\n",
        "print(a)\n",
        "\n",
        "print(np.where(a > 50))"
      ],
      "metadata": {
        "colab": {
          "base_uri": "https://localhost:8080/"
        },
        "id": "XCPC7bW5Tm33",
        "outputId": "2c97621b-ffb9-4bc2-e454-c05c99edfeaf"
      },
      "execution_count": 178,
      "outputs": [
        {
          "output_type": "stream",
          "name": "stdout",
          "text": [
            "[52 70 47 24 46 33 20 78 84 10 48 95 59  5 54 86 63 38 40 73 58 68 19  8\n",
            " 76 82 55 70 65 74]\n",
            "(array([ 0,  1,  7,  8, 11, 12, 14, 15, 16, 19, 20, 21, 24, 25, 26, 27, 28,\n",
            "       29]),)\n"
          ]
        }
      ]
    },
    {
      "cell_type": "code",
      "source": [
        "b = np.arange(12).reshape(3, 4)\n",
        "print(b)\n",
        "\n",
        "print(np.where(b > 8)) # returns a tuple, first element of which contains 1st dimension index of elements satisfying the condition, second element of which contains 2nd dimension of elements satisfying the condition"
      ],
      "metadata": {
        "colab": {
          "base_uri": "https://localhost:8080/"
        },
        "id": "faDxrX1YpxK1",
        "outputId": "b782cc65-9ba0-470a-8011-019c0566fcd6"
      },
      "execution_count": 281,
      "outputs": [
        {
          "output_type": "stream",
          "name": "stdout",
          "text": [
            "[[ 0  1  2  3]\n",
            " [ 4  5  6  7]\n",
            " [ 8  9 10 11]]\n",
            "(array([2, 2, 2]), array([1, 2, 3]))\n"
          ]
        }
      ]
    },
    {
      "cell_type": "code",
      "source": [
        "# replace all the values greater than 50 with 0\n",
        "# np.where(condition, true, false)\n",
        "\n",
        "print(np.where(a > 50, 0, a))"
      ],
      "metadata": {
        "colab": {
          "base_uri": "https://localhost:8080/"
        },
        "id": "eTn-zsxKTqQq",
        "outputId": "954a1078-ac41-4265-d63f-9cfae8d0b71f"
      },
      "execution_count": 180,
      "outputs": [
        {
          "output_type": "stream",
          "name": "stdout",
          "text": [
            "[ 0  0 47 24 46 33 20  0  0 10 48  0  0  5  0  0  0 38 40  0  0  0 19  8\n",
            "  0  0  0  0  0  0]\n"
          ]
        }
      ]
    },
    {
      "cell_type": "code",
      "source": [
        "# replace all the even numbers with 0\n",
        "print(np.where(a % 2 == 0, 0, a))"
      ],
      "metadata": {
        "colab": {
          "base_uri": "https://localhost:8080/"
        },
        "id": "d-51xOLkURWe",
        "outputId": "77418de2-e2c0-408d-e86f-976436590cc0"
      },
      "execution_count": 181,
      "outputs": [
        {
          "output_type": "stream",
          "name": "stdout",
          "text": [
            "[ 0  0 47  0  0 33  0  0  0  0  0 95 59  5  0  0 63  0  0 73  0  0 19  0\n",
            "  0  0 55  0 65  0]\n"
          ]
        }
      ]
    },
    {
      "cell_type": "markdown",
      "source": [
        "$\\bullet$ $\\textit{argmax()}$ - returns index of the maximum element of an array in a particular axis."
      ],
      "metadata": {
        "id": "ZYKR-wsyUgru"
      }
    },
    {
      "cell_type": "code",
      "source": [
        "a = np.random.randint(0, 100, 10)\n",
        "print(a)\n",
        "\n",
        "print(np.argmax(a))"
      ],
      "metadata": {
        "colab": {
          "base_uri": "https://localhost:8080/"
        },
        "id": "BdH_8egCVI4t",
        "outputId": "2a240e97-2308-43e1-b223-713700a6b7d9"
      },
      "execution_count": 186,
      "outputs": [
        {
          "output_type": "stream",
          "name": "stdout",
          "text": [
            "[78 51 39 86 93 62 39 53 44 67]\n",
            "4\n"
          ]
        }
      ]
    },
    {
      "cell_type": "code",
      "source": [
        "a = np.random.randint(0, 100, 24).reshape(6, 4)\n",
        "print(a)\n",
        "\n",
        "print(np.argmax(a)) # gives the index of the maximum element of the flattened 1D array\n",
        "\n",
        "print(np.argmax(a, axis = 0)) # gives the indices of maximum elements along the vertical direction\n",
        "\n",
        "print(np.argmax(a, axis = 1)) # gives the indices of maximum elements along the horizontal direction"
      ],
      "metadata": {
        "colab": {
          "base_uri": "https://localhost:8080/"
        },
        "id": "hi2n9uwxUoHE",
        "outputId": "21bac2ed-7a3d-4028-c7fd-193c695c95c4"
      },
      "execution_count": 192,
      "outputs": [
        {
          "output_type": "stream",
          "name": "stdout",
          "text": [
            "[[11  1 17 17]\n",
            " [47  0 73 80]\n",
            " [56 87 78 55]\n",
            " [85 13 18 10]\n",
            " [83 48 61 16]\n",
            " [57  5 38 65]]\n",
            "9\n",
            "[85 87 78 80]\n",
            "[3 2 2 1]\n",
            "[2 3 1 0 0 3]\n"
          ]
        }
      ]
    },
    {
      "cell_type": "markdown",
      "source": [
        "$\\bullet$ $\\textit{argmin()}$ - returns index of the minimum element of an array in a particular axis."
      ],
      "metadata": {
        "id": "57o8gyksXRi4"
      }
    },
    {
      "cell_type": "code",
      "source": [
        "a = np.random.randint(0, 100, 10)\n",
        "print(a)\n",
        "\n",
        "print(np.argmin(a))"
      ],
      "metadata": {
        "colab": {
          "base_uri": "https://localhost:8080/"
        },
        "id": "fTiR0WIcXQ-C",
        "outputId": "255b4a99-b38e-480b-b989-6d479a847c28"
      },
      "execution_count": 194,
      "outputs": [
        {
          "output_type": "stream",
          "name": "stdout",
          "text": [
            "[30 57 92 18 94 64  9 55 64  1]\n",
            "9\n"
          ]
        }
      ]
    },
    {
      "cell_type": "code",
      "source": [
        "a = np.random.randint(0, 100, 24).reshape(6, 4)\n",
        "print(a)\n",
        "\n",
        "print(np.argmin(a)) # gives the index of the minimum element of the flattened 1D array\n",
        "\n",
        "print(np.argmin(a, axis = 0)) # gives the indices of minimum elements along the vertical direction\n",
        "\n",
        "print(np.argmin(a, axis = 1)) # gives the indices of minimum elements along the horizontal direction"
      ],
      "metadata": {
        "colab": {
          "base_uri": "https://localhost:8080/"
        },
        "id": "0AMWauRSXbv1",
        "outputId": "1beb5574-6718-4877-c308-a0fc5742ea7a"
      },
      "execution_count": 205,
      "outputs": [
        {
          "output_type": "stream",
          "name": "stdout",
          "text": [
            "[[ 2 59 97 31]\n",
            " [89  8 49 33]\n",
            " [96 45 43  7]\n",
            " [93 98 22 11]\n",
            " [86 66  3 64]\n",
            " [48 10 92 34]]\n",
            "0\n",
            "[0 1 4 2]\n",
            "[0 1 3 3 2 1]\n"
          ]
        }
      ]
    },
    {
      "cell_type": "markdown",
      "source": [
        "$\\bullet$ $\\textit{argsort()}$ - returns the indices that would sort an array. Instead of sorting the array itself, it returns an array of indices that can be used to rearrange the original array into sorted order.\n",
        "\n",
        "This is particularly useful when you need to sort an array but also want to keep track of the original positions of the elements."
      ],
      "metadata": {
        "id": "fOguB7TOnDpY"
      }
    },
    {
      "cell_type": "code",
      "source": [
        "a = np.random.randint(0, 20, 10)\n",
        "print(a)\n",
        "\n",
        "print(np.argsort(a))\n",
        "\n",
        "print(f\"The sorted array is : {a[np.argsort(a)]}\")"
      ],
      "metadata": {
        "colab": {
          "base_uri": "https://localhost:8080/"
        },
        "id": "sTDBbmrrnJPA",
        "outputId": "9dc10c17-c6fa-4b0a-fbf7-8aae057e79f5"
      },
      "execution_count": 273,
      "outputs": [
        {
          "output_type": "stream",
          "name": "stdout",
          "text": [
            "[ 4  7  5 19  0 11 16 10  0  4]\n",
            "[4 8 0 9 2 1 7 5 6 3]\n",
            "The sorted array is : [ 0  0  4  4  5  7 10 11 16 19]\n"
          ]
        }
      ]
    },
    {
      "cell_type": "markdown",
      "source": [
        "$\\bullet$ $\\textit{cumsum()}$ - returns cumulative sum of an array over a particular axis."
      ],
      "metadata": {
        "id": "j-H3kQGCbzY0"
      }
    },
    {
      "cell_type": "code",
      "source": [
        "a = np.random.randint(0, 10, 5)\n",
        "print(a)\n",
        "\n",
        "print(np.cumsum(a))"
      ],
      "metadata": {
        "colab": {
          "base_uri": "https://localhost:8080/"
        },
        "id": "lzSE4jeNb7kX",
        "outputId": "2e264694-7939-4fca-a7a0-47a87a92e635"
      },
      "execution_count": 207,
      "outputs": [
        {
          "output_type": "stream",
          "name": "stdout",
          "text": [
            "[5 4 1 5 3]\n",
            "[ 5  9 10 15 18]\n"
          ]
        }
      ]
    },
    {
      "cell_type": "code",
      "source": [
        "a = np.random.randint(0, 12, 6).reshape(2, 3)\n",
        "print(a)\n",
        "\n",
        "print(np.cumsum(a)) # gives cumulative sum of flattened 1D array\n",
        "\n",
        "print(np.cumsum(a, axis = 0))\n",
        "\n",
        "print(np.cumsum(a, axis = 1))"
      ],
      "metadata": {
        "colab": {
          "base_uri": "https://localhost:8080/"
        },
        "id": "k0r93XqYcDJl",
        "outputId": "3d3e571f-26d6-453a-f156-8f33e5be6257"
      },
      "execution_count": 209,
      "outputs": [
        {
          "output_type": "stream",
          "name": "stdout",
          "text": [
            "[[ 6  3  2]\n",
            " [ 5  2 10]]\n",
            "[ 6  9 11 16 18 28]\n",
            "[[ 6  3  2]\n",
            " [11  5 12]]\n",
            "[[ 6  9 11]\n",
            " [ 5  7 17]]\n"
          ]
        }
      ]
    },
    {
      "cell_type": "markdown",
      "source": [
        "$\\bullet$ $\\textit{cumprod()}$ - returns cumulative product of an array over a particular axis."
      ],
      "metadata": {
        "id": "Dknh0gwsdAys"
      }
    },
    {
      "cell_type": "code",
      "source": [
        "a = np.random.randint(0, 10, 5)\n",
        "print(a)\n",
        "\n",
        "print(np.cumprod(a))"
      ],
      "metadata": {
        "colab": {
          "base_uri": "https://localhost:8080/"
        },
        "id": "zzN_eF-OdFK0",
        "outputId": "aa880d09-217c-4898-ee02-3100be1fb4d4"
      },
      "execution_count": 210,
      "outputs": [
        {
          "output_type": "stream",
          "name": "stdout",
          "text": [
            "[7 1 1 2 7]\n",
            "[ 7  7  7 14 98]\n"
          ]
        }
      ]
    },
    {
      "cell_type": "code",
      "source": [
        "a = np.random.randint(0, 12, 6).reshape(2, 3)\n",
        "print(a)\n",
        "\n",
        "print(np.cumprod(a)) # gives cumulative sum of flattened 1D array\n",
        "\n",
        "print(np.cumprod(a, axis = 0))\n",
        "\n",
        "print(np.cumprod(a, axis = 1))"
      ],
      "metadata": {
        "colab": {
          "base_uri": "https://localhost:8080/"
        },
        "id": "4IxEeZYGdHhr",
        "outputId": "5c129e06-8a21-4c92-de83-dc91be126152"
      },
      "execution_count": 212,
      "outputs": [
        {
          "output_type": "stream",
          "name": "stdout",
          "text": [
            "[[1 2 3]\n",
            " [5 1 8]]\n",
            "[  1   2   6  30  30 240]\n",
            "[[ 1  2  3]\n",
            " [ 5  2 24]]\n",
            "[[ 1  2  6]\n",
            " [ 5  5 40]]\n"
          ]
        }
      ]
    },
    {
      "cell_type": "markdown",
      "source": [
        "$\\bullet$ $\\textit{percentile()}$ - returns nth percentile of an array over a particular axis."
      ],
      "metadata": {
        "id": "-SXp5_l9du8g"
      }
    },
    {
      "cell_type": "code",
      "source": [
        "a = np.random.randint(0, 50, 20)\n",
        "print(a)\n",
        "\n",
        "print(np.percentile(a, 0))\n",
        "print(np.percentile(a, 10))\n",
        "print(np.percentile(a, 50))\n",
        "print(np.percentile(a, 100))"
      ],
      "metadata": {
        "colab": {
          "base_uri": "https://localhost:8080/"
        },
        "id": "mYUNP_AEd0HZ",
        "outputId": "f8adbd10-563d-42f2-f78c-6cb5e22b73ed"
      },
      "execution_count": 216,
      "outputs": [
        {
          "output_type": "stream",
          "name": "stdout",
          "text": [
            "[49 16 24  6 13  5  1 23  2  7 32 21 14 47  9 43  8 16 11 39]\n",
            "1.0\n",
            "4.7\n",
            "15.0\n",
            "49.0\n"
          ]
        }
      ]
    },
    {
      "cell_type": "markdown",
      "source": [
        "$\\bullet$ $\\textit{histogram()}$ - returns frequency"
      ],
      "metadata": {
        "id": "x61pxNpYrOJ4"
      }
    },
    {
      "cell_type": "code",
      "source": [
        "a = np.random.randint(0, 100, 20)\n",
        "\n",
        "print(np.histogram(a))\n",
        "\n",
        "# bins can also be specified\n",
        "print(np.histogram(a, bins = [0, 20, 40, 60, 80, 100]))"
      ],
      "metadata": {
        "colab": {
          "base_uri": "https://localhost:8080/"
        },
        "id": "tgvqKZ_7rX7p",
        "outputId": "152a28cf-b1f2-4df5-e077-7823dc104d5e"
      },
      "execution_count": 219,
      "outputs": [
        {
          "output_type": "stream",
          "name": "stdout",
          "text": [
            "(array([2, 2, 1, 0, 3, 6, 2, 1, 0, 3]), array([ 7. , 16.1, 25.2, 34.3, 43.4, 52.5, 61.6, 70.7, 79.8, 88.9, 98. ]))\n",
            "(array([2, 3, 9, 3, 3]), array([  0,  20,  40,  60,  80, 100]))\n"
          ]
        }
      ]
    },
    {
      "cell_type": "markdown",
      "source": [
        "$\\bullet$ $\\textit{corrcoef()}$ - calculates Pearson product-moment correlation coefficient"
      ],
      "metadata": {
        "id": "1r3Ao2fA2181"
      }
    },
    {
      "cell_type": "code",
      "source": [
        "a = np.random.random(10)\n",
        "b = np.random.random(10)\n",
        "\n",
        "print(np.corrcoef(a, b))"
      ],
      "metadata": {
        "colab": {
          "base_uri": "https://localhost:8080/"
        },
        "id": "enbngLe42_Zm",
        "outputId": "63b5b4aa-a08e-4290-c36c-0665f89dae76"
      },
      "execution_count": 223,
      "outputs": [
        {
          "output_type": "stream",
          "name": "stdout",
          "text": [
            "[[1.         0.09770776]\n",
            " [0.09770776 1.        ]]\n"
          ]
        }
      ]
    },
    {
      "cell_type": "markdown",
      "source": [
        "$\\bullet$ $\\textit{isin()}$ - tells if some values are in the array or not."
      ],
      "metadata": {
        "id": "82H8X9VC5HdO"
      }
    },
    {
      "cell_type": "code",
      "source": [
        "a = np.random.randint(0, 50, 15)\n",
        "print(a)\n",
        "\n",
        "items = [5, 10, 15, 20]\n",
        "# items = np.array([5, 10, 15, 20])\n",
        "\n",
        "print(np.isin(a, items))"
      ],
      "metadata": {
        "colab": {
          "base_uri": "https://localhost:8080/"
        },
        "id": "k76ArvzD5PhJ",
        "outputId": "fd39fd6b-befc-4769-a7d3-bd0136ffa2d1"
      },
      "execution_count": 228,
      "outputs": [
        {
          "output_type": "stream",
          "name": "stdout",
          "text": [
            "[ 5 21 43 15 33 35 17 11 39 47 46 22 11 15 40]\n",
            "[ True False False  True False False False False False False False False\n",
            " False  True False]\n"
          ]
        }
      ]
    },
    {
      "cell_type": "markdown",
      "source": [
        "$\\bullet$ $\\textit{flip()}$ - flips elements of a specified axis of an array without changing the dimension of the array."
      ],
      "metadata": {
        "id": "Hromdbyn51g-"
      }
    },
    {
      "cell_type": "code",
      "source": [
        "print(a)\n",
        "print(np.flip(a))"
      ],
      "metadata": {
        "colab": {
          "base_uri": "https://localhost:8080/"
        },
        "id": "RzaE62xs6CQX",
        "outputId": "7722e931-aeab-490c-93be-fb660ebc6e3a"
      },
      "execution_count": 229,
      "outputs": [
        {
          "output_type": "stream",
          "name": "stdout",
          "text": [
            "[ 5 21 43 15 33 35 17 11 39 47 46 22 11 15 40]\n",
            "[40 15 11 22 46 47 39 11 17 35 33 15 43 21  5]\n"
          ]
        }
      ]
    },
    {
      "cell_type": "code",
      "source": [
        "a = np.arange(24).reshape(6, 4)\n",
        "print(a)\n",
        "\n",
        "print(np.flip(a)) # flips the entire array\n",
        "\n",
        "print(np.flip(a, axis = 0))\n",
        "\n",
        "print(np.flip(a, axis = 1))"
      ],
      "metadata": {
        "colab": {
          "base_uri": "https://localhost:8080/"
        },
        "id": "OxqlRtnx6soG",
        "outputId": "beeabe23-2002-44e5-a6c2-485d75b8d371"
      },
      "execution_count": 232,
      "outputs": [
        {
          "output_type": "stream",
          "name": "stdout",
          "text": [
            "[[ 3  2  1  0]\n",
            " [ 7  6  5  4]\n",
            " [11 10  9  8]\n",
            " [15 14 13 12]\n",
            " [19 18 17 16]\n",
            " [23 22 21 20]]\n"
          ]
        }
      ]
    },
    {
      "cell_type": "markdown",
      "source": [
        "$\\bullet$ $\\textit{put()}$ - edits an array; it make changes in the main array."
      ],
      "metadata": {
        "id": "TcxuAFtW7Vdh"
      }
    },
    {
      "cell_type": "code",
      "source": [
        "a = np.arange(10)\n",
        "print(a)\n",
        "\n",
        "np.put(a, [1, 2], [7, 14])\n",
        "print(a)"
      ],
      "metadata": {
        "colab": {
          "base_uri": "https://localhost:8080/"
        },
        "id": "E-dQztYV73mQ",
        "outputId": "0f04a381-582c-4c49-f87d-9c89fdf1e14b"
      },
      "execution_count": 235,
      "outputs": [
        {
          "output_type": "stream",
          "name": "stdout",
          "text": [
            "[0 1 2 3 4 5 6 7 8 9]\n",
            "[ 0  7 14  3  4  5  6  7  8  9]\n"
          ]
        }
      ]
    },
    {
      "cell_type": "markdown",
      "source": [
        "$\\bullet$ A short trick to remember here is that, whenever the output is shown, the operation is not done on the main array, it is done on a copy of the main array. If the output is not shown, the operation is done on the main array."
      ],
      "metadata": {
        "id": "qpULm6B7NSd2"
      }
    },
    {
      "cell_type": "markdown",
      "source": [
        "$\\bullet$ $\\textit{delete()}$ - deletes elemens from an array."
      ],
      "metadata": {
        "id": "k7wD319XK8rS"
      }
    },
    {
      "cell_type": "code",
      "source": [
        "a = np.arange(10, 20, 2)\n",
        "print(a)\n",
        "\n",
        "print(np.delete(a, [0, 2])) # returns an array without elements of indices 0 and 2"
      ],
      "metadata": {
        "colab": {
          "base_uri": "https://localhost:8080/"
        },
        "id": "ysYqPaHlLBlK",
        "outputId": "842231e0-2e43-4836-c846-732c9b93e5bc"
      },
      "execution_count": 238,
      "outputs": [
        {
          "output_type": "stream",
          "name": "stdout",
          "text": [
            "[10 12 14 16 18]\n",
            "[12 16 18]\n"
          ]
        }
      ]
    },
    {
      "cell_type": "code",
      "source": [
        "a = np.arange(12).reshape(3, 4)\n",
        "print(a)\n",
        "\n",
        "print(np.delete(a, 1, axis = 0))\n",
        "\n",
        "print(np.delete(a, 2, axis = 1))\n",
        "\n",
        "print(np.delete(a, 5)) # if axis = None, the array is flattened and then elements are deleted"
      ],
      "metadata": {
        "colab": {
          "base_uri": "https://localhost:8080/"
        },
        "id": "C6b_qp3BMUHD",
        "outputId": "21a2bcfd-6e7e-44c2-98db-ebf2f87c5453"
      },
      "execution_count": 243,
      "outputs": [
        {
          "output_type": "stream",
          "name": "stdout",
          "text": [
            "[[ 0  1  2  3]\n",
            " [ 4  5  6  7]\n",
            " [ 8  9 10 11]]\n",
            "[[ 0  1  2  3]\n",
            " [ 8  9 10 11]]\n",
            "[[ 0  1  3]\n",
            " [ 4  5  7]\n",
            " [ 8  9 11]]\n",
            "[ 0  1  2  3  4  6  7  8  9 10 11]\n"
          ]
        }
      ]
    },
    {
      "cell_type": "markdown",
      "source": [
        "$\\bullet$ $\\textit{clip()}$ - limits the minimum and maximum value of an array"
      ],
      "metadata": {
        "id": "OejHfvmYWzTt"
      }
    },
    {
      "cell_type": "code",
      "source": [
        "b = np.random.randint(0, 20, 5)\n",
        "print(b)\n",
        "\n",
        "print(np.clip(b, a_min = 2, a_max = 7))"
      ],
      "metadata": {
        "colab": {
          "base_uri": "https://localhost:8080/"
        },
        "id": "N8iRGvEVaN97",
        "outputId": "a2078f48-3e8c-4d35-e44a-1105edc61a20"
      },
      "execution_count": 261,
      "outputs": [
        {
          "output_type": "stream",
          "name": "stdout",
          "text": [
            "[10  2 16  2  9]\n",
            "[7 2 7 2 7]\n"
          ]
        }
      ]
    },
    {
      "cell_type": "markdown",
      "source": [
        "$\\bullet$ $\\textit{count_nonzero()}$ - counts the number of nonzero elements in an array"
      ],
      "metadata": {
        "id": "MSedw5tmoY7r"
      }
    },
    {
      "cell_type": "code",
      "source": [
        "a = np.random.randint(-5, 5, 20)\n",
        "print(a)\n",
        "\n",
        "print(np.count_nonzero(a))"
      ],
      "metadata": {
        "colab": {
          "base_uri": "https://localhost:8080/"
        },
        "id": "6LAvK9RUoidI",
        "outputId": "043447ec-f9d7-4fed-a8d4-9b8e5b252ec0"
      },
      "execution_count": 275,
      "outputs": [
        {
          "output_type": "stream",
          "name": "stdout",
          "text": [
            "[-3 -5  1  1 -3 -1 -3 -4  4 -1 -4 -4  2  3 -2  0 -4  4  3 -4]\n",
            "19\n"
          ]
        }
      ]
    },
    {
      "cell_type": "markdown",
      "source": [
        "### Set functions"
      ],
      "metadata": {
        "id": "VvfPsrybOJtJ"
      }
    },
    {
      "cell_type": "code",
      "source": [
        "m = np.arange(10)\n",
        "n = np.arange(5, 15)\n",
        "\n",
        "print(m)\n",
        "print(n)"
      ],
      "metadata": {
        "colab": {
          "base_uri": "https://localhost:8080/"
        },
        "id": "Kg27LvBmOLar",
        "outputId": "af0e4a1a-d232-4de2-a527-30eec45acf84"
      },
      "execution_count": 244,
      "outputs": [
        {
          "output_type": "stream",
          "name": "stdout",
          "text": [
            "[0 1 2 3 4 5 6 7 8 9]\n",
            "[ 5  6  7  8  9 10 11 12 13 14]\n"
          ]
        }
      ]
    },
    {
      "cell_type": "code",
      "source": [
        "# union1d()\n",
        "print(np.union1d(m, n))"
      ],
      "metadata": {
        "colab": {
          "base_uri": "https://localhost:8080/"
        },
        "id": "QTg4l5qmOedd",
        "outputId": "4baf75c8-23d9-4283-e203-cdc9807c8e47"
      },
      "execution_count": 245,
      "outputs": [
        {
          "output_type": "stream",
          "name": "stdout",
          "text": [
            "[ 0  1  2  3  4  5  6  7  8  9 10 11 12 13 14]\n"
          ]
        }
      ]
    },
    {
      "cell_type": "code",
      "source": [
        "# intersect1d()\n",
        "print(np.intersect1d(m, n))"
      ],
      "metadata": {
        "colab": {
          "base_uri": "https://localhost:8080/"
        },
        "id": "f5f4gPKTOnhB",
        "outputId": "56594066-4dae-46ae-d8c3-ef0a1980dac5"
      },
      "execution_count": 248,
      "outputs": [
        {
          "output_type": "stream",
          "name": "stdout",
          "text": [
            "[5 6 7 8 9]\n"
          ]
        }
      ]
    },
    {
      "cell_type": "code",
      "source": [
        "# setdiff1d()\n",
        "print(np.setdiff1d(m, n))\n",
        "\n",
        "print(np.setdiff1d(n, m))"
      ],
      "metadata": {
        "colab": {
          "base_uri": "https://localhost:8080/"
        },
        "id": "8CPFHrzyOxw8",
        "outputId": "6a47c929-e6ae-41d1-b3a7-d9ce2939be5d"
      },
      "execution_count": 250,
      "outputs": [
        {
          "output_type": "stream",
          "name": "stdout",
          "text": [
            "[0 1 2 3 4]\n",
            "[10 11 12 13 14]\n"
          ]
        }
      ]
    },
    {
      "cell_type": "code",
      "source": [
        "# setxor1d()\n",
        "print(np.setxor1d(m, n)) # removes the common elements from the union of m and n"
      ],
      "metadata": {
        "colab": {
          "base_uri": "https://localhost:8080/"
        },
        "id": "Rc5rG8N2O3Ws",
        "outputId": "0d01b7b7-6314-4935-d840-092b34b148e9"
      },
      "execution_count": 251,
      "outputs": [
        {
          "output_type": "stream",
          "name": "stdout",
          "text": [
            "[ 0  1  2  3  4 10 11 12 13 14]\n"
          ]
        }
      ]
    },
    {
      "cell_type": "code",
      "source": [
        "# in1d()\n",
        "print(np.in1d(m, 5))"
      ],
      "metadata": {
        "colab": {
          "base_uri": "https://localhost:8080/"
        },
        "id": "bJWpz0qNPHGn",
        "outputId": "e02f4e01-e6b5-4599-e6c7-c2022d005d60"
      },
      "execution_count": 252,
      "outputs": [
        {
          "output_type": "stream",
          "name": "stdout",
          "text": [
            "[False False False False False  True False False False False]\n"
          ]
        }
      ]
    }
  ],
  "metadata": {
    "colab": {
      "provenance": [],
      "authorship_tag": "ABX9TyP3fc4/qV4NUu5jQk675bM/",
      "include_colab_link": true
    },
    "kernelspec": {
      "display_name": "Python 3",
      "name": "python3"
    },
    "language_info": {
      "name": "python"
    }
  },
  "nbformat": 4,
  "nbformat_minor": 0
}