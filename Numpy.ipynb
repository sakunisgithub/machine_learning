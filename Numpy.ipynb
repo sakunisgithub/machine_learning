{
  "cells": [
    {
      "cell_type": "markdown",
      "metadata": {
        "id": "view-in-github",
        "colab_type": "text"
      },
      "source": [
        "<a href=\"https://colab.research.google.com/github/sakunisgithub/machine_learning/blob/master/Numpy.ipynb\" target=\"_parent\"><img src=\"https://colab.research.google.com/assets/colab-badge.svg\" alt=\"Open In Colab\"/></a>"
      ]
    },
    {
      "cell_type": "markdown",
      "metadata": {
        "id": "-Jk3KsqTfjns"
      },
      "source": [
        "$$\\textbf{NumPy - Numerical Python}$$"
      ]
    },
    {
      "cell_type": "markdown",
      "metadata": {
        "id": "vldjx6AaLWJt"
      },
      "source": [
        "### Creating NumPy arrays"
      ]
    },
    {
      "cell_type": "code",
      "execution_count": 12,
      "metadata": {
        "id": "gIpcTsnEfUn8"
      },
      "outputs": [],
      "source": [
        "import numpy as np"
      ]
    },
    {
      "cell_type": "code",
      "execution_count": 13,
      "metadata": {
        "colab": {
          "base_uri": "https://localhost:8080/"
        },
        "id": "L5iocsAqLakG",
        "outputId": "6ed05ab4-2241-4c11-e400-b978e42d9641"
      },
      "outputs": [
        {
          "output_type": "stream",
          "name": "stdout",
          "text": [
            "[1 2 3 4]\n"
          ]
        }
      ],
      "source": [
        "# 1D (a vector)\n",
        "a = np.array([1, 2, 3, 4])\n",
        "print(a)"
      ]
    },
    {
      "cell_type": "code",
      "execution_count": 14,
      "metadata": {
        "colab": {
          "base_uri": "https://localhost:8080/"
        },
        "id": "-0ZRyvo5LsNX",
        "outputId": "4571c473-6a32-4e78-9c05-2b044166bc41"
      },
      "outputs": [
        {
          "output_type": "stream",
          "name": "stdout",
          "text": [
            "<class 'numpy.ndarray'>\n"
          ]
        }
      ],
      "source": [
        "print(type(a))"
      ]
    },
    {
      "cell_type": "code",
      "execution_count": 15,
      "metadata": {
        "colab": {
          "base_uri": "https://localhost:8080/"
        },
        "id": "d3DO6vb_L4Sl",
        "outputId": "36366219-6134-4b8f-e856-16b4ae4a9999"
      },
      "outputs": [
        {
          "output_type": "stream",
          "name": "stdout",
          "text": [
            "[[1 2 3]\n",
            " [4 5 6]]\n"
          ]
        }
      ],
      "source": [
        "# 2D (a matrix)\n",
        "b = np.array([[1, 2, 3], [4, 5, 6]])\n",
        "print(b)"
      ]
    },
    {
      "cell_type": "code",
      "execution_count": 16,
      "metadata": {
        "colab": {
          "base_uri": "https://localhost:8080/"
        },
        "id": "trNfnVIjMMTi",
        "outputId": "f08ab776-8d7b-4823-c906-ac7867e90cd1"
      },
      "outputs": [
        {
          "output_type": "stream",
          "name": "stdout",
          "text": [
            "[[[ 5  6]\n",
            "  [15 16]]\n",
            "\n",
            " [[ 1  2]\n",
            "  [11 12]]]\n"
          ]
        }
      ],
      "source": [
        "# 3D (a tensor)\n",
        "c = np.array([[[5, 6], [15, 16]], [[1, 2], [11, 12]]])\n",
        "print(c)"
      ]
    },
    {
      "cell_type": "code",
      "execution_count": 17,
      "metadata": {
        "colab": {
          "base_uri": "https://localhost:8080/"
        },
        "id": "-QI2NmbzMwh8",
        "outputId": "d7774b3f-6daf-47c5-d16d-5c378cdb5867"
      },
      "outputs": [
        {
          "output_type": "stream",
          "name": "stdout",
          "text": [
            "[1. 2. 3.]\n",
            "[False  True  True  True]\n",
            "[ 5.+0.j  7.+0.j 10.+0.j]\n"
          ]
        }
      ],
      "source": [
        "## creating a numpy array of a particular data type\n",
        "\n",
        "# float\n",
        "a1 = np.array([1, 2, 3], dtype = float)\n",
        "print(a1)\n",
        "\n",
        "# boolean\n",
        "a2 = np.array([0, 1, 2, 3], dtype = bool)\n",
        "print(a2)\n",
        "\n",
        "# complex\n",
        "a3 = np.array([5, 7, 10], dtype = complex)\n",
        "print(a3)"
      ]
    },
    {
      "cell_type": "code",
      "execution_count": 18,
      "metadata": {
        "colab": {
          "base_uri": "https://localhost:8080/"
        },
        "id": "f5sRIhMDNvmW",
        "outputId": "1175545b-e7a0-46e9-a6a7-b6f92391d54e"
      },
      "outputs": [
        {
          "output_type": "stream",
          "name": "stdout",
          "text": [
            "[ 1  2  3  4  5  6  7  8  9 10]\n",
            "[ 1  4  7 10]\n",
            "[0 1 2 3 4]\n"
          ]
        }
      ],
      "source": [
        "# by using arange() function - arange() is similar to range()\n",
        "a4 = np.arange(1, 11)\n",
        "print(a4) # np.arange(a, b) yields integers from a to b-1\n",
        "\n",
        "a5 = np.arange(1, 11, 3)\n",
        "print(a5)\n",
        "\n",
        "arr = np.arange(5)\n",
        "print(arr)"
      ]
    },
    {
      "cell_type": "code",
      "execution_count": 19,
      "metadata": {
        "colab": {
          "base_uri": "https://localhost:8080/"
        },
        "id": "TxY6dY_IOjBd",
        "outputId": "b3f34a8b-f193-487b-b14e-c620d87f449a"
      },
      "outputs": [
        {
          "output_type": "stream",
          "name": "stdout",
          "text": [
            "[[ 1  2  3  4  5]\n",
            " [ 6  7  8  9 10]\n",
            " [11 12 13 14 15]\n",
            " [16 17 18 19 20]\n",
            " [21 22 23 24 25]\n",
            " [26 27 28 29 30]\n",
            " [31 32 33 34 35]\n",
            " [36 37 38 39 40]\n",
            " [41 42 43 44 45]\n",
            " [46 47 48 49 50]]\n",
            "[[[ 1  2  3]\n",
            "  [ 4  5  6]\n",
            "  [ 7  8  9]]\n",
            "\n",
            " [[10 11 12]\n",
            "  [13 14 15]\n",
            "  [16 17 18]]\n",
            "\n",
            " [[19 20 21]\n",
            "  [22 23 24]\n",
            "  [25 26 27]]]\n"
          ]
        }
      ],
      "source": [
        "# reshape() function\n",
        "a6 = np.arange(1, 51).reshape(10, 5)\n",
        "print(a6)\n",
        "\n",
        "a7 = np.arange(1, 28).reshape(3, 3, 3)\n",
        "print(a7)"
      ]
    },
    {
      "cell_type": "code",
      "execution_count": 20,
      "metadata": {
        "colab": {
          "base_uri": "https://localhost:8080/"
        },
        "id": "CKpj9dL9Prjw",
        "outputId": "9ba2a60e-5e3a-4ae3-cd73-6cd0993dd8c2"
      },
      "outputs": [
        {
          "output_type": "stream",
          "name": "stdout",
          "text": [
            "[[1. 1.]\n",
            " [1. 1.]\n",
            " [1. 1.]\n",
            " [1. 1.]\n",
            " [1. 1.]]\n"
          ]
        }
      ],
      "source": [
        "# ones()\n",
        "a8 = np.ones((5, 2)) # creates an array of shape (5, 2) with all the elements being 1\n",
        "print(a8)"
      ]
    },
    {
      "cell_type": "code",
      "execution_count": 21,
      "metadata": {
        "colab": {
          "base_uri": "https://localhost:8080/"
        },
        "id": "qDCUeTNZQQhq",
        "outputId": "5f57ade6-6cfe-4e0d-f8fb-da46b87d21f4"
      },
      "outputs": [
        {
          "output_type": "stream",
          "name": "stdout",
          "text": [
            "[[1 1 1 1]\n",
            " [1 1 1 1]\n",
            " [1 1 1 1]]\n"
          ]
        }
      ],
      "source": [
        "a9 = np.ones((3, 4), dtype = int)\n",
        "print(a9)"
      ]
    },
    {
      "cell_type": "code",
      "execution_count": 22,
      "metadata": {
        "colab": {
          "base_uri": "https://localhost:8080/"
        },
        "id": "2vVNyE8RQd-F",
        "outputId": "72ad293d-9126-433f-c86e-4bcb0f410470"
      },
      "outputs": [
        {
          "output_type": "stream",
          "name": "stdout",
          "text": [
            "[[0. 0. 0.]\n",
            " [0. 0. 0.]]\n"
          ]
        }
      ],
      "source": [
        "# zeros()\n",
        "a10 = np.zeros((2, 3)) # creates an array of shape (2, 3) with all the elements being 0\n",
        "print(a10)"
      ]
    },
    {
      "cell_type": "code",
      "execution_count": 23,
      "metadata": {
        "colab": {
          "base_uri": "https://localhost:8080/"
        },
        "id": "UggmdTx0RLyP",
        "outputId": "d9bb1fe0-b86e-4a29-b425-90575a855d3c"
      },
      "outputs": [
        {
          "output_type": "stream",
          "name": "stdout",
          "text": [
            "[[0.89630535 0.71846678 0.96850137]\n",
            " [0.91929458 0.97222693 0.05019539]]\n"
          ]
        }
      ],
      "source": [
        "# random()\n",
        "a11 = np.random.random((2, 3)) # creates an array of shape(2, 3) with all the elements being random numbers in between 0 and 1\n",
        "print(a11)"
      ]
    },
    {
      "cell_type": "markdown",
      "metadata": {
        "id": "v9Lsgf38Q9c8"
      },
      "source": [
        "np.ones(), np.zeros(), np.random.random() are mainly useful in array initialization."
      ]
    },
    {
      "cell_type": "code",
      "execution_count": 24,
      "metadata": {
        "colab": {
          "base_uri": "https://localhost:8080/"
        },
        "id": "-10tL35-REFN",
        "outputId": "37ffe9de-d0c1-42d5-8ae6-04433708f81b"
      },
      "outputs": [
        {
          "output_type": "stream",
          "name": "stdout",
          "text": [
            "[-20.         -17.14285714 -14.28571429 -11.42857143  -8.57142857\n",
            "  -5.71428571  -2.85714286   0.           2.85714286   5.71428571\n",
            "   8.57142857  11.42857143  14.28571429  17.14285714  20.        ]\n"
          ]
        }
      ],
      "source": [
        "# linspace() linearly spaced\n",
        "a12 = np.linspace(-20, 20, 15) # generates 15 equispaced numbers from -20 to 20\n",
        "print(a12)"
      ]
    },
    {
      "cell_type": "code",
      "execution_count": 25,
      "metadata": {
        "colab": {
          "base_uri": "https://localhost:8080/"
        },
        "id": "Xzt1Z73LSXTc",
        "outputId": "bb2ea803-adfa-45b0-da81-1b333b837882"
      },
      "outputs": [
        {
          "output_type": "stream",
          "name": "stdout",
          "text": [
            "[[1. 0. 0. 0.]\n",
            " [0. 1. 0. 0.]\n",
            " [0. 0. 1. 0.]\n",
            " [0. 0. 0. 1.]]\n"
          ]
        }
      ],
      "source": [
        "# identity()\n",
        "a13 = np.identity(4) # creates an identity matrix of order 4\n",
        "print(a13)"
      ]
    },
    {
      "cell_type": "markdown",
      "metadata": {
        "id": "5WZNiWSbiuu6"
      },
      "source": [
        "### Array Attributes"
      ]
    },
    {
      "cell_type": "code",
      "execution_count": 26,
      "metadata": {
        "colab": {
          "base_uri": "https://localhost:8080/"
        },
        "id": "KsStEmBfiz-M",
        "outputId": "6b36cfdd-ed17-4506-eb05-ec20ecde39cb"
      },
      "outputs": [
        {
          "output_type": "stream",
          "name": "stdout",
          "text": [
            "[ 0  1  2  3  4  5  6  7  8  9 10]\n"
          ]
        }
      ],
      "source": [
        "arr1 = np.arange(0, 11)\n",
        "print(arr1)"
      ]
    },
    {
      "cell_type": "code",
      "execution_count": 27,
      "metadata": {
        "colab": {
          "base_uri": "https://localhost:8080/"
        },
        "id": "CkxnN_xflCgW",
        "outputId": "a91d50f6-b1c5-4626-8eee-95c76313b0f3"
      },
      "outputs": [
        {
          "output_type": "stream",
          "name": "stdout",
          "text": [
            "[[ 1.  2.  3.  4.]\n",
            " [ 5.  6.  7.  8.]\n",
            " [ 9. 10. 11. 12.]]\n"
          ]
        }
      ],
      "source": [
        "arr2 = np.arange(1, 13, dtype = float).reshape(3, 4)\n",
        "print(arr2)"
      ]
    },
    {
      "cell_type": "code",
      "execution_count": 28,
      "metadata": {
        "colab": {
          "base_uri": "https://localhost:8080/"
        },
        "id": "Tvpe_pjIlFj2",
        "outputId": "e61b9261-3f06-41a8-acc1-259a61d397f6"
      },
      "outputs": [
        {
          "output_type": "stream",
          "name": "stdout",
          "text": [
            "[[[0 1]\n",
            "  [2 3]]\n",
            "\n",
            " [[4 5]\n",
            "  [6 7]]]\n"
          ]
        }
      ],
      "source": [
        "arr3 = np.arange(8, dtype = np.int32).reshape(2, 2, 2)\n",
        "print(arr3)"
      ]
    },
    {
      "cell_type": "code",
      "execution_count": 29,
      "metadata": {
        "colab": {
          "base_uri": "https://localhost:8080/"
        },
        "id": "5dJJ2pfUixL5",
        "outputId": "6c1dda7c-2bb6-4792-ce85-3793a2ea2c56"
      },
      "outputs": [
        {
          "output_type": "stream",
          "name": "stdout",
          "text": [
            "1\n",
            "2\n",
            "3\n"
          ]
        }
      ],
      "source": [
        "# ndim - gives number of dimension(s) of an array\n",
        "print(arr1.ndim)\n",
        "print(arr2.ndim)\n",
        "print(arr3.ndim)"
      ]
    },
    {
      "cell_type": "code",
      "execution_count": 30,
      "metadata": {
        "colab": {
          "base_uri": "https://localhost:8080/"
        },
        "id": "r_D_LEAHjUU5",
        "outputId": "e13005bd-4bd8-4ecb-ff77-059527414ac1"
      },
      "outputs": [
        {
          "output_type": "stream",
          "name": "stdout",
          "text": [
            "(11,)\n",
            "(3, 4)\n",
            "(2, 2, 2)\n"
          ]
        }
      ],
      "source": [
        "# shape - gives dimension of an array\n",
        "print(arr1.shape)\n",
        "print(arr2.shape)\n",
        "print(arr3.shape)"
      ]
    },
    {
      "cell_type": "code",
      "execution_count": 31,
      "metadata": {
        "colab": {
          "base_uri": "https://localhost:8080/"
        },
        "id": "TZUFgzE4j6f2",
        "outputId": "7fecda8e-54b9-4827-c82a-5a3ddc62dd6e"
      },
      "outputs": [
        {
          "output_type": "stream",
          "name": "stdout",
          "text": [
            "12\n",
            "8\n"
          ]
        }
      ],
      "source": [
        "# size - gives number of elements in an object\n",
        "print(arr2.size)\n",
        "print(arr3.size)"
      ]
    },
    {
      "cell_type": "code",
      "execution_count": 32,
      "metadata": {
        "colab": {
          "base_uri": "https://localhost:8080/"
        },
        "id": "8KWacHEqkG_7",
        "outputId": "ced3953a-2c01-4108-973c-d4cf3179a11e"
      },
      "outputs": [
        {
          "output_type": "stream",
          "name": "stdout",
          "text": [
            "8\n",
            "8\n",
            "4\n"
          ]
        }
      ],
      "source": [
        "# itemsize - refers to the number of bytes used to store a single element of an array\n",
        "print(arr1.itemsize)\n",
        "print(arr2.itemsize)\n",
        "print(arr3.itemsize)\n",
        "# recall that 8 bits = 1 byte\n",
        "# by default colab uses 64-bit integers and they take 8 bytes of space\n",
        "# also floates in colab take 8 bytes of space\n",
        "# 32-bit integers take 4 bytes of space"
      ]
    },
    {
      "cell_type": "code",
      "execution_count": 33,
      "metadata": {
        "colab": {
          "base_uri": "https://localhost:8080/"
        },
        "id": "3LrcOKGwlTWe",
        "outputId": "7237a8cb-c5e6-445a-97dc-e40dc621d9c2"
      },
      "outputs": [
        {
          "output_type": "stream",
          "name": "stdout",
          "text": [
            "int64\n",
            "float64\n",
            "int32\n"
          ]
        }
      ],
      "source": [
        "print(arr1.dtype)\n",
        "print(arr2.dtype)\n",
        "print(arr3.dtype)"
      ]
    },
    {
      "cell_type": "markdown",
      "metadata": {
        "id": "uRNnDI8cmz3n"
      },
      "source": [
        "### Changing datatype"
      ]
    },
    {
      "cell_type": "code",
      "execution_count": 34,
      "metadata": {
        "colab": {
          "base_uri": "https://localhost:8080/"
        },
        "id": "URpmKDbtm2oN",
        "outputId": "39f02fc8-e572-4bc4-c560-1bb27a4a5db4"
      },
      "outputs": [
        {
          "output_type": "stream",
          "name": "stdout",
          "text": [
            "int64\n"
          ]
        }
      ],
      "source": [
        "print(arr1.dtype)"
      ]
    },
    {
      "cell_type": "code",
      "execution_count": 35,
      "metadata": {
        "id": "5Ttly03knCdd"
      },
      "outputs": [],
      "source": [
        "arr1 = arr1.astype(np.int32)"
      ]
    },
    {
      "cell_type": "code",
      "execution_count": 36,
      "metadata": {
        "colab": {
          "base_uri": "https://localhost:8080/"
        },
        "id": "E0QDyCDGnRkw",
        "outputId": "ba86bc3c-f55d-4f5d-c328-ba07537ab301"
      },
      "outputs": [
        {
          "output_type": "stream",
          "name": "stdout",
          "text": [
            "[ 0  1  2  3  4  5  6  7  8  9 10]\n"
          ]
        }
      ],
      "source": [
        "print(arr1)"
      ]
    },
    {
      "cell_type": "code",
      "execution_count": 37,
      "metadata": {
        "colab": {
          "base_uri": "https://localhost:8080/"
        },
        "id": "p1LsoTXGnLp-",
        "outputId": "f9cad413-983a-421d-d57b-39d4318d756e"
      },
      "outputs": [
        {
          "output_type": "stream",
          "name": "stdout",
          "text": [
            "int32\n"
          ]
        }
      ],
      "source": [
        "print(arr1.dtype)"
      ]
    },
    {
      "cell_type": "markdown",
      "metadata": {
        "id": "7Fd6nZB6n3o8"
      },
      "source": [
        "### Array Operations"
      ]
    },
    {
      "cell_type": "code",
      "execution_count": 38,
      "metadata": {
        "colab": {
          "base_uri": "https://localhost:8080/"
        },
        "id": "dWYssBZ5n65Z",
        "outputId": "c14c42bd-ef50-46b2-d5d3-18f38e955cd9"
      },
      "outputs": [
        {
          "output_type": "stream",
          "name": "stdout",
          "text": [
            "[[ 1  2  3  4]\n",
            " [ 5  6  7  8]\n",
            " [ 9 10 11 12]]\n"
          ]
        }
      ],
      "source": [
        "b1 = np.arange(1, 13).reshape(3, 4)\n",
        "print(b1)"
      ]
    },
    {
      "cell_type": "code",
      "execution_count": 39,
      "metadata": {
        "colab": {
          "base_uri": "https://localhost:8080/"
        },
        "id": "lRC0mioUoaf-",
        "outputId": "eac589d4-790c-4386-99eb-90dcbdcec9d8"
      },
      "outputs": [
        {
          "output_type": "stream",
          "name": "stdout",
          "text": [
            "[[13 14 15 16]\n",
            " [17 18 19 20]\n",
            " [21 22 23 24]]\n"
          ]
        }
      ],
      "source": [
        "b2 = np.arange(13, 25).reshape(3, 4)\n",
        "print(b2)"
      ]
    },
    {
      "cell_type": "code",
      "execution_count": 40,
      "metadata": {
        "colab": {
          "base_uri": "https://localhost:8080/"
        },
        "id": "yN6lc1gwoiPV",
        "outputId": "40c0c85f-71b0-4b8d-a132-d48b7a217f04"
      },
      "outputs": [
        {
          "output_type": "stream",
          "name": "stdout",
          "text": [
            "[[ 3  4  5  6]\n",
            " [ 7  8  9 10]\n",
            " [11 12 13 14]]\n"
          ]
        }
      ],
      "source": [
        "# scalar operation - operating in an array with a scalar\n",
        "print(b1 + 2)"
      ]
    },
    {
      "cell_type": "code",
      "execution_count": 41,
      "metadata": {
        "colab": {
          "base_uri": "https://localhost:8080/"
        },
        "id": "fnI1WkuxowoN",
        "outputId": "68e10fcc-9ddb-48ff-ae11-38e43f031bc6"
      },
      "outputs": [
        {
          "output_type": "stream",
          "name": "stdout",
          "text": [
            "[[ 2  4  6  8]\n",
            " [10 12 14 16]\n",
            " [18 20 22 24]]\n"
          ]
        }
      ],
      "source": [
        "print(b1 * 2)"
      ]
    },
    {
      "cell_type": "code",
      "execution_count": 42,
      "metadata": {
        "colab": {
          "base_uri": "https://localhost:8080/"
        },
        "id": "TO3tSjGJpqj2",
        "outputId": "6d078aea-6dbc-4ed3-c25c-da67b0a332e2"
      },
      "outputs": [
        {
          "output_type": "stream",
          "name": "stdout",
          "text": [
            "[[0.5 1.  1.5 2. ]\n",
            " [2.5 3.  3.5 4. ]\n",
            " [4.5 5.  5.5 6. ]]\n"
          ]
        }
      ],
      "source": [
        "print(b1 / 2) # in division output datatype is always float"
      ]
    },
    {
      "cell_type": "code",
      "execution_count": 43,
      "metadata": {
        "colab": {
          "base_uri": "https://localhost:8080/"
        },
        "id": "o0AQ7GLUo0Yt",
        "outputId": "e44a4d9f-dde6-46b5-b613-5d483f0f2dd1"
      },
      "outputs": [
        {
          "output_type": "stream",
          "name": "stdout",
          "text": [
            "[[  1   4   9  16]\n",
            " [ 25  36  49  64]\n",
            " [ 81 100 121 144]]\n"
          ]
        }
      ],
      "source": [
        "print(b1 ** 2)"
      ]
    },
    {
      "cell_type": "code",
      "execution_count": 44,
      "metadata": {
        "colab": {
          "base_uri": "https://localhost:8080/"
        },
        "id": "R7cDhQKto2p0",
        "outputId": "9bcf8328-3d08-4e17-da81-8e15797e1583"
      },
      "outputs": [
        {
          "output_type": "stream",
          "name": "stdout",
          "text": [
            "[[False False False False]\n",
            " [False  True  True  True]\n",
            " [ True  True  True  True]]\n"
          ]
        }
      ],
      "source": [
        "# relational operation\n",
        "print(b1 > 5)"
      ]
    },
    {
      "cell_type": "code",
      "execution_count": 45,
      "metadata": {
        "colab": {
          "base_uri": "https://localhost:8080/"
        },
        "id": "HMj5xtCQpD69",
        "outputId": "4e8e3c45-fe53-4f30-b221-274c4a4c27eb"
      },
      "outputs": [
        {
          "output_type": "stream",
          "name": "stdout",
          "text": [
            "[[False False False False]\n",
            " [False False  True False]\n",
            " [False False False False]]\n"
          ]
        }
      ],
      "source": [
        "print(b1 == 7)"
      ]
    },
    {
      "cell_type": "code",
      "execution_count": 46,
      "metadata": {
        "colab": {
          "base_uri": "https://localhost:8080/"
        },
        "id": "aHxVt1_spHTt",
        "outputId": "c15415ff-7bf7-4c12-9461-e60e2d1c02fe"
      },
      "outputs": [
        {
          "output_type": "stream",
          "name": "stdout",
          "text": [
            "[[ True  True False  True]\n",
            " [ True  True  True  True]\n",
            " [ True  True  True  True]]\n"
          ]
        }
      ],
      "source": [
        "print(b1 != 3)"
      ]
    },
    {
      "cell_type": "code",
      "execution_count": 47,
      "metadata": {
        "colab": {
          "base_uri": "https://localhost:8080/"
        },
        "id": "h2F7XDk7pMud",
        "outputId": "01687bbd-4b48-406d-977d-7e19676bfc6c"
      },
      "outputs": [
        {
          "output_type": "stream",
          "name": "stdout",
          "text": [
            "[[14 16 18 20]\n",
            " [22 24 26 28]\n",
            " [30 32 34 36]]\n"
          ]
        }
      ],
      "source": [
        "# vector operations\n",
        "print(b1 + b2) # itemwise addition"
      ]
    },
    {
      "cell_type": "code",
      "execution_count": 48,
      "metadata": {
        "colab": {
          "base_uri": "https://localhost:8080/"
        },
        "id": "xV6a0ryppWEm",
        "outputId": "21802773-09c1-49be-9e88-87c6d1491ec1"
      },
      "outputs": [
        {
          "output_type": "stream",
          "name": "stdout",
          "text": [
            "[[ 13  28  45  64]\n",
            " [ 85 108 133 160]\n",
            " [189 220 253 288]]\n"
          ]
        }
      ],
      "source": [
        "print(b1 * b2) # itemwise multiplication"
      ]
    },
    {
      "cell_type": "markdown",
      "metadata": {
        "id": "PtILWGZbqU0r"
      },
      "source": [
        "### Common Array Functions"
      ]
    },
    {
      "cell_type": "code",
      "execution_count": 49,
      "metadata": {
        "colab": {
          "base_uri": "https://localhost:8080/"
        },
        "id": "oszpvCvXpee9",
        "outputId": "730a4933-2ecd-4b72-e296-c5dae68bae50"
      },
      "outputs": [
        {
          "output_type": "stream",
          "name": "stdout",
          "text": [
            "[[33.32601397 60.49139693 61.37360049]\n",
            " [53.59212965 58.47741608 33.09910732]\n",
            " [ 1.30319695 27.1249524  29.46891774]]\n"
          ]
        }
      ],
      "source": [
        "c1 = np.random.random((3, 3))\n",
        "c1 = c1 * 100\n",
        "print(c1)"
      ]
    },
    {
      "cell_type": "code",
      "execution_count": 50,
      "metadata": {
        "colab": {
          "base_uri": "https://localhost:8080/"
        },
        "id": "WbHLjW3SGv__",
        "outputId": "094d9f87-c92f-4f7c-ea31-a7d3824072f9"
      },
      "outputs": [
        {
          "output_type": "stream",
          "name": "stdout",
          "text": [
            "[[33.33 60.49 61.37]\n",
            " [53.59 58.48 33.1 ]\n",
            " [ 1.3  27.12 29.47]]\n"
          ]
        }
      ],
      "source": [
        "# round()\n",
        "c1_rounded = np.round(c1, 2)\n",
        "print(c1_rounded)"
      ]
    },
    {
      "cell_type": "code",
      "execution_count": 51,
      "metadata": {
        "colab": {
          "base_uri": "https://localhost:8080/"
        },
        "id": "DF70c5j3OlLx",
        "outputId": "73465848-dcca-4937-a9b5-c65deaf982cf"
      },
      "outputs": [
        {
          "output_type": "stream",
          "name": "stdout",
          "text": [
            "[[33. 60. 61.]\n",
            " [53. 58. 33.]\n",
            " [ 1. 27. 29.]]\n"
          ]
        }
      ],
      "source": [
        "# floor()\n",
        "print(np.floor(c1))"
      ]
    },
    {
      "cell_type": "code",
      "execution_count": 52,
      "metadata": {
        "colab": {
          "base_uri": "https://localhost:8080/"
        },
        "id": "sv7dbJkIOrFR",
        "outputId": "ca510886-f940-4ad7-a2da-ab3a8eb1b05c"
      },
      "outputs": [
        {
          "output_type": "stream",
          "name": "stdout",
          "text": [
            "[[34. 61. 62.]\n",
            " [54. 59. 34.]\n",
            " [ 2. 28. 30.]]\n"
          ]
        }
      ],
      "source": [
        "# ceil()\n",
        "print(np.ceil(c1))"
      ]
    },
    {
      "cell_type": "code",
      "execution_count": 53,
      "metadata": {
        "colab": {
          "base_uri": "https://localhost:8080/"
        },
        "id": "P-EJ_6tmHP4b",
        "outputId": "1e383adb-90a9-49d0-ec4d-d5be216b194f"
      },
      "outputs": [
        {
          "output_type": "stream",
          "name": "stdout",
          "text": [
            "61.373600492988025\n"
          ]
        }
      ],
      "source": [
        "# max()\n",
        "print(np.max(c1))"
      ]
    },
    {
      "cell_type": "code",
      "execution_count": 54,
      "metadata": {
        "colab": {
          "base_uri": "https://localhost:8080/"
        },
        "id": "bRVFAJ_FHT2L",
        "outputId": "cd5fd879-8ef2-4ae6-802d-cbab338973e6"
      },
      "outputs": [
        {
          "output_type": "stream",
          "name": "stdout",
          "text": [
            "1.3031969491867468\n"
          ]
        }
      ],
      "source": [
        "# min()\n",
        "print(np.min(c1))"
      ]
    },
    {
      "cell_type": "code",
      "execution_count": 55,
      "metadata": {
        "colab": {
          "base_uri": "https://localhost:8080/"
        },
        "id": "FdHAiz_JHV0q",
        "outputId": "2af241da-c1b1-4fd3-a9b7-a377d661d63a"
      },
      "outputs": [
        {
          "output_type": "stream",
          "name": "stdout",
          "text": [
            "358.2567315327666\n"
          ]
        }
      ],
      "source": [
        "# sum()\n",
        "print(np.sum(c1))"
      ]
    },
    {
      "cell_type": "code",
      "execution_count": 56,
      "metadata": {
        "colab": {
          "base_uri": "https://localhost:8080/"
        },
        "id": "SCQhWi7vHYHy",
        "outputId": "ec5501ba-ddd3-4f3b-c647-1eaf2aca8169"
      },
      "outputs": [
        {
          "output_type": "stream",
          "name": "stdout",
          "text": [
            "13369257387215.867\n"
          ]
        }
      ],
      "source": [
        "# prod()\n",
        "print(np.prod(c1))"
      ]
    },
    {
      "cell_type": "code",
      "execution_count": 57,
      "metadata": {
        "colab": {
          "base_uri": "https://localhost:8080/"
        },
        "id": "WdxIwcJnHaeD",
        "outputId": "ff34a2a8-9500-4a89-a730-19af24560bbc"
      },
      "outputs": [
        {
          "output_type": "stream",
          "name": "stdout",
          "text": [
            "[53.59212965 60.49139693 61.37360049]\n"
          ]
        }
      ],
      "source": [
        "print(np.max(c1, axis = 0)) # maximum element in each column"
      ]
    },
    {
      "cell_type": "code",
      "execution_count": 58,
      "metadata": {
        "colab": {
          "base_uri": "https://localhost:8080/"
        },
        "id": "Sh89f17yHsJC",
        "outputId": "9cbbd8e8-b63a-49b9-a9d2-3ec1ef6343cb"
      },
      "outputs": [
        {
          "output_type": "stream",
          "name": "stdout",
          "text": [
            "[61.37360049 58.47741608 29.46891774]\n"
          ]
        }
      ],
      "source": [
        "print(np.max(c1, axis = 1)) # maximum element in each row"
      ]
    },
    {
      "cell_type": "code",
      "execution_count": 59,
      "metadata": {
        "colab": {
          "base_uri": "https://localhost:8080/"
        },
        "id": "_W2S3KrkH8Bb",
        "outputId": "a799ae27-19f3-4280-8c95-c65f35a4b973"
      },
      "outputs": [
        {
          "output_type": "stream",
          "name": "stdout",
          "text": [
            "[ 88.22134057 146.09376541 123.94162555]\n"
          ]
        }
      ],
      "source": [
        "print(np.sum(c1, axis = 0)) # columnsums"
      ]
    },
    {
      "cell_type": "code",
      "execution_count": 60,
      "metadata": {
        "colab": {
          "base_uri": "https://localhost:8080/"
        },
        "id": "eRlJJKwfH_IU",
        "outputId": "fa469843-e595-4abc-e371-94b2ded264b4"
      },
      "outputs": [
        {
          "output_type": "stream",
          "name": "stdout",
          "text": [
            "[155.19101139 145.16865305  57.89706709]\n"
          ]
        }
      ],
      "source": [
        "print(np.sum(c1, axis = 1)) # rowsums"
      ]
    },
    {
      "cell_type": "code",
      "execution_count": 61,
      "metadata": {
        "colab": {
          "base_uri": "https://localhost:8080/"
        },
        "id": "6B7h_s_8IBRr",
        "outputId": "919bafd1-5c56-4c2b-a4c1-5abe8346d06f"
      },
      "outputs": [
        {
          "output_type": "stream",
          "name": "stdout",
          "text": [
            "39.806303503640734\n"
          ]
        }
      ],
      "source": [
        "# mean()\n",
        "print(np.mean(c1))"
      ]
    },
    {
      "cell_type": "code",
      "execution_count": 62,
      "metadata": {
        "colab": {
          "base_uri": "https://localhost:8080/"
        },
        "id": "368O83QrIQ1R",
        "outputId": "9b5f07a3-19b7-4384-e8e5-501ce12a7a9b"
      },
      "outputs": [
        {
          "output_type": "stream",
          "name": "stdout",
          "text": [
            "[51.73033713 48.38955102 19.29902236]\n"
          ]
        }
      ],
      "source": [
        "print(np.mean(c1, axis = 1)) # rowmeans"
      ]
    },
    {
      "cell_type": "code",
      "execution_count": 63,
      "metadata": {
        "colab": {
          "base_uri": "https://localhost:8080/"
        },
        "id": "bp8QfTo3IU3Z",
        "outputId": "1cadc733-4fab-4d4b-d5b8-be143d4d60c0"
      },
      "outputs": [
        {
          "output_type": "stream",
          "name": "stdout",
          "text": [
            "33.32601396752918\n"
          ]
        }
      ],
      "source": [
        "# median()\n",
        "print(np.median(c1))"
      ]
    },
    {
      "cell_type": "code",
      "execution_count": 64,
      "metadata": {
        "colab": {
          "base_uri": "https://localhost:8080/"
        },
        "id": "6p60aqBVIYnu",
        "outputId": "6b9082de-4b57-484d-f758-245b00b79443"
      },
      "outputs": [
        {
          "output_type": "stream",
          "name": "stdout",
          "text": [
            "19.0578910303188\n"
          ]
        }
      ],
      "source": [
        "# std()\n",
        "print(np.std(c1)) # gives population standard deviation"
      ]
    },
    {
      "cell_type": "code",
      "execution_count": 65,
      "metadata": {
        "colab": {
          "base_uri": "https://localhost:8080/"
        },
        "id": "yhuss6rSIqSx",
        "outputId": "f02ae727-a081-4bcd-ea79-6a2d1bbaf56a"
      },
      "outputs": [
        {
          "output_type": "stream",
          "name": "stdout",
          "text": [
            "20.213945973979055\n"
          ]
        }
      ],
      "source": [
        "print(np.std(c1, ddof = 1)) # gives sample standard deviation"
      ]
    },
    {
      "cell_type": "code",
      "execution_count": 66,
      "metadata": {
        "colab": {
          "base_uri": "https://localhost:8080/"
        },
        "id": "TKHk4NhCKWc4",
        "outputId": "34a1495b-f14f-4660-9739-b32ee705f31f"
      },
      "outputs": [
        {
          "output_type": "stream",
          "name": "stdout",
          "text": [
            "363.2032105235058\n"
          ]
        }
      ],
      "source": [
        "# var()\n",
        "print(np.var(c1)) # gives population variance"
      ]
    },
    {
      "cell_type": "code",
      "execution_count": 67,
      "metadata": {
        "colab": {
          "base_uri": "https://localhost:8080/"
        },
        "id": "sZs0-c02LjCB",
        "outputId": "944e656a-4863-4073-b069-f45cf666efc5"
      },
      "outputs": [
        {
          "output_type": "stream",
          "name": "stdout",
          "text": [
            "408.603611838944\n"
          ]
        }
      ],
      "source": [
        "print(np.var(c1, ddof = 1)) # gives sample variance"
      ]
    },
    {
      "cell_type": "code",
      "execution_count": 68,
      "metadata": {
        "colab": {
          "base_uri": "https://localhost:8080/"
        },
        "id": "tS84GrZ6LxRT",
        "outputId": "c9ffe5df-415c-4eb2-e5a2-c3b0718b2a28"
      },
      "outputs": [
        {
          "output_type": "stream",
          "name": "stdout",
          "text": [
            "[[ 0.94299084 -0.71814745 -0.99367363]\n",
            " [-0.18400015  0.93661632  0.99369151]\n",
            " [ 0.96440844  0.91251111 -0.93006284]]\n",
            "[[-0.33281869 -0.69589097  0.11230632]\n",
            " [-0.98292622 -0.35035677 -0.11214803]\n",
            " [ 0.26441702 -0.40905192 -0.36740047]]\n",
            "[[-2.83334696  1.0319827  -8.8478873 ]\n",
            " [ 0.1871963  -2.67332164 -8.86053484]\n",
            " [ 3.64730091 -2.23079529  2.53146884]]\n"
          ]
        }
      ],
      "source": [
        "# trigonometric functions\n",
        "\n",
        "print(np.sin(c1)) # sin()\n",
        "print(np.cos(c1)) # cos()\n",
        "print(np.tan(c1)) # tan()"
      ]
    },
    {
      "cell_type": "code",
      "execution_count": 69,
      "metadata": {
        "colab": {
          "base_uri": "https://localhost:8080/"
        },
        "id": "0YvuMezzMYw5",
        "outputId": "7f23e791-3d2e-4d03-a49b-aba6ce6d8f61"
      },
      "outputs": [
        {
          "output_type": "stream",
          "name": "stdout",
          "text": [
            "[[ 0  1  2  3]\n",
            " [ 4  5  6  7]\n",
            " [ 8  9 10 11]]\n",
            "(3, 4)\n",
            "[[11 10  9]\n",
            " [ 8  7  6]\n",
            " [ 5  4  3]\n",
            " [ 2  1  0]]\n",
            "(4, 3)\n"
          ]
        }
      ],
      "source": [
        "# dot() - matrix multiplication\n",
        "c2 = np.arange(12).reshape(3, 4)\n",
        "c3 = np.arange(11, -1, -1).reshape(4, 3)\n",
        "print(c2)\n",
        "print(c2.shape)\n",
        "print(c3)\n",
        "print(c3.shape)"
      ]
    },
    {
      "cell_type": "code",
      "execution_count": 70,
      "metadata": {
        "colab": {
          "base_uri": "https://localhost:8080/"
        },
        "id": "TkgivUJrN37Y",
        "outputId": "c6d06b03-68fc-4c2d-e8ed-89ece73a4d37"
      },
      "outputs": [
        {
          "output_type": "stream",
          "name": "stdout",
          "text": [
            "[[ 24  18  12]\n",
            " [128 106  84]\n",
            " [232 194 156]]\n"
          ]
        }
      ],
      "source": [
        "print(np.dot(c2, c3))"
      ]
    },
    {
      "cell_type": "code",
      "execution_count": 71,
      "metadata": {
        "colab": {
          "base_uri": "https://localhost:8080/"
        },
        "id": "FHskHh9cOPPZ",
        "outputId": "91c8f214-1131-45eb-82a2-311049004819"
      },
      "outputs": [
        {
          "output_type": "stream",
          "name": "stdout",
          "text": [
            "[[3.50633829 4.10250116 4.11697978]\n",
            " [3.98140222 4.06864063 3.49950631]\n",
            " [0.26482044 3.30045406 3.38333607]]\n"
          ]
        }
      ],
      "source": [
        "# log()\n",
        "print(np.log(c1))"
      ]
    },
    {
      "cell_type": "code",
      "execution_count": 72,
      "metadata": {
        "colab": {
          "base_uri": "https://localhost:8080/"
        },
        "id": "Wwmni-V_OScy",
        "outputId": "ae9e78b8-7dba-4d9c-abdd-95778745d17e"
      },
      "outputs": [
        {
          "output_type": "stream",
          "name": "stdout",
          "text": [
            "[[2.97374668e+14 1.86672305e+26 4.51041008e+26]\n",
            " [1.88263523e+23 2.49126036e+25 2.37006176e+14]\n",
            " [3.68104599e+00 6.02860945e+11 6.28330820e+12]]\n"
          ]
        }
      ],
      "source": [
        "# exp()\n",
        "print(np.exp(c1))"
      ]
    },
    {
      "cell_type": "markdown",
      "metadata": {
        "id": "GIiI4jHyQCx2"
      },
      "source": [
        "### Indexing"
      ]
    },
    {
      "cell_type": "code",
      "execution_count": 73,
      "metadata": {
        "colab": {
          "base_uri": "https://localhost:8080/"
        },
        "id": "qcgrFUX5OVUj",
        "outputId": "17aa4950-3790-4608-99f2-41dfab849e5a"
      },
      "outputs": [
        {
          "output_type": "stream",
          "name": "stdout",
          "text": [
            "[0 1 2 3 4 5 6 7 8 9]\n"
          ]
        }
      ],
      "source": [
        "d1 = np.arange(10)\n",
        "print(d1)"
      ]
    },
    {
      "cell_type": "code",
      "execution_count": 74,
      "metadata": {
        "colab": {
          "base_uri": "https://localhost:8080/"
        },
        "id": "LrD-rhl8QW9i",
        "outputId": "359a0575-fd6c-4c3a-f984-2a03b668ef9e"
      },
      "outputs": [
        {
          "output_type": "stream",
          "name": "stdout",
          "text": [
            "0\n",
            "9\n"
          ]
        }
      ],
      "source": [
        "print(d1[0]) # first item\n",
        "print(d1[-1]) # last item"
      ]
    },
    {
      "cell_type": "code",
      "execution_count": 75,
      "metadata": {
        "colab": {
          "base_uri": "https://localhost:8080/"
        },
        "id": "t0IxnXj_QoJx",
        "outputId": "3a0c8cff-331c-45bc-d7d5-640deea65419"
      },
      "outputs": [
        {
          "output_type": "stream",
          "name": "stdout",
          "text": [
            "[[ 0  1  2  3]\n",
            " [ 4  5  6  7]\n",
            " [ 8  9 10 11]]\n"
          ]
        }
      ],
      "source": [
        "d2 = np.arange(12).reshape(3, 4)\n",
        "print(d2)"
      ]
    },
    {
      "cell_type": "code",
      "execution_count": 76,
      "metadata": {
        "colab": {
          "base_uri": "https://localhost:8080/"
        },
        "id": "tPHMo1YxQo9s",
        "outputId": "5beac44b-e4a8-43eb-f80a-e9c0ef1509f1"
      },
      "outputs": [
        {
          "output_type": "stream",
          "name": "stdout",
          "text": [
            "6\n"
          ]
        }
      ],
      "source": [
        "print(d2[1, 2]) # gives element of 2nd row and 3rd column, remember than indexing in python starts from 0"
      ]
    },
    {
      "cell_type": "code",
      "execution_count": 77,
      "metadata": {
        "colab": {
          "base_uri": "https://localhost:8080/"
        },
        "id": "x2SAXniYRG5q",
        "outputId": "f3a90495-2b06-4208-c5b4-25c171b8f3a7"
      },
      "outputs": [
        {
          "output_type": "stream",
          "name": "stdout",
          "text": [
            "10\n"
          ]
        }
      ],
      "source": [
        "print(d2[2, 2])"
      ]
    },
    {
      "cell_type": "code",
      "execution_count": 78,
      "metadata": {
        "colab": {
          "base_uri": "https://localhost:8080/"
        },
        "id": "89WvOzf2RKqp",
        "outputId": "eecfd4f6-45a8-460d-926a-4a296d2e6b3e"
      },
      "outputs": [
        {
          "output_type": "stream",
          "name": "stdout",
          "text": [
            "7\n"
          ]
        }
      ],
      "source": [
        "print(d2[1, 3])"
      ]
    },
    {
      "cell_type": "code",
      "execution_count": 79,
      "metadata": {
        "colab": {
          "base_uri": "https://localhost:8080/"
        },
        "id": "3Vob3y6WR6dg",
        "outputId": "ade8c096-0ec0-47c0-80d1-76ca7878c888"
      },
      "outputs": [
        {
          "output_type": "stream",
          "name": "stdout",
          "text": [
            "[[[0 1]\n",
            "  [2 3]]\n",
            "\n",
            " [[4 5]\n",
            "  [6 7]]]\n"
          ]
        }
      ],
      "source": [
        "d3 = np.arange(8).reshape(2, 2, 2)\n",
        "print(d3)"
      ]
    },
    {
      "cell_type": "code",
      "execution_count": 80,
      "metadata": {
        "colab": {
          "base_uri": "https://localhost:8080/"
        },
        "id": "doAfun6lR8iF",
        "outputId": "26a5af96-4d35-4fb4-d104-c9c71d2cf20c"
      },
      "outputs": [
        {
          "output_type": "stream",
          "name": "stdout",
          "text": [
            "5\n"
          ]
        }
      ],
      "source": [
        "print(d3[1, 0, 1])"
      ]
    },
    {
      "cell_type": "code",
      "execution_count": 81,
      "metadata": {
        "colab": {
          "base_uri": "https://localhost:8080/"
        },
        "id": "ZpKH5KeySETX",
        "outputId": "3811387a-1a1a-47bb-d251-4bde62e6c5fc"
      },
      "outputs": [
        {
          "output_type": "stream",
          "name": "stdout",
          "text": [
            "3\n"
          ]
        }
      ],
      "source": [
        "print(d3[0, 1, 1])"
      ]
    },
    {
      "cell_type": "code",
      "execution_count": 82,
      "metadata": {
        "colab": {
          "base_uri": "https://localhost:8080/"
        },
        "id": "XR-kcckLSIBS",
        "outputId": "b3bb9bf6-2092-4534-fe93-fb0e020f337f"
      },
      "outputs": [
        {
          "output_type": "stream",
          "name": "stdout",
          "text": [
            "7\n"
          ]
        }
      ],
      "source": [
        "print(d3[1, 1, 1])"
      ]
    },
    {
      "cell_type": "code",
      "execution_count": 83,
      "metadata": {
        "colab": {
          "base_uri": "https://localhost:8080/"
        },
        "id": "9hhQKuWiSOOa",
        "outputId": "e6bed138-82c6-49cf-d9d1-cd07482a6b14"
      },
      "outputs": [
        {
          "output_type": "stream",
          "name": "stdout",
          "text": [
            "2\n"
          ]
        }
      ],
      "source": [
        "print(d3[0, 1, 0])"
      ]
    },
    {
      "cell_type": "code",
      "execution_count": 84,
      "metadata": {
        "colab": {
          "base_uri": "https://localhost:8080/"
        },
        "id": "SeUsBYhYSkXF",
        "outputId": "a3dd1565-8956-4eb0-a8dc-95f271f3ffea"
      },
      "outputs": [
        {
          "output_type": "stream",
          "name": "stdout",
          "text": [
            "6\n"
          ]
        }
      ],
      "source": [
        "print(d3[1, 1, 0])"
      ]
    },
    {
      "cell_type": "markdown",
      "metadata": {
        "id": "l3dHMLE_TAs_"
      },
      "source": [
        "### Slicing"
      ]
    },
    {
      "cell_type": "code",
      "execution_count": 85,
      "metadata": {
        "colab": {
          "base_uri": "https://localhost:8080/"
        },
        "id": "RDrspCzwS_w6",
        "outputId": "189f6b42-2f87-4d0d-8ea6-c08f38578527"
      },
      "outputs": [
        {
          "output_type": "stream",
          "name": "stdout",
          "text": [
            "[0 1 2 3 4 5 6 7 8 9]\n",
            "[1 2 3 4 5 6]\n"
          ]
        }
      ],
      "source": [
        "print(d1)\n",
        "print(d1[1:7]) # gives elements from index 1 to index 6 of d1"
      ]
    },
    {
      "cell_type": "code",
      "execution_count": 86,
      "metadata": {
        "colab": {
          "base_uri": "https://localhost:8080/"
        },
        "id": "MejTmTmYTWei",
        "outputId": "a545dd0f-277a-4fcc-e857-7b93d1051689"
      },
      "outputs": [
        {
          "output_type": "stream",
          "name": "stdout",
          "text": [
            "[1 3 5]\n"
          ]
        }
      ],
      "source": [
        "print(d1[1:7:2]) # gives alternate elements from index 1 to index 6 of d1"
      ]
    },
    {
      "cell_type": "code",
      "execution_count": 87,
      "metadata": {
        "colab": {
          "base_uri": "https://localhost:8080/"
        },
        "id": "9mh6gFV_TorY",
        "outputId": "28b4f120-8849-4cab-d76d-444bc9c4c7e6"
      },
      "outputs": [
        {
          "output_type": "stream",
          "name": "stdout",
          "text": [
            "[1 4 7]\n"
          ]
        }
      ],
      "source": [
        "print(d1[1:8:3])"
      ]
    },
    {
      "cell_type": "code",
      "execution_count": 88,
      "metadata": {
        "colab": {
          "base_uri": "https://localhost:8080/"
        },
        "id": "XlfHmm2FTu46",
        "outputId": "085c085c-db35-4d1d-f179-95c127ec43b8"
      },
      "outputs": [
        {
          "output_type": "stream",
          "name": "stdout",
          "text": [
            "[[ 0  1  2  3]\n",
            " [ 4  5  6  7]\n",
            " [ 8  9 10 11]]\n"
          ]
        }
      ],
      "source": [
        "print(d2)"
      ]
    },
    {
      "cell_type": "code",
      "execution_count": 89,
      "metadata": {
        "colab": {
          "base_uri": "https://localhost:8080/"
        },
        "id": "Lc93LWNRT3Gv",
        "outputId": "4e70d47f-68ff-40d4-c8e8-d3f589655a54"
      },
      "outputs": [
        {
          "output_type": "stream",
          "name": "stdout",
          "text": [
            "[0 1 2 3]\n"
          ]
        }
      ],
      "source": [
        "print(d2[0, :]) # gives first row of d2\n",
        "# print(d2[0]) # also works"
      ]
    },
    {
      "cell_type": "code",
      "execution_count": 90,
      "metadata": {
        "colab": {
          "base_uri": "https://localhost:8080/"
        },
        "id": "OwhKyXRKUANR",
        "outputId": "9902498d-fd82-4ea5-c412-ba506f7032fd"
      },
      "outputs": [
        {
          "output_type": "stream",
          "name": "stdout",
          "text": [
            "[ 8  9 10 11]\n"
          ]
        }
      ],
      "source": [
        "print(d2[2, :])"
      ]
    },
    {
      "cell_type": "code",
      "execution_count": 91,
      "metadata": {
        "colab": {
          "base_uri": "https://localhost:8080/"
        },
        "id": "ACkgh7geWfWY",
        "outputId": "0dadf64f-d4f0-4384-def8-ec94adca93ea"
      },
      "outputs": [
        {
          "output_type": "stream",
          "name": "stdout",
          "text": [
            "[[0 1 2 3]\n",
            " [4 5 6 7]]\n"
          ]
        }
      ],
      "source": [
        "print(d2[0:2, ]) # gives rows with indices 0 and 1"
      ]
    },
    {
      "cell_type": "code",
      "execution_count": 92,
      "metadata": {
        "colab": {
          "base_uri": "https://localhost:8080/"
        },
        "id": "-EPBqYlrWxdA",
        "outputId": "37c22d77-ea8d-4643-e33b-51ac0a6b4090"
      },
      "outputs": [
        {
          "output_type": "stream",
          "name": "stdout",
          "text": [
            "[[ 0  1  2  3]\n",
            " [ 8  9 10 11]]\n"
          ]
        }
      ],
      "source": [
        "print(d2[[0, 2], :]) # gives rows with indices 0 and 2"
      ]
    },
    {
      "cell_type": "code",
      "execution_count": 93,
      "metadata": {
        "colab": {
          "base_uri": "https://localhost:8080/"
        },
        "id": "euyV5jK8UjYg",
        "outputId": "0ce41abc-cae3-41b9-a5ae-d519c5926bd0"
      },
      "outputs": [
        {
          "output_type": "stream",
          "name": "stdout",
          "text": [
            "[ 3  7 11]\n"
          ]
        }
      ],
      "source": [
        "print(d2[:, 3]) # gives 4th column of d2"
      ]
    },
    {
      "cell_type": "code",
      "execution_count": 94,
      "metadata": {
        "colab": {
          "base_uri": "https://localhost:8080/"
        },
        "id": "_p4Y_460W_bQ",
        "outputId": "3d9b831c-ddfe-4687-d58c-5c11178d5b0f"
      },
      "outputs": [
        {
          "output_type": "stream",
          "name": "stdout",
          "text": [
            "[[ 0  1  2]\n",
            " [ 4  5  6]\n",
            " [ 8  9 10]]\n"
          ]
        }
      ],
      "source": [
        "print(d2[:, 0:3]) # gives columns with indices 0, 1, 2"
      ]
    },
    {
      "cell_type": "code",
      "execution_count": 95,
      "metadata": {
        "colab": {
          "base_uri": "https://localhost:8080/"
        },
        "id": "s-Fjh_yKXKqe",
        "outputId": "28ac0472-0f9d-48c7-9553-fdc60b8bbd3a"
      },
      "outputs": [
        {
          "output_type": "stream",
          "name": "stdout",
          "text": [
            "[[ 0  3]\n",
            " [ 4  7]\n",
            " [ 8 11]]\n"
          ]
        }
      ],
      "source": [
        "print(d2[:, [0, 3]]) # gives columns with indices 0 and 3"
      ]
    },
    {
      "cell_type": "code",
      "execution_count": 96,
      "metadata": {
        "colab": {
          "base_uri": "https://localhost:8080/"
        },
        "id": "K826VSE5VIuJ",
        "outputId": "a34540b6-c569-4c92-9e27-d4279fa0bbda"
      },
      "outputs": [
        {
          "output_type": "stream",
          "name": "stdout",
          "text": [
            "[[ 5  6]\n",
            " [ 9 10]]\n"
          ]
        }
      ],
      "source": [
        "print(d2[1:, 1:3]) # gives a submatrix with 2nd, 3rd row and 2nd, 3rd column"
      ]
    },
    {
      "cell_type": "code",
      "execution_count": 97,
      "metadata": {
        "colab": {
          "base_uri": "https://localhost:8080/"
        },
        "id": "CbjNB1QsWRZo",
        "outputId": "3c558e81-1ba2-4cda-f971-7ec94ee57ab6"
      },
      "outputs": [
        {
          "output_type": "stream",
          "name": "stdout",
          "text": [
            "[[ 0  3]\n",
            " [ 8 11]]\n"
          ]
        }
      ],
      "source": [
        "print(d2[::2, ::3])"
      ]
    },
    {
      "cell_type": "code",
      "source": [
        "print(d2[::2, 1:4:2])"
      ],
      "metadata": {
        "colab": {
          "base_uri": "https://localhost:8080/"
        },
        "id": "0vxEJHP4Nfdq",
        "outputId": "f815166d-2175-4b01-a5bf-7b3d2279ec8a"
      },
      "execution_count": 98,
      "outputs": [
        {
          "output_type": "stream",
          "name": "stdout",
          "text": [
            "[[ 1  3]\n",
            " [ 9 11]]\n"
          ]
        }
      ]
    },
    {
      "cell_type": "code",
      "source": [
        "print(d2[1, 0:4:3])"
      ],
      "metadata": {
        "colab": {
          "base_uri": "https://localhost:8080/"
        },
        "id": "PMzbZdjfYWJR",
        "outputId": "8c435ba5-67f2-46da-cb61-6bd4a7fa4981"
      },
      "execution_count": 99,
      "outputs": [
        {
          "output_type": "stream",
          "name": "stdout",
          "text": [
            "[4 7]\n"
          ]
        }
      ]
    },
    {
      "cell_type": "code",
      "source": [
        "print(d2[0:2, 1:4])"
      ],
      "metadata": {
        "colab": {
          "base_uri": "https://localhost:8080/"
        },
        "id": "HCiVg33MYmO8",
        "outputId": "8547afae-4154-4287-ac9a-079156eaca28"
      },
      "execution_count": 100,
      "outputs": [
        {
          "output_type": "stream",
          "name": "stdout",
          "text": [
            "[[1 2 3]\n",
            " [5 6 7]]\n"
          ]
        }
      ]
    },
    {
      "cell_type": "code",
      "source": [
        "d4 = np.arange(27).reshape(3, 3, 3)\n",
        "print(d4)"
      ],
      "metadata": {
        "colab": {
          "base_uri": "https://localhost:8080/"
        },
        "id": "f-xaYkkIbcs8",
        "outputId": "e6bc1a1b-212e-4a67-cd9b-212a0811bb2d"
      },
      "execution_count": 101,
      "outputs": [
        {
          "output_type": "stream",
          "name": "stdout",
          "text": [
            "[[[ 0  1  2]\n",
            "  [ 3  4  5]\n",
            "  [ 6  7  8]]\n",
            "\n",
            " [[ 9 10 11]\n",
            "  [12 13 14]\n",
            "  [15 16 17]]\n",
            "\n",
            " [[18 19 20]\n",
            "  [21 22 23]\n",
            "  [24 25 26]]]\n"
          ]
        }
      ]
    },
    {
      "cell_type": "code",
      "source": [
        "print(d4[1, :, :])"
      ],
      "metadata": {
        "colab": {
          "base_uri": "https://localhost:8080/"
        },
        "id": "BDSxYZyfbeFA",
        "outputId": "9625d3c9-f08d-4a27-dbcc-426a87dca225"
      },
      "execution_count": 102,
      "outputs": [
        {
          "output_type": "stream",
          "name": "stdout",
          "text": [
            "[[ 9 10 11]\n",
            " [12 13 14]\n",
            " [15 16 17]]\n"
          ]
        }
      ]
    },
    {
      "cell_type": "code",
      "source": [
        "print(d4[0:3:2, :, :])"
      ],
      "metadata": {
        "colab": {
          "base_uri": "https://localhost:8080/"
        },
        "id": "MjDcZDiYcJin",
        "outputId": "9419f3d4-60d7-48de-bbfe-98d5a999054b"
      },
      "execution_count": 103,
      "outputs": [
        {
          "output_type": "stream",
          "name": "stdout",
          "text": [
            "[[[ 0  1  2]\n",
            "  [ 3  4  5]\n",
            "  [ 6  7  8]]\n",
            "\n",
            " [[18 19 20]\n",
            "  [21 22 23]\n",
            "  [24 25 26]]]\n"
          ]
        }
      ]
    },
    {
      "cell_type": "code",
      "source": [
        "print(d4[0, 1, :])"
      ],
      "metadata": {
        "colab": {
          "base_uri": "https://localhost:8080/"
        },
        "id": "85odAShMcS6z",
        "outputId": "46fdc551-9acc-4073-9b70-73759dfdbf94"
      },
      "execution_count": 104,
      "outputs": [
        {
          "output_type": "stream",
          "name": "stdout",
          "text": [
            "[3 4 5]\n"
          ]
        }
      ]
    },
    {
      "cell_type": "code",
      "source": [
        "print(d4[1, :, 1])"
      ],
      "metadata": {
        "colab": {
          "base_uri": "https://localhost:8080/"
        },
        "id": "To11y-X0celr",
        "outputId": "02fe88f8-966b-444a-b705-43c5d7cde7ca"
      },
      "execution_count": 105,
      "outputs": [
        {
          "output_type": "stream",
          "name": "stdout",
          "text": [
            "[10 13 16]\n"
          ]
        }
      ]
    },
    {
      "cell_type": "code",
      "source": [
        "print(d4[2, 1:3, 1:3])"
      ],
      "metadata": {
        "colab": {
          "base_uri": "https://localhost:8080/"
        },
        "id": "l7tZkXEAcpn5",
        "outputId": "6be81fe0-6ad8-43a2-8a51-2ad0fc93012b"
      },
      "execution_count": 106,
      "outputs": [
        {
          "output_type": "stream",
          "name": "stdout",
          "text": [
            "[[22 23]\n",
            " [25 26]]\n"
          ]
        }
      ]
    },
    {
      "cell_type": "code",
      "source": [
        "print(d4[0:3:2, 0, 0:3:2])"
      ],
      "metadata": {
        "colab": {
          "base_uri": "https://localhost:8080/"
        },
        "id": "Dwef5jf_c5kC",
        "outputId": "90baeb51-09cf-41f4-c763-3d5749441ecb"
      },
      "execution_count": 107,
      "outputs": [
        {
          "output_type": "stream",
          "name": "stdout",
          "text": [
            "[[ 0  2]\n",
            " [18 20]]\n"
          ]
        }
      ]
    },
    {
      "cell_type": "markdown",
      "source": [
        "### Iterating"
      ],
      "metadata": {
        "id": "ZnXnZ9v_eLM6"
      }
    },
    {
      "cell_type": "code",
      "source": [
        "print(d1)"
      ],
      "metadata": {
        "colab": {
          "base_uri": "https://localhost:8080/"
        },
        "id": "bG-p17w_eMlo",
        "outputId": "33400f7b-281c-4a50-a26c-79d03c8b90e2"
      },
      "execution_count": 108,
      "outputs": [
        {
          "output_type": "stream",
          "name": "stdout",
          "text": [
            "[0 1 2 3 4 5 6 7 8 9]\n"
          ]
        }
      ]
    },
    {
      "cell_type": "code",
      "source": [
        "for i in d1:\n",
        "  print(i)"
      ],
      "metadata": {
        "colab": {
          "base_uri": "https://localhost:8080/"
        },
        "id": "bsXuyeTBeXcN",
        "outputId": "b02ec12a-eeba-4203-d3cc-67a80f4bf1c9"
      },
      "execution_count": 109,
      "outputs": [
        {
          "output_type": "stream",
          "name": "stdout",
          "text": [
            "0\n",
            "1\n",
            "2\n",
            "3\n",
            "4\n",
            "5\n",
            "6\n",
            "7\n",
            "8\n",
            "9\n"
          ]
        }
      ]
    },
    {
      "cell_type": "code",
      "source": [
        "print(d2)"
      ],
      "metadata": {
        "colab": {
          "base_uri": "https://localhost:8080/"
        },
        "id": "CfXaBDWJeQDC",
        "outputId": "e3c8a758-5cc0-4120-b4c3-9a26aa3ea95b"
      },
      "execution_count": 110,
      "outputs": [
        {
          "output_type": "stream",
          "name": "stdout",
          "text": [
            "[[ 0  1  2  3]\n",
            " [ 4  5  6  7]\n",
            " [ 8  9 10 11]]\n"
          ]
        }
      ]
    },
    {
      "cell_type": "code",
      "source": [
        "for i in d2:\n",
        "  print(i) # prints a 1D array"
      ],
      "metadata": {
        "colab": {
          "base_uri": "https://localhost:8080/"
        },
        "id": "jVZiLuWDebu3",
        "outputId": "8be850d4-7ae1-45f3-8a32-328c9d8e59f8"
      },
      "execution_count": 111,
      "outputs": [
        {
          "output_type": "stream",
          "name": "stdout",
          "text": [
            "[0 1 2 3]\n",
            "[4 5 6 7]\n",
            "[ 8  9 10 11]\n"
          ]
        }
      ]
    },
    {
      "cell_type": "code",
      "source": [
        "for i in np.nditer(d2):\n",
        "  print(i)"
      ],
      "metadata": {
        "colab": {
          "base_uri": "https://localhost:8080/"
        },
        "id": "pLcWdeuxesQw",
        "outputId": "3bc8ef00-4680-4482-8939-82ff9117b268"
      },
      "execution_count": 112,
      "outputs": [
        {
          "output_type": "stream",
          "name": "stdout",
          "text": [
            "0\n",
            "1\n",
            "2\n",
            "3\n",
            "4\n",
            "5\n",
            "6\n",
            "7\n",
            "8\n",
            "9\n",
            "10\n",
            "11\n"
          ]
        }
      ]
    },
    {
      "cell_type": "code",
      "source": [
        "print(d4)"
      ],
      "metadata": {
        "colab": {
          "base_uri": "https://localhost:8080/"
        },
        "id": "atTDQIGLeQzD",
        "outputId": "5485121b-9bec-42c8-9e4a-e6aa4b4ada1c"
      },
      "execution_count": 113,
      "outputs": [
        {
          "output_type": "stream",
          "name": "stdout",
          "text": [
            "[[[ 0  1  2]\n",
            "  [ 3  4  5]\n",
            "  [ 6  7  8]]\n",
            "\n",
            " [[ 9 10 11]\n",
            "  [12 13 14]\n",
            "  [15 16 17]]\n",
            "\n",
            " [[18 19 20]\n",
            "  [21 22 23]\n",
            "  [24 25 26]]]\n"
          ]
        }
      ]
    },
    {
      "cell_type": "code",
      "source": [
        "for i in d4:\n",
        "  print(i) # prints a 2D array"
      ],
      "metadata": {
        "colab": {
          "base_uri": "https://localhost:8080/"
        },
        "id": "-8vDz2TPekwg",
        "outputId": "b2143b1a-06a9-478c-9a9a-b6b330b479a7"
      },
      "execution_count": 114,
      "outputs": [
        {
          "output_type": "stream",
          "name": "stdout",
          "text": [
            "[[0 1 2]\n",
            " [3 4 5]\n",
            " [6 7 8]]\n",
            "[[ 9 10 11]\n",
            " [12 13 14]\n",
            " [15 16 17]]\n",
            "[[18 19 20]\n",
            " [21 22 23]\n",
            " [24 25 26]]\n"
          ]
        }
      ]
    },
    {
      "cell_type": "code",
      "source": [
        "for i in np.nditer(d4):\n",
        "  print(i)"
      ],
      "metadata": {
        "colab": {
          "base_uri": "https://localhost:8080/"
        },
        "id": "Y_cOcfEqe6S4",
        "outputId": "01f6a9d2-222f-4d17-f66d-93850e251cc5"
      },
      "execution_count": 115,
      "outputs": [
        {
          "output_type": "stream",
          "name": "stdout",
          "text": [
            "0\n",
            "1\n",
            "2\n",
            "3\n",
            "4\n",
            "5\n",
            "6\n",
            "7\n",
            "8\n",
            "9\n",
            "10\n",
            "11\n",
            "12\n",
            "13\n",
            "14\n",
            "15\n",
            "16\n",
            "17\n",
            "18\n",
            "19\n",
            "20\n",
            "21\n",
            "22\n",
            "23\n",
            "24\n",
            "25\n",
            "26\n"
          ]
        }
      ]
    },
    {
      "cell_type": "markdown",
      "source": [
        "### Reshaping"
      ],
      "metadata": {
        "id": "YU6gec7jfMAf"
      }
    },
    {
      "cell_type": "code",
      "source": [
        "print(d2)"
      ],
      "metadata": {
        "colab": {
          "base_uri": "https://localhost:8080/"
        },
        "id": "6dnYDH-ufNga",
        "outputId": "08639075-ac40-44be-d585-4653fb867bc2"
      },
      "execution_count": 116,
      "outputs": [
        {
          "output_type": "stream",
          "name": "stdout",
          "text": [
            "[[ 0  1  2  3]\n",
            " [ 4  5  6  7]\n",
            " [ 8  9 10 11]]\n"
          ]
        }
      ]
    },
    {
      "cell_type": "code",
      "source": [
        "# reshape()\n",
        "d2_reshaped = d2.reshape(4, 3)\n",
        "print(d2_reshaped)"
      ],
      "metadata": {
        "colab": {
          "base_uri": "https://localhost:8080/"
        },
        "id": "XtPqg7B7fV2o",
        "outputId": "772499e8-203a-4e80-e8c4-cfc336076d3f"
      },
      "execution_count": 117,
      "outputs": [
        {
          "output_type": "stream",
          "name": "stdout",
          "text": [
            "[[ 0  1  2]\n",
            " [ 3  4  5]\n",
            " [ 6  7  8]\n",
            " [ 9 10 11]]\n"
          ]
        }
      ]
    },
    {
      "cell_type": "code",
      "source": [
        "# transpose\n",
        "d2_transposed = np.transpose(d2)\n",
        "print(d2_transposed)"
      ],
      "metadata": {
        "colab": {
          "base_uri": "https://localhost:8080/"
        },
        "id": "k86mt4NGfdjh",
        "outputId": "294edfa2-854a-42bf-c538-39f9f63882a5"
      },
      "execution_count": 118,
      "outputs": [
        {
          "output_type": "stream",
          "name": "stdout",
          "text": [
            "[[ 0  4  8]\n",
            " [ 1  5  9]\n",
            " [ 2  6 10]\n",
            " [ 3  7 11]]\n"
          ]
        }
      ]
    },
    {
      "cell_type": "code",
      "source": [
        "print(d2.T)"
      ],
      "metadata": {
        "colab": {
          "base_uri": "https://localhost:8080/"
        },
        "id": "mfD5PfiSfreJ",
        "outputId": "0d19e945-6f3f-4c05-e92e-a27b68240acd"
      },
      "execution_count": 119,
      "outputs": [
        {
          "output_type": "stream",
          "name": "stdout",
          "text": [
            "[[ 0  4  8]\n",
            " [ 1  5  9]\n",
            " [ 2  6 10]\n",
            " [ 3  7 11]]\n"
          ]
        }
      ]
    },
    {
      "cell_type": "code",
      "source": [
        "# ravel() - converts any dimensional array to 1D array\n",
        "d4_raveled = np.ravel(d4)\n",
        "print(d4_raveled)"
      ],
      "metadata": {
        "colab": {
          "base_uri": "https://localhost:8080/"
        },
        "id": "hCtmAfMnf1IJ",
        "outputId": "d9619f14-5e77-43e6-a27b-13ea5a1ca96f"
      },
      "execution_count": 120,
      "outputs": [
        {
          "output_type": "stream",
          "name": "stdout",
          "text": [
            "[ 0  1  2  3  4  5  6  7  8  9 10 11 12 13 14 15 16 17 18 19 20 21 22 23\n",
            " 24 25 26]\n"
          ]
        }
      ]
    },
    {
      "cell_type": "markdown",
      "source": [
        "$\\bullet$ All these functions create a new array, do not change the existing array."
      ],
      "metadata": {
        "id": "2h3L8B_ugKBD"
      }
    },
    {
      "cell_type": "markdown",
      "source": [
        "### Stacking"
      ],
      "metadata": {
        "id": "JYhuyBENgT_l"
      }
    },
    {
      "cell_type": "markdown",
      "source": [
        "$\\bullet$ Stacking is useful in merging data."
      ],
      "metadata": {
        "id": "uCBJOCjEhdPp"
      }
    },
    {
      "cell_type": "code",
      "source": [
        "e1 = np.arange(12).reshape(3, 4)\n",
        "print(e1)\n",
        "e2 = np.arange(12, 24).reshape(3, 4)\n",
        "print(e2)\n",
        "e3 = np.arange(24, 36).reshape(3, 4)\n",
        "print(e3)"
      ],
      "metadata": {
        "colab": {
          "base_uri": "https://localhost:8080/"
        },
        "id": "JjiCHKO4gVyA",
        "outputId": "65962938-1b5d-4928-82a6-29eba3c6dd26"
      },
      "execution_count": 121,
      "outputs": [
        {
          "output_type": "stream",
          "name": "stdout",
          "text": [
            "[[ 0  1  2  3]\n",
            " [ 4  5  6  7]\n",
            " [ 8  9 10 11]]\n",
            "[[12 13 14 15]\n",
            " [16 17 18 19]\n",
            " [20 21 22 23]]\n",
            "[[24 25 26 27]\n",
            " [28 29 30 31]\n",
            " [32 33 34 35]]\n"
          ]
        }
      ]
    },
    {
      "cell_type": "code",
      "source": [
        "# horizontal stacking - hstack()\n",
        "print(np.hstack((e1, e2, e3))) # remember that its inputs is a tuple"
      ],
      "metadata": {
        "colab": {
          "base_uri": "https://localhost:8080/"
        },
        "id": "UMTdhgXUgSCw",
        "outputId": "b0414643-f9a0-4609-fb11-818ebf24ecc3"
      },
      "execution_count": 122,
      "outputs": [
        {
          "output_type": "stream",
          "name": "stdout",
          "text": [
            "[[ 0  1  2  3 12 13 14 15 24 25 26 27]\n",
            " [ 4  5  6  7 16 17 18 19 28 29 30 31]\n",
            " [ 8  9 10 11 20 21 22 23 32 33 34 35]]\n"
          ]
        }
      ]
    },
    {
      "cell_type": "code",
      "source": [
        "# vertical stacking - vstack()\n",
        "print(np.vstack((e1, e2, e3)))"
      ],
      "metadata": {
        "colab": {
          "base_uri": "https://localhost:8080/"
        },
        "id": "xcb66zr5hNVQ",
        "outputId": "8a2418c5-feb6-4565-f8d3-4c24869aa6e9"
      },
      "execution_count": 123,
      "outputs": [
        {
          "output_type": "stream",
          "name": "stdout",
          "text": [
            "[[ 0  1  2  3]\n",
            " [ 4  5  6  7]\n",
            " [ 8  9 10 11]\n",
            " [12 13 14 15]\n",
            " [16 17 18 19]\n",
            " [20 21 22 23]\n",
            " [24 25 26 27]\n",
            " [28 29 30 31]\n",
            " [32 33 34 35]]\n"
          ]
        }
      ]
    },
    {
      "cell_type": "markdown",
      "source": [
        "### Splitting"
      ],
      "metadata": {
        "id": "jNIzuBp8hurK"
      }
    },
    {
      "cell_type": "code",
      "source": [
        "print(d2)"
      ],
      "metadata": {
        "colab": {
          "base_uri": "https://localhost:8080/"
        },
        "id": "3qSreNCuhAe4",
        "outputId": "b7010b4b-6e53-402d-d6aa-65519e1dae90"
      },
      "execution_count": 124,
      "outputs": [
        {
          "output_type": "stream",
          "name": "stdout",
          "text": [
            "[[ 0  1  2  3]\n",
            " [ 4  5  6  7]\n",
            " [ 8  9 10 11]]\n"
          ]
        }
      ]
    },
    {
      "cell_type": "code",
      "source": [
        "# horizontal splitting - hsplit()\n",
        "print(np.hsplit(d2, 2))"
      ],
      "metadata": {
        "colab": {
          "base_uri": "https://localhost:8080/"
        },
        "id": "p3rDvZrciHkZ",
        "outputId": "97eeac5c-ca39-4920-ca1d-15f9fc2ae8e7"
      },
      "execution_count": 125,
      "outputs": [
        {
          "output_type": "stream",
          "name": "stdout",
          "text": [
            "[array([[0, 1],\n",
            "       [4, 5],\n",
            "       [8, 9]]), array([[ 2,  3],\n",
            "       [ 6,  7],\n",
            "       [10, 11]])]\n"
          ]
        }
      ]
    },
    {
      "cell_type": "code",
      "source": [
        "# vertical splitting - vsplit()\n",
        "print(d2_reshaped)"
      ],
      "metadata": {
        "colab": {
          "base_uri": "https://localhost:8080/"
        },
        "id": "N7AZZeBfiZ1N",
        "outputId": "2231a87c-c30c-4333-9c0e-12a97dfb0a01"
      },
      "execution_count": 126,
      "outputs": [
        {
          "output_type": "stream",
          "name": "stdout",
          "text": [
            "[[ 0  1  2]\n",
            " [ 3  4  5]\n",
            " [ 6  7  8]\n",
            " [ 9 10 11]]\n"
          ]
        }
      ]
    },
    {
      "cell_type": "code",
      "source": [
        "print(np.vsplit(d2_reshaped, 2))"
      ],
      "metadata": {
        "colab": {
          "base_uri": "https://localhost:8080/"
        },
        "id": "5Rkwco0vinEg",
        "outputId": "081bf26e-9d7b-41ce-f076-dd4d8bff478b"
      },
      "execution_count": 127,
      "outputs": [
        {
          "output_type": "stream",
          "name": "stdout",
          "text": [
            "[array([[0, 1, 2],\n",
            "       [3, 4, 5]]), array([[ 6,  7,  8],\n",
            "       [ 9, 10, 11]])]\n"
          ]
        }
      ]
    },
    {
      "cell_type": "code",
      "source": [
        "print(np.vsplit(d2, 3))"
      ],
      "metadata": {
        "colab": {
          "base_uri": "https://localhost:8080/"
        },
        "id": "6CgXTZrSi-W6",
        "outputId": "11bb8cb3-99ff-4ad1-f2bc-a6824cb2dbd5"
      },
      "execution_count": 128,
      "outputs": [
        {
          "output_type": "stream",
          "name": "stdout",
          "text": [
            "[array([[0, 1, 2, 3]]), array([[4, 5, 6, 7]]), array([[ 8,  9, 10, 11]])]\n"
          ]
        }
      ]
    },
    {
      "cell_type": "markdown",
      "source": [
        "$\\bullet$ $\\textit{hsplit()}$ and $\\textit{vsplit()}$ support equal splitting only."
      ],
      "metadata": {
        "id": "PjuHxUWDisX1"
      }
    },
    {
      "cell_type": "markdown",
      "source": [
        "### NumPy array vs Python list"
      ],
      "metadata": {
        "id": "aS06zr35vAVv"
      }
    },
    {
      "cell_type": "code",
      "source": [
        "# speed\n",
        "\n",
        "import time\n",
        "\n",
        "# on python list\n",
        "\n",
        "a = [i for i in range(10000000)]\n",
        "b = [i for i in range(10000000, 20000000)]\n",
        "\n",
        "c = []\n",
        "\n",
        "start = time.time()\n",
        "\n",
        "for i in range(len(a)):\n",
        "  c.append(a[i] + b[i])\n",
        "\n",
        "stop = time.time()\n",
        "\n",
        "print(f\"time on python list :{stop - start}\")\n",
        "\n",
        "\n",
        "# on numpy array\n",
        "\n",
        "a1 = np.arange(10000000)\n",
        "b1 = np.arange(10000000, 20000000)\n",
        "\n",
        "start = time.time()\n",
        "\n",
        "c1 = a1 + b1\n",
        "\n",
        "stop = time.time()\n",
        "\n",
        "print(f\"time on Numpy array :{stop - start}\")"
      ],
      "metadata": {
        "colab": {
          "base_uri": "https://localhost:8080/"
        },
        "id": "tZvMC3xavEsL",
        "outputId": "d9e75bac-01d0-4a30-9346-90f3a733c67c"
      },
      "execution_count": 129,
      "outputs": [
        {
          "output_type": "stream",
          "name": "stdout",
          "text": [
            "time on python list :1.9005169868469238\n",
            "time on Numpy array :0.020281314849853516\n"
          ]
        }
      ]
    },
    {
      "cell_type": "code",
      "source": [
        "# memory\n",
        "\n",
        "import sys\n",
        "# python list\n",
        "\n",
        "print(sys.getsizeof(a)) # tells number of bytes occupied by 'a'\n",
        "\n",
        "print(sys.getsizeof(a1))\n",
        "\n",
        "a1 = np.arange(10000000, dtype = np.int32)\n",
        "print(sys.getsizeof(a1))"
      ],
      "metadata": {
        "colab": {
          "base_uri": "https://localhost:8080/"
        },
        "id": "kPo1Xpqvzs0c",
        "outputId": "95fdc694-b0c8-4c18-cd99-3763aef28c1b"
      },
      "execution_count": 130,
      "outputs": [
        {
          "output_type": "stream",
          "name": "stdout",
          "text": [
            "89095160\n",
            "80000112\n",
            "40000112\n"
          ]
        }
      ]
    },
    {
      "cell_type": "code",
      "source": [
        "# convenience\n",
        "# python list does not support addition etc. You have to do explicit coding.\n",
        "# numpy array supports addition, subtraction etc."
      ],
      "metadata": {
        "id": "noKEz5JA0d0n"
      },
      "execution_count": 131,
      "outputs": []
    },
    {
      "cell_type": "markdown",
      "source": [
        "### Advanced Indexing"
      ],
      "metadata": {
        "id": "ZHyMckrU1JbC"
      }
    },
    {
      "cell_type": "code",
      "source": [
        "# Fancy indexing\n",
        "a = np.arange(24).reshape(6, 4)\n",
        "print(a)\n",
        "\n",
        "print(a[[0, 1, 4]])\n",
        "\n",
        "print(a[:, [0, 2, 3]])"
      ],
      "metadata": {
        "colab": {
          "base_uri": "https://localhost:8080/"
        },
        "id": "SruEN4xi0vNi",
        "outputId": "e9bb09be-6aab-4499-b6cf-ccc72be0685c"
      },
      "execution_count": 135,
      "outputs": [
        {
          "output_type": "stream",
          "name": "stdout",
          "text": [
            "[[ 0  1  2  3]\n",
            " [ 4  5  6  7]\n",
            " [ 8  9 10 11]\n",
            " [12 13 14 15]\n",
            " [16 17 18 19]\n",
            " [20 21 22 23]]\n",
            "[[ 0  1  2  3]\n",
            " [ 4  5  6  7]\n",
            " [16 17 18 19]]\n",
            "[[ 0  2  3]\n",
            " [ 4  6  7]\n",
            " [ 8 10 11]\n",
            " [12 14 15]\n",
            " [16 18 19]\n",
            " [20 22 23]]\n"
          ]
        }
      ]
    },
    {
      "cell_type": "code",
      "source": [
        "# Boolean indexing\n",
        "a = np.random.randint(1, 100, 24).reshape(6, 4)\n",
        "print(a)"
      ],
      "metadata": {
        "colab": {
          "base_uri": "https://localhost:8080/"
        },
        "id": "u-tSOQ2p1Iod",
        "outputId": "27812418-c020-4d63-d863-7959dc6ac95f"
      },
      "execution_count": 137,
      "outputs": [
        {
          "output_type": "stream",
          "name": "stdout",
          "text": [
            "[[ 2 48 87 56]\n",
            " [63 89 41 67]\n",
            " [15  4  4 71]\n",
            " [10 48 39 18]\n",
            " [81 56 46 61]\n",
            " [29 69 81 16]]\n"
          ]
        }
      ]
    },
    {
      "cell_type": "code",
      "source": [
        "# find all the numbers greater than 50\n",
        "print(a > 50) # output will be a boolean array\n",
        "print(a[a > 50])"
      ],
      "metadata": {
        "colab": {
          "base_uri": "https://localhost:8080/"
        },
        "id": "lw2UxCbmJQmz",
        "outputId": "94d0e71f-89d2-46f0-f5de-8d797da1cc8e"
      },
      "execution_count": 147,
      "outputs": [
        {
          "output_type": "stream",
          "name": "stdout",
          "text": [
            "[[False False  True  True]\n",
            " [ True  True False  True]\n",
            " [False False False  True]\n",
            " [False False False False]\n",
            " [ True  True False  True]\n",
            " [False  True  True False]]\n",
            "[87 56 63 89 67 71 81 56 61 69 81]\n"
          ]
        }
      ]
    },
    {
      "cell_type": "code",
      "source": [
        "# find all even numbers\n",
        "print(a[a % 2 == 0])"
      ],
      "metadata": {
        "colab": {
          "base_uri": "https://localhost:8080/"
        },
        "id": "T0dnt2Z0J0iK",
        "outputId": "8589c7b5-cd5c-4fc1-be53-c367dee494d4"
      },
      "execution_count": 148,
      "outputs": [
        {
          "output_type": "stream",
          "name": "stdout",
          "text": [
            "[ 2 48 56  4  4 10 48 18 56 46 16]\n"
          ]
        }
      ]
    },
    {
      "cell_type": "code",
      "source": [
        "# find the numbers greater than 50 and even\n",
        "print(a[(a > 50) & (a % 2 == 0)])"
      ],
      "metadata": {
        "colab": {
          "base_uri": "https://localhost:8080/"
        },
        "id": "a2S2p8EBKBot",
        "outputId": "0aab2e1f-c709-485c-b0a9-dd163b6c569a"
      },
      "execution_count": 150,
      "outputs": [
        {
          "output_type": "stream",
          "name": "stdout",
          "text": [
            "[56 56]\n"
          ]
        }
      ]
    },
    {
      "cell_type": "code",
      "source": [
        "# find the numbers divisible by 7\n",
        "print(a[a % 7 == 0])"
      ],
      "metadata": {
        "colab": {
          "base_uri": "https://localhost:8080/"
        },
        "id": "0d5dw8JSKXeR",
        "outputId": "42288952-91fd-4cdc-f1aa-7783059b8d42"
      },
      "execution_count": 151,
      "outputs": [
        {
          "output_type": "stream",
          "name": "stdout",
          "text": [
            "[56 63 56]\n"
          ]
        }
      ]
    },
    {
      "cell_type": "code",
      "source": [
        "# find the numbers not divisible by 7\n",
        "print(a[~(a % 7 == 0)]) # ~ is the negation operator\n",
        "# print(a[a % 7 != 0])"
      ],
      "metadata": {
        "colab": {
          "base_uri": "https://localhost:8080/"
        },
        "id": "eyQ2Gb3NKcha",
        "outputId": "df83cbca-6350-4d60-a63b-9e10ac34b93a"
      },
      "execution_count": 155,
      "outputs": [
        {
          "output_type": "stream",
          "name": "stdout",
          "text": [
            "[ 2 48 87 89 41 67 15  4  4 71 10 48 39 18 81 46 61 29 69 81 16]\n"
          ]
        }
      ]
    }
  ],
  "metadata": {
    "colab": {
      "provenance": [],
      "authorship_tag": "ABX9TyN4qsLX9xqYONpjfQbSf18D",
      "include_colab_link": true
    },
    "kernelspec": {
      "display_name": "Python 3",
      "name": "python3"
    },
    "language_info": {
      "name": "python"
    }
  },
  "nbformat": 4,
  "nbformat_minor": 0
}