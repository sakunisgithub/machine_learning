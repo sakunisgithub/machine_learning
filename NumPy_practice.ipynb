{
  "nbformat": 4,
  "nbformat_minor": 0,
  "metadata": {
    "colab": {
      "provenance": [],
      "include_colab_link": true
    },
    "kernelspec": {
      "name": "python3",
      "display_name": "Python 3"
    },
    "language_info": {
      "name": "python"
    }
  },
  "cells": [
    {
      "cell_type": "markdown",
      "metadata": {
        "id": "view-in-github",
        "colab_type": "text"
      },
      "source": [
        "<a href=\"https://colab.research.google.com/github/sakunisgithub/machine_learning/blob/master/NumPy_practice.ipynb\" target=\"_parent\"><img src=\"https://colab.research.google.com/assets/colab-badge.svg\" alt=\"Open In Colab\"/></a>"
      ]
    },
    {
      "cell_type": "code",
      "source": [
        "import numpy as np"
      ],
      "metadata": {
        "id": "-J4F1ysN4mLk"
      },
      "execution_count": 1,
      "outputs": []
    },
    {
      "cell_type": "markdown",
      "source": [
        "###`Q-1` Create a null vector of size 10 but the fifth value which is 1.\n",
        "\n"
      ],
      "metadata": {
        "id": "a_K8IH-C6HDK"
      }
    },
    {
      "cell_type": "code",
      "source": [
        "# method 1\n",
        "a = np.zeros(10); a[4] = 1\n",
        "print(a)"
      ],
      "metadata": {
        "id": "sTF03KsZ6QUI",
        "colab": {
          "base_uri": "https://localhost:8080/"
        },
        "outputId": "b9d165c2-92fe-4899-8d9e-e54722f10466"
      },
      "execution_count": 4,
      "outputs": [
        {
          "output_type": "execute_result",
          "data": {
            "text/plain": [
              "1"
            ]
          },
          "metadata": {},
          "execution_count": 4
        }
      ]
    },
    {
      "cell_type": "code",
      "source": [
        "# method 2\n",
        "a = np.eye(1, 10, k = 4).flatten()\n",
        "print(a)"
      ],
      "metadata": {
        "colab": {
          "base_uri": "https://localhost:8080/"
        },
        "id": "MHvnGvlSQtvF",
        "outputId": "d362784b-ab5d-4ba6-aed4-6144b57d00d9"
      },
      "execution_count": null,
      "outputs": [
        {
          "output_type": "stream",
          "name": "stdout",
          "text": [
            "[0. 0. 0. 0. 1. 0. 0. 0. 0. 0.]\n"
          ]
        }
      ]
    },
    {
      "cell_type": "markdown",
      "source": [
        "###`Q-2` Ask user to input two numbers a, b. Write a program to generate a random array of shape (a, b) and print the array and avg of the array."
      ],
      "metadata": {
        "id": "TEiG25rS6S1i"
      }
    },
    {
      "cell_type": "code",
      "source": [
        "a = int(input(\"Enter a = \"))\n",
        "b = int(input(\"Enter b = \"))\n",
        "\n",
        "arr1 = np.random.random((a, b))\n",
        "print(arr1)\n",
        "\n",
        "print(np.mean(arr1))"
      ],
      "metadata": {
        "id": "ihwn4oOH6Vh7",
        "colab": {
          "base_uri": "https://localhost:8080/"
        },
        "outputId": "35b2205f-4cdb-40d6-e227-24fe33b2227a"
      },
      "execution_count": null,
      "outputs": [
        {
          "output_type": "stream",
          "name": "stdout",
          "text": [
            "Enter a = 3\n",
            "Enter b = 4\n",
            "[[0.77376976 0.56050091 0.28349676 0.50771272]\n",
            " [0.56028105 0.6305824  0.5968936  0.22258679]\n",
            " [0.9724087  0.07936356 0.53864775 0.26561763]]\n",
            "0.4993218003995023\n"
          ]
        }
      ]
    },
    {
      "cell_type": "markdown",
      "source": [
        "###`Q-3`Write a function to create a 2d array with 1 on the border and 0 inside. Take 2-D array shape as (a,b) as parameter to function.\n",
        "\n",
        "Eg.-\n",
        "```\n",
        "[[1,1,1,1],\n",
        "[1,0,0,1],\n",
        "[1,0,0,1],\n",
        "[1,1,1,1]]\n",
        "```"
      ],
      "metadata": {
        "id": "2iEeybS06ZSq"
      }
    },
    {
      "cell_type": "code",
      "source": [
        "def create_2d_array(a, b) :\n",
        "  zero_array = np.zeros((a, b))\n",
        "  b1 = np.ones(a)\n",
        "  b2 = np.ones(b)\n",
        "\n",
        "  zero_array[[0, a-1], :] = b2\n",
        "  zero_array[:, 0] = b1.T\n",
        "  zero_array[:, b-1] = b1.T\n",
        "  return(zero_array)\n",
        "\n",
        "print(create_2d_array(4, 4))\n",
        "print(create_2d_array(5, 7))"
      ],
      "metadata": {
        "id": "gEKndkDU6ZSs"
      },
      "execution_count": null,
      "outputs": []
    },
    {
      "cell_type": "markdown",
      "source": [
        "###`Q-4` Create a vector of size 10 with values ranging from 0 to 1, both excluded.\n"
      ],
      "metadata": {
        "id": "QRJicQ8j6ZlE"
      }
    },
    {
      "cell_type": "code",
      "source": [
        "a = np.random.random(10)\n",
        "print(a)"
      ],
      "metadata": {
        "id": "eC4XLhDq6ZlF",
        "colab": {
          "base_uri": "https://localhost:8080/"
        },
        "outputId": "1926b697-e6f1-4c86-e5c4-6b5badf1f4fb"
      },
      "execution_count": null,
      "outputs": [
        {
          "output_type": "stream",
          "name": "stdout",
          "text": [
            "[0.94780552 0.11561193 0.35404773 0.63735777 0.75105964 0.59527311\n",
            " 0.3737999  0.72704774 0.02992816 0.51925294]\n"
          ]
        }
      ]
    },
    {
      "cell_type": "markdown",
      "source": [
        "###`Q-5` Can you create a identity mattrix of shape (3,4). If yes write code for it."
      ],
      "metadata": {
        "id": "vb4jK4yQ6Zs2"
      }
    },
    {
      "cell_type": "code",
      "source": [
        "# no"
      ],
      "metadata": {
        "id": "DTV_AbMS6Zs4"
      },
      "execution_count": null,
      "outputs": []
    },
    {
      "cell_type": "markdown",
      "source": [
        "###`Q-6:` Create a 5x5 matrix with row values ranging from 0 to 4."
      ],
      "metadata": {
        "id": "QtjAFm5PEntK"
      }
    },
    {
      "cell_type": "code",
      "source": [
        "a = np.random.randint(0, 5, 25).reshape(5, 5)\n",
        "print(a)"
      ],
      "metadata": {
        "id": "z2WGxRjvEuRS",
        "colab": {
          "base_uri": "https://localhost:8080/"
        },
        "outputId": "2ab94f90-d7ca-4d5a-9963-39a4268021d8"
      },
      "execution_count": null,
      "outputs": [
        {
          "output_type": "stream",
          "name": "stdout",
          "text": [
            "[[2 4 1 4 0]\n",
            " [0 1 1 3 1]\n",
            " [0 0 4 2 1]\n",
            " [0 2 0 4 1]\n",
            " [3 1 3 3 4]]\n"
          ]
        }
      ]
    },
    {
      "cell_type": "markdown",
      "source": [
        "###`Q-7:`  Consider a random integer (in range 1 to 100) vector with shape `(10,2)` representing coordinates, and coordinates of a point as array is given. Create an array of distance of each point in the random vector from the given point. Distance array should be interger type.\n",
        "\n",
        "```\n",
        "point = np.array([2,3])\n",
        "```\n"
      ],
      "metadata": {
        "id": "KPpvxKjVHnyx"
      }
    },
    {
      "cell_type": "code",
      "source": [
        "points = np.random.randint(1, 101, 20).reshape(10, 2)\n",
        "print(points)\n",
        "\n",
        "distance = np.empty((10,), dtype = np.int64)\n",
        "\n",
        "point = np.array([2, 3])\n",
        "\n",
        "for i in range(10):\n",
        "  distance[i] = np.sqrt((point[0] - points[i, 0])**2 + (point[1] - points[i, 1])**2)\n",
        "\n",
        "print(distance)"
      ],
      "metadata": {
        "id": "X7KGnWLNIM6f",
        "colab": {
          "base_uri": "https://localhost:8080/"
        },
        "outputId": "7e7e7b35-cd3a-4fdb-d8eb-9dac56bf13e1"
      },
      "execution_count": null,
      "outputs": [
        {
          "output_type": "stream",
          "name": "stdout",
          "text": [
            "[[91 27]\n",
            " [65 26]\n",
            " [16 55]\n",
            " [84 93]\n",
            " [78 79]\n",
            " [89 60]\n",
            " [46 95]\n",
            " [ 8 88]\n",
            " [76 58]\n",
            " [18 78]]\n",
            "[ 92  67  53 121 107 104 101  85  92  76]\n"
          ]
        }
      ]
    },
    {
      "cell_type": "markdown",
      "source": [
        "###`Q-8:` Consider a (6,7,8) shape array, what is the index (x,y,z) of the 100th element?"
      ],
      "metadata": {
        "id": "tajOFJlCDwTr"
      }
    },
    {
      "cell_type": "code",
      "source": [
        "# (1, 5, 3)"
      ],
      "metadata": {
        "id": "qH4oxvs0D3Ra"
      },
      "execution_count": null,
      "outputs": []
    },
    {
      "cell_type": "markdown",
      "source": [
        "### `Q-9:` Arrays\n",
        "\n",
        "You are given a space separated list of numbers. Your task is to print a reversed NumPy array with the element type float.\n",
        "\n"
      ],
      "metadata": {
        "id": "9LxBAbT2Pw33"
      }
    },
    {
      "cell_type": "markdown",
      "source": [
        "**Input Format:**\n",
        "\n",
        "A single line of input containing space separated numbers.\n",
        "\n",
        "**Output Format:**\n",
        "\n",
        "Print the reverse NumPy array with type float.\n",
        "\n",
        "**Example 1:**\n",
        "\n",
        "Input:\n",
        "\n",
        "```bash\n",
        "1 2 3 4 -8 -10\n",
        "```\n",
        "\n",
        "Output:\n",
        "\n",
        "```bash\n",
        "[-10.  -8.   4.   3.   2.   1.]\n",
        "```"
      ],
      "metadata": {
        "id": "JJpqVms2Nq7L"
      }
    },
    {
      "cell_type": "code",
      "source": [
        "numbers = input().strip().split(' ')\n",
        "numbers = [float(num) for num in numbers]\n",
        "\n",
        "print(numbers[::-1])"
      ],
      "metadata": {
        "id": "7iQyg6ChNl3j",
        "colab": {
          "base_uri": "https://localhost:8080/"
        },
        "outputId": "0c0984db-f8f8-4d06-8f9a-c33f684d73f9"
      },
      "execution_count": null,
      "outputs": [
        {
          "output_type": "stream",
          "name": "stdout",
          "text": [
            "1 2 3 4 -8 -10\n",
            "[-10.0, -8.0, 4.0, 3.0, 2.0, 1.0]\n"
          ]
        }
      ]
    },
    {
      "cell_type": "markdown",
      "source": [
        "### `Q-10:` Elements count\n",
        "\n",
        "Count the number of elements of a numpy array.\n",
        "\n"
      ],
      "metadata": {
        "id": "TPxD7jM8Sjz9"
      }
    },
    {
      "cell_type": "markdown",
      "source": [
        "**Example 1:**\n",
        "\n",
        "Input:\n",
        "```bash\n",
        "np.array([])\n",
        "```\n",
        "\n",
        "Output:\n",
        "```bash\n",
        "elements_count :  0\n",
        "```\n",
        "\n",
        "**Example 2:**\n",
        "\n",
        "Input:\n",
        "```bash\n",
        "np.array([1, 2])\n",
        "```\n",
        "\n",
        "Output:\n",
        "```bash\n",
        "elements_count :  2\n",
        "```"
      ],
      "metadata": {
        "id": "oHTiTz_jNkAU"
      }
    },
    {
      "cell_type": "code",
      "source": [
        "a = np.random.random(50)\n",
        "\n",
        "print(np.size(a))\n",
        "\n",
        "a = np.random.random(0)\n",
        "\n",
        "print(np.size(a))"
      ],
      "metadata": {
        "id": "RG0H2I-TNeGN",
        "colab": {
          "base_uri": "https://localhost:8080/"
        },
        "outputId": "9c061a3f-524c-4694-d004-ac402d90e9d4"
      },
      "execution_count": null,
      "outputs": [
        {
          "output_type": "stream",
          "name": "stdout",
          "text": [
            "50\n",
            "0\n"
          ]
        }
      ]
    },
    {
      "cell_type": "markdown",
      "source": [
        "### `Q-11:` Softmax function\n",
        "\n",
        "Create a Python function to calculate the Softmax of the given numpy 1D array. The function only accepts the numpy 1D array, otherwise raise error.\n",
        "\n",
        "$$\\Large \\sigma(\\vec z)_i = \\frac{e^{z_i}}{\\sum_{j=i}^{K}{e^{z_j}}}$$\n",
        "\n",
        "https://en.wikipedia.org/wiki/Softmax_function\n",
        "\n"
      ],
      "metadata": {
        "id": "pwgPz-3l5ic5"
      }
    },
    {
      "cell_type": "markdown",
      "source": [
        "**Example 1:**\n",
        "\n",
        "Input:\n",
        "```bash\n",
        "[86.03331084 37.7285648  48.64908087 87.16563062 38.40852563 37.20006318]\n",
        "```\n",
        "\n",
        "Output:\n",
        "```bash\n",
        "[2.43733249e-01, 2.56112115e-22, 1.41628284e-17, 7.56266751e-01,\n",
        "       5.05514197e-22, 1.50974911e-22]\n",
        "```\n",
        "\n",
        "**Example 2:**\n",
        "\n",
        "Input:\n",
        "```bash\n",
        "[33.17344305 45.61961654 82.05405781 80.9647098  68.82830233 91.52064278]\n",
        "```\n",
        "\n",
        "Output:\n",
        "```bash\n",
        "[4.57181035e-26, 1.16249923e-20, 7.73872596e-05, 2.60358426e-05,\n",
        "       1.39571531e-10, 9.99896577e-01]\n",
        "```"
      ],
      "metadata": {
        "id": "eZ3WJt6UM1ul"
      }
    },
    {
      "cell_type": "code",
      "source": [
        "def softmax(arr):\n",
        "  if arr.ndim != 1:\n",
        "    raise ValueError(\"Input must be a 1D array.\")\n",
        "\n",
        "  return(np.exp(arr) / np.sum(np.exp(arr)))\n",
        "\n",
        "a = np.array([86.03331084, 37.7285648,  48.64908087, 87.16563062, 38.40852563, 37.20006318])\n",
        "print(softmax(a))\n",
        "\n",
        "b = np.array([33.17344305, 45.61961654, 82.05405781, 80.9647098,  68.82830233, 91.52064278])\n",
        "print(softmax(b))"
      ],
      "metadata": {
        "id": "VNzj05lkNaNi",
        "colab": {
          "base_uri": "https://localhost:8080/"
        },
        "outputId": "c08871a0-b2e2-45e5-d096-1cc41916129e"
      },
      "execution_count": 8,
      "outputs": [
        {
          "output_type": "stream",
          "name": "stdout",
          "text": [
            "[2.43733248e-01 2.56112114e-22 1.41628283e-17 7.56266752e-01\n",
            " 5.05514197e-22 1.50974911e-22]\n",
            "[4.57181033e-26 1.16249922e-20 7.73872594e-05 2.60358426e-05\n",
            " 1.39571531e-10 9.99896577e-01]\n"
          ]
        }
      ]
    },
    {
      "cell_type": "markdown",
      "source": [
        "### `Q-12:` Vertical stack\n",
        "\n",
        "Write a python function that accepts infinite number of numpy arrays and do the vertical stack to them. Then return that new array as result. The function only accepts the numpy array, otherwise raise error.\n",
        "\n"
      ],
      "metadata": {
        "id": "k4JWSwWu_HXg"
      }
    },
    {
      "cell_type": "markdown",
      "source": [
        "**Example 1:**\n",
        "\n",
        "Input:\n",
        "```bash\n",
        "a= [[0 1 2 3 4]\n",
        " [5 6 7 8 9]]\n",
        "\n",
        "b= [[1 1 1 1 1]\n",
        " [1 1 1 1 1]]\n",
        "```\n",
        "\n",
        "Output:\n",
        "\n",
        "```bash\n",
        "[[0 1 2 3 4]\n",
        " [5 6 7 8 9]\n",
        " [1 1 1 1 1]\n",
        " [1 1 1 1 1]]\n",
        "```\n",
        "\n",
        "**Example 2:**\n",
        "\n",
        "Input:\n",
        "```bash\n",
        "a= [[0 1 2 3 4]\n",
        " [5 6 7 8 9]]\n",
        "\n",
        "b= [[1 1 1 1 1]\n",
        " [1 1 1 1 1]]\n",
        "\n",
        "c= [[0.10117373 0.1677244  0.73764059 0.83166097 0.48985695]\n",
        " [0.44581567 0.13502419 0.55692335 0.16479622 0.61193593]]\n",
        "```\n",
        "\n",
        "Output:\n",
        "```bash\n",
        "[[0.         1.         2.         3.         4.        ]\n",
        " [5.         6.         7.         8.         9.        ]\n",
        " [1.         1.         1.         1.         1.        ]\n",
        " [1.         1.         1.         1.         1.        ]\n",
        " [0.10117373 0.1677244  0.73764059 0.83166097 0.48985695]\n",
        " [0.44581567 0.13502419 0.55692335 0.16479622 0.61193593]]\n",
        "```"
      ],
      "metadata": {
        "id": "XhhV3mraNAWr"
      }
    },
    {
      "cell_type": "code",
      "source": [
        "def vertical_stack(*args):\n",
        "  for array in args:\n",
        "    if not isinstance(array, np.ndarray):\n",
        "      raise TypeError(f\"All inputs must be NumPy arrays. Found: {type(array)}\")\n",
        "\n",
        "  return(np.vstack(args))\n",
        "\n",
        "a = np.array([[0, 1, 2, 3, 4], [5, 6, 7, 8, 9]])\n",
        "b = np.array([[1, 1, 1, 1, 1], [1, 1, 1, 1, 1]])\n",
        "\n",
        "vertical_stack(a, b)\n",
        "\n",
        "c = np.array([[0.10117373, 0.1677244,  0.73764059, 0.83166097, 0.48985695], [0.44581567, 0.13502419, 0.55692335, 0.16479622, 0.61193593]])\n",
        "\n",
        "vertical_stack(a, b, c)"
      ],
      "metadata": {
        "id": "dhtnbSj6NP8z",
        "colab": {
          "base_uri": "https://localhost:8080/"
        },
        "outputId": "94ba5513-2dfa-487f-c8b8-71a4f75b93a3"
      },
      "execution_count": 19,
      "outputs": [
        {
          "output_type": "execute_result",
          "data": {
            "text/plain": [
              "array([[0.        , 1.        , 2.        , 3.        , 4.        ],\n",
              "       [5.        , 6.        , 7.        , 8.        , 9.        ],\n",
              "       [1.        , 1.        , 1.        , 1.        , 1.        ],\n",
              "       [1.        , 1.        , 1.        , 1.        , 1.        ],\n",
              "       [0.10117373, 0.1677244 , 0.73764059, 0.83166097, 0.48985695],\n",
              "       [0.44581567, 0.13502419, 0.55692335, 0.16479622, 0.61193593]])"
            ]
          },
          "metadata": {},
          "execution_count": 19
        }
      ]
    },
    {
      "cell_type": "markdown",
      "source": [
        "### `Q-13:` Dates\n",
        "\n",
        "Create a python function named **date_array** that accepts two dates as string format and returns a numpy array of dates between those 2 dates. The function only accept 2 strings, otherwise raise error. The date format should be like this only: `2022-12-6`. The end date should be included and for simplicity, choose dates from same month and same year.\n",
        "\n"
      ],
      "metadata": {
        "id": "3mk8T6CuC2DP"
      }
    },
    {
      "cell_type": "markdown",
      "source": [
        "**Example 1:**\n",
        "\n",
        "Input:\n",
        "```bash\n",
        "date_array(start = '2020-09-15', end = '2020-09-25')\n",
        "```\n",
        "\n",
        "Output:\n",
        "```bash\n",
        "['2020-09-15', '2020-09-16', '2020-09-17', '2020-09-18',\n",
        " '2020-09-19', '2020-09-20', '2020-09-21', '2020-09-22',\n",
        " '2020-09-23', '2020-09-24', '2020-09-25']\n",
        "```\n",
        "\n",
        "**Example 2:**\n",
        "\n",
        "Input:\n",
        "```bash\n",
        "date_array(start = '2022-12-01', end = '2022-12-06')\n",
        "```\n",
        "\n",
        "Output:\n",
        "```bash\n",
        "['2022-12-01', '2022-12-02', '2022-12-03', '2022-12-04', '2022-12-05', '2022-12-06']\n",
        "```\n",
        "\n",
        "**Example 3:**\n",
        "\n",
        "Input:\n",
        "```bash\n",
        "date_array(start = '2020-11-25', end = '2020-11-30')\n",
        "```\n",
        "\n",
        "Output:\n",
        "```bash\n",
        "['2020-11-25', '2020-11-26', '2020-11-27', '2020-11-28',\n",
        " '2020-11-29', '2020-11-30']\n",
        "```"
      ],
      "metadata": {
        "id": "E3IgjnTTNFEk"
      }
    },
    {
      "cell_type": "code",
      "source": [
        "def date_array(start, end):\n",
        "  if not isinstance(start, str) or not isinstance(end , str) :\n",
        "    raise TypeError(\"All the inputs must be strings.\")\n",
        "\n",
        "  dates = np.arange(int(start[-2:]), int(end[-2:]) + 1)\n",
        "\n",
        "  output = []\n",
        "\n",
        "  for i in range(len(dates)):\n",
        "    output.append(start[0:8] + str(dates[i]))\n",
        "\n",
        "  return(output)\n",
        "\n",
        "print(date_array(start = '2022-12-01', end = '2022-12-06'))\n",
        "\n",
        "print(date_array(start = '2020-11-25', end = '2020-11-30'))"
      ],
      "metadata": {
        "id": "Yj5PBfQQNTnL",
        "colab": {
          "base_uri": "https://localhost:8080/"
        },
        "outputId": "7a0b4bf0-210c-4804-e89e-2b70fb778db6"
      },
      "execution_count": 52,
      "outputs": [
        {
          "output_type": "stream",
          "name": "stdout",
          "text": [
            "['2022-12-1', '2022-12-2', '2022-12-3', '2022-12-4', '2022-12-5', '2022-12-6']\n",
            "['2020-11-25', '2020-11-26', '2020-11-27', '2020-11-28', '2020-11-29', '2020-11-30']\n"
          ]
        }
      ]
    },
    {
      "cell_type": "markdown",
      "source": [
        "###`Q-14:` Subtract the mean of each row from corresponding row of a matrix."
      ],
      "metadata": {
        "id": "bcEp0wTWQijK"
      }
    },
    {
      "cell_type": "code",
      "source": [
        "mat = np.random.randint(0, 100, 24).reshape(6, 4)\n",
        "print(mat)\n",
        "\n",
        "rowmeans = np.mean(mat, axis = 1)\n",
        "print(rowmeans)\n",
        "\n",
        "for i in range(mat.shape[0]) :\n",
        "  mat[i] = mat[i] - rowmeans[i]\n",
        "\n",
        "print(mat)"
      ],
      "metadata": {
        "id": "rpILVGcgQzMo",
        "colab": {
          "base_uri": "https://localhost:8080/"
        },
        "outputId": "fc0b43b6-efe8-4ba8-bb6d-bbcc508d9ee9"
      },
      "execution_count": 55,
      "outputs": [
        {
          "output_type": "stream",
          "name": "stdout",
          "text": [
            "[[46 72 34 96]\n",
            " [45 82 44 10]\n",
            " [43 88 26 82]\n",
            " [86 83 78 41]\n",
            " [28 42 19 77]\n",
            " [26 56 15  2]]\n",
            "[62.   45.25 59.75 72.   41.5  24.75]\n",
            "[[-16  10 -28  34]\n",
            " [  0  36  -1 -35]\n",
            " [-16  28 -33  22]\n",
            " [ 14  11   6 -31]\n",
            " [-13   0 -22  35]\n",
            " [  1  31  -9 -22]]\n"
          ]
        }
      ]
    },
    {
      "cell_type": "markdown",
      "source": [
        "###`Q-15:` Swap column-1 of array with column-2 in the array."
      ],
      "metadata": {
        "id": "A-dMVlPPSBTT"
      }
    },
    {
      "cell_type": "code",
      "source": [
        "a = np.arange(12).reshape(3, 4)\n",
        "print(a)\n",
        "\n",
        "a[:, [0, 1]] = a[:, [1, 0]]\n",
        "\n",
        "print(a)"
      ],
      "metadata": {
        "id": "3RtngM9-Q6S7",
        "colab": {
          "base_uri": "https://localhost:8080/"
        },
        "outputId": "ee6733f7-653e-4b28-f871-bdba1c745004"
      },
      "execution_count": 56,
      "outputs": [
        {
          "output_type": "stream",
          "name": "stdout",
          "text": [
            "[[ 0  1  2  3]\n",
            " [ 4  5  6  7]\n",
            " [ 8  9 10 11]]\n",
            "[[ 1  0  2  3]\n",
            " [ 5  4  6  7]\n",
            " [ 9  8 10 11]]\n"
          ]
        }
      ]
    },
    {
      "cell_type": "markdown",
      "source": [
        "###`Q-16:` Replace odd elements in arrays with -1."
      ],
      "metadata": {
        "id": "cB4VMexvS6Zi"
      }
    },
    {
      "cell_type": "code",
      "source": [
        "a = np.random.randint(0, 20, 10)\n",
        "print(a)\n",
        "\n",
        "a = np.where(a % 2 != 0, -1, a)\n",
        "print(a)"
      ],
      "metadata": {
        "id": "Bt83nXEVS5O4",
        "colab": {
          "base_uri": "https://localhost:8080/"
        },
        "outputId": "a603d922-0b54-4119-a176-510562f9dc95"
      },
      "execution_count": 57,
      "outputs": [
        {
          "output_type": "stream",
          "name": "stdout",
          "text": [
            "[11 18  1 11  5  2  3  9 13  4]\n",
            "[-1 18 -1 -1 -1  2 -1 -1 -1  4]\n"
          ]
        }
      ]
    },
    {
      "cell_type": "markdown",
      "source": [
        "###`Q-17:` Given two arrays of same shape make an array of max out of two arrays. (Numpy way)\n",
        "```\n",
        "a=np.array([6,3,1,5,8])\n",
        "b=np.array([3,2,1,7,2])\n",
        "\n",
        "Result-> [6 3 1 7 8]\n",
        "```"
      ],
      "metadata": {
        "id": "kf_qvmBxWIT_"
      }
    },
    {
      "cell_type": "code",
      "source": [
        "def max_array(arr1, arr2) :\n",
        "  stacked = np.vstack([arr1, arr2])\n",
        "  return(np.max(stacked, axis = 0))\n",
        "\n",
        "a = np.array([6,3,1,5,8])\n",
        "b = np.array([3,2,1,7,2])\n",
        "\n",
        "print(max_array(a, b))"
      ],
      "metadata": {
        "id": "TB9ZvF-EZSfu",
        "colab": {
          "base_uri": "https://localhost:8080/"
        },
        "outputId": "d2095a89-afb9-419b-8306-54f5786e6050"
      },
      "execution_count": 61,
      "outputs": [
        {
          "output_type": "stream",
          "name": "stdout",
          "text": [
            "[6 3 1 7 8]\n"
          ]
        }
      ]
    },
    {
      "cell_type": "markdown",
      "source": [
        "###`Q-18` Answer below asked questions on given array:\n",
        "1. Fetch Every alternate column of the array\n",
        "2. Normalise the given array\n",
        "\n",
        "https://en.wikipedia.org/wiki/Normalization_(statistics)\n",
        "\n",
        "There are different forms of normalisation; for this question use below formula.\n",
        "\n",
        "$$\\large X_{normalized} = \\frac{X - X_{min}}{X_{max} - X_{min}}$$\n",
        "\n",
        "```python\n",
        "arr1=np.random.randint(low=1, high=10000, size=40).reshape(8,5)\n",
        "```\n"
      ],
      "metadata": {
        "id": "iOQLUIeGc3zA"
      }
    },
    {
      "cell_type": "code",
      "source": [
        "# Given\n",
        "arr1 = np.random.randint(low = 1, high = 10000, size = 40).reshape(8,5)\n",
        "arr1"
      ],
      "metadata": {
        "colab": {
          "base_uri": "https://localhost:8080/"
        },
        "id": "vjSm18k3d_1p",
        "outputId": "bc1810ff-6d45-4ce7-8f24-370bdc50d4c7"
      },
      "execution_count": 62,
      "outputs": [
        {
          "output_type": "execute_result",
          "data": {
            "text/plain": [
              "array([[9276, 6672,  329, 6541, 5600],\n",
              "       [9753, 1950, 8248, 4802, 4161],\n",
              "       [7660, 7554, 3742, 5391, 3200],\n",
              "       [9007, 1805,  257, 9075, 6040],\n",
              "       [8370, 8349, 2318, 6794, 5305],\n",
              "       [8408, 7660, 6796, 5238, 5007],\n",
              "       [8208, 2334, 8377, 8861, 6763],\n",
              "       [3154, 7732, 8947, 5095, 8801]])"
            ]
          },
          "metadata": {},
          "execution_count": 62
        }
      ]
    },
    {
      "cell_type": "code",
      "source": [
        "print(arr1[:, 0:5:2])"
      ],
      "metadata": {
        "id": "d7u8DB47eBfQ",
        "colab": {
          "base_uri": "https://localhost:8080/"
        },
        "outputId": "ad302471-f62e-481a-c447-7a25be6f1e3e"
      },
      "execution_count": 66,
      "outputs": [
        {
          "output_type": "stream",
          "name": "stdout",
          "text": [
            "[[9276  329 5600]\n",
            " [9753 8248 4161]\n",
            " [7660 3742 3200]\n",
            " [9007  257 6040]\n",
            " [8370 2318 5305]\n",
            " [8408 6796 5007]\n",
            " [8208 8377 6763]\n",
            " [3154 8947 8801]]\n"
          ]
        }
      ]
    },
    {
      "cell_type": "code",
      "source": [
        "print((arr1 - np.min(arr1)) / (np.max(arr1) - np.min(arr1)))"
      ],
      "metadata": {
        "colab": {
          "base_uri": "https://localhost:8080/"
        },
        "id": "ynz6cwUw32KX",
        "outputId": "92faadd9-cf91-4f23-dc22-697ef1e60927"
      },
      "execution_count": 67,
      "outputs": [
        {
          "output_type": "stream",
          "name": "stdout",
          "text": [
            "[[0.94976832 0.6755476  0.00758214 0.66175232 0.56265796]\n",
            " [1.         0.17828559 0.84151222 0.47862258 0.41112047]\n",
            " [0.77959141 0.76842881 0.36699663 0.54064869 0.30991997]\n",
            " [0.92144061 0.16301601 0.         0.92860152 0.60899326]\n",
            " [0.85435973 0.85214827 0.21703875 0.68839511 0.53159225]\n",
            " [0.85836142 0.77959141 0.68860573 0.52453665 0.50021061]\n",
            " [0.83729992 0.21872367 0.85509688 0.90606571 0.68513058]\n",
            " [0.30507582 0.78717355 0.91512216 0.50947767 0.89974726]]\n"
          ]
        }
      ]
    },
    {
      "cell_type": "markdown",
      "source": [
        "###`Q-19:` Write a function which will accept 2 arguments - (1) 1D numpy array arr (2) an integer n {Please make sure n<=len(arr)} and the output should be the nth largest item out of the array.\n",
        "```\n",
        "# Example1 : arr=(12,34,40,7,1,0) and n=3, the output should be 12\n",
        "# Example2 : arr=(12,34,40,7,1,0) and n=1, the output should be 40\n",
        "```"
      ],
      "metadata": {
        "id": "jCzsVEKLgGNo"
      }
    },
    {
      "cell_type": "code",
      "source": [
        "def my_func(arr, n):\n",
        "  if n > len(arr) :\n",
        "    raise ValueError(\"n must be less than or equal to the length of the given array.\")\n",
        "\n",
        "  return(-np.sort(-arr)[n-1])\n",
        "\n",
        "arr = np.array([12, 34, 40, 7, 1, 0])\n",
        "\n",
        "print(my_func(arr, 3))\n",
        "\n",
        "print(my_func(arr, 1))"
      ],
      "metadata": {
        "id": "J4AzkDk7gXSG",
        "colab": {
          "base_uri": "https://localhost:8080/"
        },
        "outputId": "a0db0e94-6f97-4bbe-d3eb-98c080e0a586"
      },
      "execution_count": 70,
      "outputs": [
        {
          "output_type": "stream",
          "name": "stdout",
          "text": [
            "12\n",
            "40\n"
          ]
        }
      ]
    },
    {
      "cell_type": "markdown",
      "source": [
        "###`Q-20:` Create the following pattern without hardcoding. Use only numpy functions and the below input array a.\n",
        "```\n",
        "# Input: a = np.array([1,2,3])\n",
        "# Output: array([1, 1, 1, 2, 2, 2, 3, 3, 3, 1, 2, 3, 1, 2, 3, 1, 2, 3])\n",
        "```"
      ],
      "metadata": {
        "id": "ja0xPCgjhBsg"
      }
    },
    {
      "cell_type": "code",
      "source": [
        "a = np.array([1,2,3])\n",
        "\n",
        "a1 = np.vstack([a, a, a])\n",
        "a2 = a1.T\n",
        "\n",
        "print(np.append(a2.flatten(), a1.flatten()))"
      ],
      "metadata": {
        "id": "CndS8TTNhG0F",
        "colab": {
          "base_uri": "https://localhost:8080/"
        },
        "outputId": "a623728c-a750-46a1-d39c-77ad336cee15"
      },
      "execution_count": 88,
      "outputs": [
        {
          "output_type": "stream",
          "name": "stdout",
          "text": [
            "[1 2 3 1 2 3 1 2 3]\n",
            "[1 1 1 2 2 2 3 3 3]\n",
            "[1 1 1 2 2 2 3 3 3 1 2 3 1 2 3 1 2 3]\n"
          ]
        }
      ]
    }
  ]
}